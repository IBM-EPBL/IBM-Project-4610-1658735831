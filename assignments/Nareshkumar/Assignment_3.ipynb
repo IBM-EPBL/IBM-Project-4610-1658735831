{
 "cells": [
  {
   "cell_type": "markdown",
   "metadata": {},
   "source": [
    "# ***ASSIGNMENT -3***"
   ]
  },
  {
   "cell_type": "markdown",
   "metadata": {
    "id": "xWTAW4mehtWn"
   },
   "source": [
    "# ***1. Download the dataset: Dataset***"
   ]
  },
  {
   "cell_type": "code",
   "execution_count": 2,
   "metadata": {
    "id": "n3k3GK7fg1XB"
   },
   "outputs": [],
   "source": [
    "import pandas as pd\n",
    "import numpy as np"
   ]
  },
  {
   "cell_type": "code",
   "execution_count": 3,
   "metadata": {
    "id": "hfsxtEgLhHtH"
   },
   "outputs": [],
   "source": [
    "import matplotlib.pyplot as plt\n",
    "import seaborn as sns"
   ]
  },
  {
   "cell_type": "markdown",
   "metadata": {
    "id": "i5fT8gE4hxaZ"
   },
   "source": [
    "# ***2. Load the dataset into the tool.***"
   ]
  },
  {
   "cell_type": "code",
   "execution_count": 4,
   "metadata": {
    "colab": {
     "base_uri": "https://localhost:8080/",
     "height": 206
    },
    "id": "bZdYRZ7lhNg7",
    "outputId": "5a3c389c-10ee-4f00-9bff-233bed2cc931"
   },
   "outputs": [
    {
     "data": {
      "text/html": [
       "\n",
       "  <div id=\"df-22f1d0bd-56fa-4c7a-b74c-b43c28a78099\">\n",
       "    <div class=\"colab-df-container\">\n",
       "      <div>\n",
       "<style scoped>\n",
       "    .dataframe tbody tr th:only-of-type {\n",
       "        vertical-align: middle;\n",
       "    }\n",
       "\n",
       "    .dataframe tbody tr th {\n",
       "        vertical-align: top;\n",
       "    }\n",
       "\n",
       "    .dataframe thead th {\n",
       "        text-align: right;\n",
       "    }\n",
       "</style>\n",
       "<table border=\"1\" class=\"dataframe\">\n",
       "  <thead>\n",
       "    <tr style=\"text-align: right;\">\n",
       "      <th></th>\n",
       "      <th>Sex</th>\n",
       "      <th>Length</th>\n",
       "      <th>Diameter</th>\n",
       "      <th>Height</th>\n",
       "      <th>Whole weight</th>\n",
       "      <th>Shucked weight</th>\n",
       "      <th>Viscera weight</th>\n",
       "      <th>Shell weight</th>\n",
       "      <th>Rings</th>\n",
       "    </tr>\n",
       "  </thead>\n",
       "  <tbody>\n",
       "    <tr>\n",
       "      <th>0</th>\n",
       "      <td>M</td>\n",
       "      <td>0.455</td>\n",
       "      <td>0.365</td>\n",
       "      <td>0.095</td>\n",
       "      <td>0.5140</td>\n",
       "      <td>0.2245</td>\n",
       "      <td>0.1010</td>\n",
       "      <td>0.150</td>\n",
       "      <td>15</td>\n",
       "    </tr>\n",
       "    <tr>\n",
       "      <th>1</th>\n",
       "      <td>M</td>\n",
       "      <td>0.350</td>\n",
       "      <td>0.265</td>\n",
       "      <td>0.090</td>\n",
       "      <td>0.2255</td>\n",
       "      <td>0.0995</td>\n",
       "      <td>0.0485</td>\n",
       "      <td>0.070</td>\n",
       "      <td>7</td>\n",
       "    </tr>\n",
       "    <tr>\n",
       "      <th>2</th>\n",
       "      <td>F</td>\n",
       "      <td>0.530</td>\n",
       "      <td>0.420</td>\n",
       "      <td>0.135</td>\n",
       "      <td>0.6770</td>\n",
       "      <td>0.2565</td>\n",
       "      <td>0.1415</td>\n",
       "      <td>0.210</td>\n",
       "      <td>9</td>\n",
       "    </tr>\n",
       "    <tr>\n",
       "      <th>3</th>\n",
       "      <td>M</td>\n",
       "      <td>0.440</td>\n",
       "      <td>0.365</td>\n",
       "      <td>0.125</td>\n",
       "      <td>0.5160</td>\n",
       "      <td>0.2155</td>\n",
       "      <td>0.1140</td>\n",
       "      <td>0.155</td>\n",
       "      <td>10</td>\n",
       "    </tr>\n",
       "    <tr>\n",
       "      <th>4</th>\n",
       "      <td>I</td>\n",
       "      <td>0.330</td>\n",
       "      <td>0.255</td>\n",
       "      <td>0.080</td>\n",
       "      <td>0.2050</td>\n",
       "      <td>0.0895</td>\n",
       "      <td>0.0395</td>\n",
       "      <td>0.055</td>\n",
       "      <td>7</td>\n",
       "    </tr>\n",
       "  </tbody>\n",
       "</table>\n",
       "</div>\n",
       "      <button class=\"colab-df-convert\" onclick=\"convertToInteractive('df-22f1d0bd-56fa-4c7a-b74c-b43c28a78099')\"\n",
       "              title=\"Convert this dataframe to an interactive table.\"\n",
       "              style=\"display:none;\">\n",
       "        \n",
       "  <svg xmlns=\"http://www.w3.org/2000/svg\" height=\"24px\"viewBox=\"0 0 24 24\"\n",
       "       width=\"24px\">\n",
       "    <path d=\"M0 0h24v24H0V0z\" fill=\"none\"/>\n",
       "    <path d=\"M18.56 5.44l.94 2.06.94-2.06 2.06-.94-2.06-.94-.94-2.06-.94 2.06-2.06.94zm-11 1L8.5 8.5l.94-2.06 2.06-.94-2.06-.94L8.5 2.5l-.94 2.06-2.06.94zm10 10l.94 2.06.94-2.06 2.06-.94-2.06-.94-.94-2.06-.94 2.06-2.06.94z\"/><path d=\"M17.41 7.96l-1.37-1.37c-.4-.4-.92-.59-1.43-.59-.52 0-1.04.2-1.43.59L10.3 9.45l-7.72 7.72c-.78.78-.78 2.05 0 2.83L4 21.41c.39.39.9.59 1.41.59.51 0 1.02-.2 1.41-.59l7.78-7.78 2.81-2.81c.8-.78.8-2.07 0-2.86zM5.41 20L4 18.59l7.72-7.72 1.47 1.35L5.41 20z\"/>\n",
       "  </svg>\n",
       "      </button>\n",
       "      \n",
       "  <style>\n",
       "    .colab-df-container {\n",
       "      display:flex;\n",
       "      flex-wrap:wrap;\n",
       "      gap: 12px;\n",
       "    }\n",
       "\n",
       "    .colab-df-convert {\n",
       "      background-color: #E8F0FE;\n",
       "      border: none;\n",
       "      border-radius: 50%;\n",
       "      cursor: pointer;\n",
       "      display: none;\n",
       "      fill: #1967D2;\n",
       "      height: 32px;\n",
       "      padding: 0 0 0 0;\n",
       "      width: 32px;\n",
       "    }\n",
       "\n",
       "    .colab-df-convert:hover {\n",
       "      background-color: #E2EBFA;\n",
       "      box-shadow: 0px 1px 2px rgba(60, 64, 67, 0.3), 0px 1px 3px 1px rgba(60, 64, 67, 0.15);\n",
       "      fill: #174EA6;\n",
       "    }\n",
       "\n",
       "    [theme=dark] .colab-df-convert {\n",
       "      background-color: #3B4455;\n",
       "      fill: #D2E3FC;\n",
       "    }\n",
       "\n",
       "    [theme=dark] .colab-df-convert:hover {\n",
       "      background-color: #434B5C;\n",
       "      box-shadow: 0px 1px 3px 1px rgba(0, 0, 0, 0.15);\n",
       "      filter: drop-shadow(0px 1px 2px rgba(0, 0, 0, 0.3));\n",
       "      fill: #FFFFFF;\n",
       "    }\n",
       "  </style>\n",
       "\n",
       "      <script>\n",
       "        const buttonEl =\n",
       "          document.querySelector('#df-22f1d0bd-56fa-4c7a-b74c-b43c28a78099 button.colab-df-convert');\n",
       "        buttonEl.style.display =\n",
       "          google.colab.kernel.accessAllowed ? 'block' : 'none';\n",
       "\n",
       "        async function convertToInteractive(key) {\n",
       "          const element = document.querySelector('#df-22f1d0bd-56fa-4c7a-b74c-b43c28a78099');\n",
       "          const dataTable =\n",
       "            await google.colab.kernel.invokeFunction('convertToInteractive',\n",
       "                                                     [key], {});\n",
       "          if (!dataTable) return;\n",
       "\n",
       "          const docLinkHtml = 'Like what you see? Visit the ' +\n",
       "            '<a target=\"_blank\" href=https://colab.research.google.com/notebooks/data_table.ipynb>data table notebook</a>'\n",
       "            + ' to learn more about interactive tables.';\n",
       "          element.innerHTML = '';\n",
       "          dataTable['output_type'] = 'display_data';\n",
       "          await google.colab.output.renderOutput(dataTable, element);\n",
       "          const docLink = document.createElement('div');\n",
       "          docLink.innerHTML = docLinkHtml;\n",
       "          element.appendChild(docLink);\n",
       "        }\n",
       "      </script>\n",
       "    </div>\n",
       "  </div>\n",
       "  "
      ],
      "text/plain": [
       "  Sex  Length  Diameter  Height  Whole weight  Shucked weight  Viscera weight  \\\n",
       "0   M   0.455     0.365   0.095        0.5140          0.2245          0.1010   \n",
       "1   M   0.350     0.265   0.090        0.2255          0.0995          0.0485   \n",
       "2   F   0.530     0.420   0.135        0.6770          0.2565          0.1415   \n",
       "3   M   0.440     0.365   0.125        0.5160          0.2155          0.1140   \n",
       "4   I   0.330     0.255   0.080        0.2050          0.0895          0.0395   \n",
       "\n",
       "   Shell weight  Rings  \n",
       "0         0.150     15  \n",
       "1         0.070      7  \n",
       "2         0.210      9  \n",
       "3         0.155     10  \n",
       "4         0.055      7  "
      ]
     },
     "execution_count": 4,
     "metadata": {},
     "output_type": "execute_result"
    }
   ],
   "source": [
    "data = pd.read_csv(\"/content/abalone.csv\")\n",
    "data.head()"
   ]
  },
  {
   "cell_type": "markdown",
   "metadata": {
    "id": "Klt6Zqn7h3ls"
   },
   "source": [
    "# ***3. Univariate Analysis***"
   ]
  },
  {
   "cell_type": "code",
   "execution_count": 4,
   "metadata": {
    "colab": {
     "base_uri": "https://localhost:8080/"
    },
    "id": "UgbBq75qhX73",
    "outputId": "eb0aa095-2673-4d71-e51e-a5782552cbbe"
   },
   "outputs": [
    {
     "name": "stdout",
     "output_type": "stream",
     "text": [
      "<class 'pandas.core.frame.DataFrame'>\n",
      "RangeIndex: 4177 entries, 0 to 4176\n",
      "Data columns (total 9 columns):\n",
      " #   Column          Non-Null Count  Dtype  \n",
      "---  ------          --------------  -----  \n",
      " 0   Sex             4177 non-null   object \n",
      " 1   Length          4177 non-null   float64\n",
      " 2   Diameter        4177 non-null   float64\n",
      " 3   Height          4177 non-null   float64\n",
      " 4   Whole weight    4177 non-null   float64\n",
      " 5   Shucked weight  4177 non-null   float64\n",
      " 6   Viscera weight  4177 non-null   float64\n",
      " 7   Shell weight    4177 non-null   float64\n",
      " 8   Rings           4177 non-null   int64  \n",
      "dtypes: float64(7), int64(1), object(1)\n",
      "memory usage: 293.8+ KB\n"
     ]
    }
   ],
   "source": [
    "data.info()"
   ]
  },
  {
   "cell_type": "code",
   "execution_count": 5,
   "metadata": {
    "colab": {
     "base_uri": "https://localhost:8080/"
    },
    "id": "omzG_GyviTiq",
    "outputId": "2700cfca-b05f-4b1c-e734-5959d605fb13"
   },
   "outputs": [
    {
     "data": {
      "text/plain": [
       "count    4177.000000\n",
       "mean        0.523992\n",
       "std         0.120093\n",
       "min         0.075000\n",
       "25%         0.450000\n",
       "50%         0.545000\n",
       "75%         0.615000\n",
       "max         0.815000\n",
       "Name: Length, dtype: float64"
      ]
     },
     "execution_count": 5,
     "metadata": {},
     "output_type": "execute_result"
    }
   ],
   "source": [
    "data.Length.describe()"
   ]
  },
  {
   "cell_type": "code",
   "execution_count": 8,
   "metadata": {
    "colab": {
     "base_uri": "https://localhost:8080/",
     "height": 486
    },
    "id": "jnnyvruki4oM",
    "outputId": "a224e3e9-5718-46f5-cd58-75ce9d7c08e9"
   },
   "outputs": [
    {
     "data": {
      "text/html": [
       "\n",
       "  <div id=\"df-be78ce4c-3150-4f27-b4bc-672cc5a952b0\">\n",
       "    <div class=\"colab-df-container\">\n",
       "      <div>\n",
       "<style scoped>\n",
       "    .dataframe tbody tr th:only-of-type {\n",
       "        vertical-align: middle;\n",
       "    }\n",
       "\n",
       "    .dataframe tbody tr th {\n",
       "        vertical-align: top;\n",
       "    }\n",
       "\n",
       "    .dataframe thead tr th {\n",
       "        text-align: left;\n",
       "    }\n",
       "\n",
       "    .dataframe thead tr:last-of-type th {\n",
       "        text-align: right;\n",
       "    }\n",
       "</style>\n",
       "<table border=\"1\" class=\"dataframe\">\n",
       "  <thead>\n",
       "    <tr>\n",
       "      <th></th>\n",
       "      <th colspan=\"3\" halign=\"left\">Diameter</th>\n",
       "      <th colspan=\"3\" halign=\"left\">Height</th>\n",
       "      <th colspan=\"3\" halign=\"left\">Whole weight</th>\n",
       "      <th colspan=\"3\" halign=\"left\">Shucked weight</th>\n",
       "      <th colspan=\"3\" halign=\"left\">Viscera weight</th>\n",
       "      <th colspan=\"3\" halign=\"left\">Shell weight</th>\n",
       "      <th colspan=\"3\" halign=\"left\">Rings</th>\n",
       "    </tr>\n",
       "    <tr>\n",
       "      <th></th>\n",
       "      <th>min</th>\n",
       "      <th>median</th>\n",
       "      <th>max</th>\n",
       "      <th>min</th>\n",
       "      <th>median</th>\n",
       "      <th>max</th>\n",
       "      <th>min</th>\n",
       "      <th>median</th>\n",
       "      <th>max</th>\n",
       "      <th>min</th>\n",
       "      <th>...</th>\n",
       "      <th>max</th>\n",
       "      <th>min</th>\n",
       "      <th>median</th>\n",
       "      <th>max</th>\n",
       "      <th>min</th>\n",
       "      <th>median</th>\n",
       "      <th>max</th>\n",
       "      <th>min</th>\n",
       "      <th>median</th>\n",
       "      <th>max</th>\n",
       "    </tr>\n",
       "    <tr>\n",
       "      <th>Length</th>\n",
       "      <th></th>\n",
       "      <th></th>\n",
       "      <th></th>\n",
       "      <th></th>\n",
       "      <th></th>\n",
       "      <th></th>\n",
       "      <th></th>\n",
       "      <th></th>\n",
       "      <th></th>\n",
       "      <th></th>\n",
       "      <th></th>\n",
       "      <th></th>\n",
       "      <th></th>\n",
       "      <th></th>\n",
       "      <th></th>\n",
       "      <th></th>\n",
       "      <th></th>\n",
       "      <th></th>\n",
       "      <th></th>\n",
       "      <th></th>\n",
       "      <th></th>\n",
       "    </tr>\n",
       "  </thead>\n",
       "  <tbody>\n",
       "    <tr>\n",
       "      <th>0.075</th>\n",
       "      <td>0.055</td>\n",
       "      <td>0.0550</td>\n",
       "      <td>0.055</td>\n",
       "      <td>0.010</td>\n",
       "      <td>0.0100</td>\n",
       "      <td>0.010</td>\n",
       "      <td>0.0020</td>\n",
       "      <td>0.00200</td>\n",
       "      <td>0.0020</td>\n",
       "      <td>0.0010</td>\n",
       "      <td>...</td>\n",
       "      <td>0.0010</td>\n",
       "      <td>0.0005</td>\n",
       "      <td>0.00050</td>\n",
       "      <td>0.0005</td>\n",
       "      <td>0.0015</td>\n",
       "      <td>0.00150</td>\n",
       "      <td>0.0015</td>\n",
       "      <td>1</td>\n",
       "      <td>1.0</td>\n",
       "      <td>1</td>\n",
       "    </tr>\n",
       "    <tr>\n",
       "      <th>0.110</th>\n",
       "      <td>0.090</td>\n",
       "      <td>0.0900</td>\n",
       "      <td>0.090</td>\n",
       "      <td>0.030</td>\n",
       "      <td>0.0300</td>\n",
       "      <td>0.030</td>\n",
       "      <td>0.0080</td>\n",
       "      <td>0.00800</td>\n",
       "      <td>0.0080</td>\n",
       "      <td>0.0025</td>\n",
       "      <td>...</td>\n",
       "      <td>0.0025</td>\n",
       "      <td>0.0020</td>\n",
       "      <td>0.00200</td>\n",
       "      <td>0.0020</td>\n",
       "      <td>0.0030</td>\n",
       "      <td>0.00300</td>\n",
       "      <td>0.0030</td>\n",
       "      <td>3</td>\n",
       "      <td>3.0</td>\n",
       "      <td>3</td>\n",
       "    </tr>\n",
       "    <tr>\n",
       "      <th>0.130</th>\n",
       "      <td>0.095</td>\n",
       "      <td>0.0975</td>\n",
       "      <td>0.100</td>\n",
       "      <td>0.030</td>\n",
       "      <td>0.0325</td>\n",
       "      <td>0.035</td>\n",
       "      <td>0.0105</td>\n",
       "      <td>0.01175</td>\n",
       "      <td>0.0130</td>\n",
       "      <td>0.0045</td>\n",
       "      <td>...</td>\n",
       "      <td>0.0050</td>\n",
       "      <td>0.0030</td>\n",
       "      <td>0.00475</td>\n",
       "      <td>0.0065</td>\n",
       "      <td>0.0035</td>\n",
       "      <td>0.00375</td>\n",
       "      <td>0.0040</td>\n",
       "      <td>3</td>\n",
       "      <td>3.5</td>\n",
       "      <td>4</td>\n",
       "    </tr>\n",
       "    <tr>\n",
       "      <th>0.135</th>\n",
       "      <td>0.130</td>\n",
       "      <td>0.1300</td>\n",
       "      <td>0.130</td>\n",
       "      <td>0.040</td>\n",
       "      <td>0.0400</td>\n",
       "      <td>0.040</td>\n",
       "      <td>0.0290</td>\n",
       "      <td>0.02900</td>\n",
       "      <td>0.0290</td>\n",
       "      <td>0.0125</td>\n",
       "      <td>...</td>\n",
       "      <td>0.0125</td>\n",
       "      <td>0.0065</td>\n",
       "      <td>0.00650</td>\n",
       "      <td>0.0065</td>\n",
       "      <td>0.0080</td>\n",
       "      <td>0.00800</td>\n",
       "      <td>0.0080</td>\n",
       "      <td>4</td>\n",
       "      <td>4.0</td>\n",
       "      <td>4</td>\n",
       "    </tr>\n",
       "    <tr>\n",
       "      <th>0.140</th>\n",
       "      <td>0.105</td>\n",
       "      <td>0.1050</td>\n",
       "      <td>0.105</td>\n",
       "      <td>0.035</td>\n",
       "      <td>0.0350</td>\n",
       "      <td>0.035</td>\n",
       "      <td>0.0140</td>\n",
       "      <td>0.01425</td>\n",
       "      <td>0.0145</td>\n",
       "      <td>0.0050</td>\n",
       "      <td>...</td>\n",
       "      <td>0.0055</td>\n",
       "      <td>0.0025</td>\n",
       "      <td>0.00300</td>\n",
       "      <td>0.0035</td>\n",
       "      <td>0.0040</td>\n",
       "      <td>0.00450</td>\n",
       "      <td>0.0050</td>\n",
       "      <td>3</td>\n",
       "      <td>3.5</td>\n",
       "      <td>4</td>\n",
       "    </tr>\n",
       "    <tr>\n",
       "      <th>...</th>\n",
       "      <td>...</td>\n",
       "      <td>...</td>\n",
       "      <td>...</td>\n",
       "      <td>...</td>\n",
       "      <td>...</td>\n",
       "      <td>...</td>\n",
       "      <td>...</td>\n",
       "      <td>...</td>\n",
       "      <td>...</td>\n",
       "      <td>...</td>\n",
       "      <td>...</td>\n",
       "      <td>...</td>\n",
       "      <td>...</td>\n",
       "      <td>...</td>\n",
       "      <td>...</td>\n",
       "      <td>...</td>\n",
       "      <td>...</td>\n",
       "      <td>...</td>\n",
       "      <td>...</td>\n",
       "      <td>...</td>\n",
       "      <td>...</td>\n",
       "    </tr>\n",
       "    <tr>\n",
       "      <th>0.770</th>\n",
       "      <td>0.600</td>\n",
       "      <td>0.6050</td>\n",
       "      <td>0.620</td>\n",
       "      <td>0.175</td>\n",
       "      <td>0.1950</td>\n",
       "      <td>0.215</td>\n",
       "      <td>2.0505</td>\n",
       "      <td>2.19450</td>\n",
       "      <td>2.5155</td>\n",
       "      <td>0.8005</td>\n",
       "      <td>...</td>\n",
       "      <td>1.1155</td>\n",
       "      <td>0.4820</td>\n",
       "      <td>0.52600</td>\n",
       "      <td>0.6415</td>\n",
       "      <td>0.3550</td>\n",
       "      <td>0.58400</td>\n",
       "      <td>0.6420</td>\n",
       "      <td>10</td>\n",
       "      <td>11.0</td>\n",
       "      <td>12</td>\n",
       "    </tr>\n",
       "    <tr>\n",
       "      <th>0.775</th>\n",
       "      <td>0.570</td>\n",
       "      <td>0.6000</td>\n",
       "      <td>0.630</td>\n",
       "      <td>0.220</td>\n",
       "      <td>0.2350</td>\n",
       "      <td>0.250</td>\n",
       "      <td>2.0320</td>\n",
       "      <td>2.40575</td>\n",
       "      <td>2.7795</td>\n",
       "      <td>0.7350</td>\n",
       "      <td>...</td>\n",
       "      <td>1.3485</td>\n",
       "      <td>0.4755</td>\n",
       "      <td>0.61775</td>\n",
       "      <td>0.7600</td>\n",
       "      <td>0.5780</td>\n",
       "      <td>0.61825</td>\n",
       "      <td>0.6585</td>\n",
       "      <td>12</td>\n",
       "      <td>14.5</td>\n",
       "      <td>17</td>\n",
       "    </tr>\n",
       "    <tr>\n",
       "      <th>0.780</th>\n",
       "      <td>0.600</td>\n",
       "      <td>0.6150</td>\n",
       "      <td>0.630</td>\n",
       "      <td>0.210</td>\n",
       "      <td>0.2125</td>\n",
       "      <td>0.215</td>\n",
       "      <td>2.5480</td>\n",
       "      <td>2.60250</td>\n",
       "      <td>2.6570</td>\n",
       "      <td>1.1945</td>\n",
       "      <td>...</td>\n",
       "      <td>1.4880</td>\n",
       "      <td>0.4985</td>\n",
       "      <td>0.53650</td>\n",
       "      <td>0.5745</td>\n",
       "      <td>0.5860</td>\n",
       "      <td>0.63025</td>\n",
       "      <td>0.6745</td>\n",
       "      <td>11</td>\n",
       "      <td>11.0</td>\n",
       "      <td>11</td>\n",
       "    </tr>\n",
       "    <tr>\n",
       "      <th>0.800</th>\n",
       "      <td>0.630</td>\n",
       "      <td>0.6300</td>\n",
       "      <td>0.630</td>\n",
       "      <td>0.195</td>\n",
       "      <td>0.1950</td>\n",
       "      <td>0.195</td>\n",
       "      <td>2.5260</td>\n",
       "      <td>2.52600</td>\n",
       "      <td>2.5260</td>\n",
       "      <td>0.9330</td>\n",
       "      <td>...</td>\n",
       "      <td>0.9330</td>\n",
       "      <td>0.5900</td>\n",
       "      <td>0.59000</td>\n",
       "      <td>0.5900</td>\n",
       "      <td>0.6200</td>\n",
       "      <td>0.62000</td>\n",
       "      <td>0.6200</td>\n",
       "      <td>23</td>\n",
       "      <td>23.0</td>\n",
       "      <td>23</td>\n",
       "    </tr>\n",
       "    <tr>\n",
       "      <th>0.815</th>\n",
       "      <td>0.650</td>\n",
       "      <td>0.6500</td>\n",
       "      <td>0.650</td>\n",
       "      <td>0.250</td>\n",
       "      <td>0.2500</td>\n",
       "      <td>0.250</td>\n",
       "      <td>2.2550</td>\n",
       "      <td>2.25500</td>\n",
       "      <td>2.2550</td>\n",
       "      <td>0.8905</td>\n",
       "      <td>...</td>\n",
       "      <td>0.8905</td>\n",
       "      <td>0.4200</td>\n",
       "      <td>0.42000</td>\n",
       "      <td>0.4200</td>\n",
       "      <td>0.7975</td>\n",
       "      <td>0.79750</td>\n",
       "      <td>0.7975</td>\n",
       "      <td>14</td>\n",
       "      <td>14.0</td>\n",
       "      <td>14</td>\n",
       "    </tr>\n",
       "  </tbody>\n",
       "</table>\n",
       "<p>134 rows × 21 columns</p>\n",
       "</div>\n",
       "      <button class=\"colab-df-convert\" onclick=\"convertToInteractive('df-be78ce4c-3150-4f27-b4bc-672cc5a952b0')\"\n",
       "              title=\"Convert this dataframe to an interactive table.\"\n",
       "              style=\"display:none;\">\n",
       "        \n",
       "  <svg xmlns=\"http://www.w3.org/2000/svg\" height=\"24px\"viewBox=\"0 0 24 24\"\n",
       "       width=\"24px\">\n",
       "    <path d=\"M0 0h24v24H0V0z\" fill=\"none\"/>\n",
       "    <path d=\"M18.56 5.44l.94 2.06.94-2.06 2.06-.94-2.06-.94-.94-2.06-.94 2.06-2.06.94zm-11 1L8.5 8.5l.94-2.06 2.06-.94-2.06-.94L8.5 2.5l-.94 2.06-2.06.94zm10 10l.94 2.06.94-2.06 2.06-.94-2.06-.94-.94-2.06-.94 2.06-2.06.94z\"/><path d=\"M17.41 7.96l-1.37-1.37c-.4-.4-.92-.59-1.43-.59-.52 0-1.04.2-1.43.59L10.3 9.45l-7.72 7.72c-.78.78-.78 2.05 0 2.83L4 21.41c.39.39.9.59 1.41.59.51 0 1.02-.2 1.41-.59l7.78-7.78 2.81-2.81c.8-.78.8-2.07 0-2.86zM5.41 20L4 18.59l7.72-7.72 1.47 1.35L5.41 20z\"/>\n",
       "  </svg>\n",
       "      </button>\n",
       "      \n",
       "  <style>\n",
       "    .colab-df-container {\n",
       "      display:flex;\n",
       "      flex-wrap:wrap;\n",
       "      gap: 12px;\n",
       "    }\n",
       "\n",
       "    .colab-df-convert {\n",
       "      background-color: #E8F0FE;\n",
       "      border: none;\n",
       "      border-radius: 50%;\n",
       "      cursor: pointer;\n",
       "      display: none;\n",
       "      fill: #1967D2;\n",
       "      height: 32px;\n",
       "      padding: 0 0 0 0;\n",
       "      width: 32px;\n",
       "    }\n",
       "\n",
       "    .colab-df-convert:hover {\n",
       "      background-color: #E2EBFA;\n",
       "      box-shadow: 0px 1px 2px rgba(60, 64, 67, 0.3), 0px 1px 3px 1px rgba(60, 64, 67, 0.15);\n",
       "      fill: #174EA6;\n",
       "    }\n",
       "\n",
       "    [theme=dark] .colab-df-convert {\n",
       "      background-color: #3B4455;\n",
       "      fill: #D2E3FC;\n",
       "    }\n",
       "\n",
       "    [theme=dark] .colab-df-convert:hover {\n",
       "      background-color: #434B5C;\n",
       "      box-shadow: 0px 1px 3px 1px rgba(0, 0, 0, 0.15);\n",
       "      filter: drop-shadow(0px 1px 2px rgba(0, 0, 0, 0.3));\n",
       "      fill: #FFFFFF;\n",
       "    }\n",
       "  </style>\n",
       "\n",
       "      <script>\n",
       "        const buttonEl =\n",
       "          document.querySelector('#df-be78ce4c-3150-4f27-b4bc-672cc5a952b0 button.colab-df-convert');\n",
       "        buttonEl.style.display =\n",
       "          google.colab.kernel.accessAllowed ? 'block' : 'none';\n",
       "\n",
       "        async function convertToInteractive(key) {\n",
       "          const element = document.querySelector('#df-be78ce4c-3150-4f27-b4bc-672cc5a952b0');\n",
       "          const dataTable =\n",
       "            await google.colab.kernel.invokeFunction('convertToInteractive',\n",
       "                                                     [key], {});\n",
       "          if (!dataTable) return;\n",
       "\n",
       "          const docLinkHtml = 'Like what you see? Visit the ' +\n",
       "            '<a target=\"_blank\" href=https://colab.research.google.com/notebooks/data_table.ipynb>data table notebook</a>'\n",
       "            + ' to learn more about interactive tables.';\n",
       "          element.innerHTML = '';\n",
       "          dataTable['output_type'] = 'display_data';\n",
       "          await google.colab.output.renderOutput(dataTable, element);\n",
       "          const docLink = document.createElement('div');\n",
       "          docLink.innerHTML = docLinkHtml;\n",
       "          element.appendChild(docLink);\n",
       "        }\n",
       "      </script>\n",
       "    </div>\n",
       "  </div>\n",
       "  "
      ],
      "text/plain": [
       "       Diameter                Height                Whole weight           \\\n",
       "            min  median    max    min  median    max          min   median   \n",
       "Length                                                                       \n",
       "0.075     0.055  0.0550  0.055  0.010  0.0100  0.010       0.0020  0.00200   \n",
       "0.110     0.090  0.0900  0.090  0.030  0.0300  0.030       0.0080  0.00800   \n",
       "0.130     0.095  0.0975  0.100  0.030  0.0325  0.035       0.0105  0.01175   \n",
       "0.135     0.130  0.1300  0.130  0.040  0.0400  0.040       0.0290  0.02900   \n",
       "0.140     0.105  0.1050  0.105  0.035  0.0350  0.035       0.0140  0.01425   \n",
       "...         ...     ...    ...    ...     ...    ...          ...      ...   \n",
       "0.770     0.600  0.6050  0.620  0.175  0.1950  0.215       2.0505  2.19450   \n",
       "0.775     0.570  0.6000  0.630  0.220  0.2350  0.250       2.0320  2.40575   \n",
       "0.780     0.600  0.6150  0.630  0.210  0.2125  0.215       2.5480  2.60250   \n",
       "0.800     0.630  0.6300  0.630  0.195  0.1950  0.195       2.5260  2.52600   \n",
       "0.815     0.650  0.6500  0.650  0.250  0.2500  0.250       2.2550  2.25500   \n",
       "\n",
       "               Shucked weight  ...         Viscera weight                   \\\n",
       "           max            min  ...     max            min   median     max   \n",
       "Length                         ...                                           \n",
       "0.075   0.0020         0.0010  ...  0.0010         0.0005  0.00050  0.0005   \n",
       "0.110   0.0080         0.0025  ...  0.0025         0.0020  0.00200  0.0020   \n",
       "0.130   0.0130         0.0045  ...  0.0050         0.0030  0.00475  0.0065   \n",
       "0.135   0.0290         0.0125  ...  0.0125         0.0065  0.00650  0.0065   \n",
       "0.140   0.0145         0.0050  ...  0.0055         0.0025  0.00300  0.0035   \n",
       "...        ...            ...  ...     ...            ...      ...     ...   \n",
       "0.770   2.5155         0.8005  ...  1.1155         0.4820  0.52600  0.6415   \n",
       "0.775   2.7795         0.7350  ...  1.3485         0.4755  0.61775  0.7600   \n",
       "0.780   2.6570         1.1945  ...  1.4880         0.4985  0.53650  0.5745   \n",
       "0.800   2.5260         0.9330  ...  0.9330         0.5900  0.59000  0.5900   \n",
       "0.815   2.2550         0.8905  ...  0.8905         0.4200  0.42000  0.4200   \n",
       "\n",
       "       Shell weight                  Rings             \n",
       "                min   median     max   min median max  \n",
       "Length                                                 \n",
       "0.075        0.0015  0.00150  0.0015     1    1.0   1  \n",
       "0.110        0.0030  0.00300  0.0030     3    3.0   3  \n",
       "0.130        0.0035  0.00375  0.0040     3    3.5   4  \n",
       "0.135        0.0080  0.00800  0.0080     4    4.0   4  \n",
       "0.140        0.0040  0.00450  0.0050     3    3.5   4  \n",
       "...             ...      ...     ...   ...    ...  ..  \n",
       "0.770        0.3550  0.58400  0.6420    10   11.0  12  \n",
       "0.775        0.5780  0.61825  0.6585    12   14.5  17  \n",
       "0.780        0.5860  0.63025  0.6745    11   11.0  11  \n",
       "0.800        0.6200  0.62000  0.6200    23   23.0  23  \n",
       "0.815        0.7975  0.79750  0.7975    14   14.0  14  \n",
       "\n",
       "[134 rows x 21 columns]"
      ]
     },
     "execution_count": 8,
     "metadata": {},
     "output_type": "execute_result"
    }
   ],
   "source": [
    "ag = data.groupby('Length').aggregate(['min', np.median, max])\n",
    "ag"
   ]
  },
  {
   "cell_type": "code",
   "execution_count": 13,
   "metadata": {
    "colab": {
     "base_uri": "https://localhost:8080/"
    },
    "id": "Jh9XAF9bj9GD",
    "outputId": "2a2c0ee5-b6e6-4f7d-c37b-255e1c6d5470"
   },
   "outputs": [
    {
     "data": {
      "text/plain": [
       "array([94, 93, 92, 87, 81, 79, 78, 75, 74, 73, 72, 70, 67, 66, 65, 64, 63,\n",
       "       62, 60, 58, 57, 55, 54, 53, 51, 50, 49, 48, 47, 46, 45, 43, 42, 41,\n",
       "       40, 38, 36, 34, 33, 32, 31, 30, 29, 28, 27, 26, 25, 23, 22, 21, 20,\n",
       "       19, 18, 16, 15, 14, 13, 11, 10,  9,  8,  7,  6,  5,  4,  3,  2,  1])"
      ]
     },
     "execution_count": 13,
     "metadata": {},
     "output_type": "execute_result"
    }
   ],
   "source": [
    "data.Length.value_counts().unique()"
   ]
  },
  {
   "cell_type": "code",
   "execution_count": 15,
   "metadata": {
    "colab": {
     "base_uri": "https://localhost:8080/"
    },
    "id": "oDtyQO0MkIDR",
    "outputId": "481d8551-688a-4045-874f-fe73b9d20085"
   },
   "outputs": [
    {
     "data": {
      "text/plain": [
       "0.13951639932966242"
      ]
     },
     "execution_count": 15,
     "metadata": {},
     "output_type": "execute_result"
    }
   ],
   "source": [
    "data.Height.mean()"
   ]
  },
  {
   "cell_type": "code",
   "execution_count": 16,
   "metadata": {
    "colab": {
     "base_uri": "https://localhost:8080/"
    },
    "id": "3UpqlHMck0M2",
    "outputId": "5546ee84-0c9b-4cdc-9f09-46548511e473"
   },
   "outputs": [
    {
     "data": {
      "text/plain": [
       "count    4177.000000\n",
       "mean        0.139516\n",
       "std         0.041827\n",
       "min         0.000000\n",
       "25%         0.115000\n",
       "50%         0.140000\n",
       "75%         0.165000\n",
       "max         1.130000\n",
       "Name: Height, dtype: float64"
      ]
     },
     "execution_count": 16,
     "metadata": {},
     "output_type": "execute_result"
    }
   ],
   "source": [
    "data.Height.describe()"
   ]
  },
  {
   "cell_type": "code",
   "execution_count": 20,
   "metadata": {
    "colab": {
     "base_uri": "https://localhost:8080/",
     "height": 1000
    },
    "id": "noRtcxgBk8jd",
    "outputId": "45bf001d-5640-4f0e-df84-f8b38be07c36"
   },
   "outputs": [
    {
     "data": {
      "text/html": [
       "\n",
       "  <div id=\"df-6ffed1d8-c3d1-4d6b-bff7-64ef196f599f\">\n",
       "    <div class=\"colab-df-container\">\n",
       "      <div>\n",
       "<style scoped>\n",
       "    .dataframe tbody tr th:only-of-type {\n",
       "        vertical-align: middle;\n",
       "    }\n",
       "\n",
       "    .dataframe tbody tr th {\n",
       "        vertical-align: top;\n",
       "    }\n",
       "\n",
       "    .dataframe thead tr th {\n",
       "        text-align: left;\n",
       "    }\n",
       "\n",
       "    .dataframe thead tr:last-of-type th {\n",
       "        text-align: right;\n",
       "    }\n",
       "</style>\n",
       "<table border=\"1\" class=\"dataframe\">\n",
       "  <thead>\n",
       "    <tr>\n",
       "      <th></th>\n",
       "      <th colspan=\"3\" halign=\"left\">Length</th>\n",
       "      <th colspan=\"3\" halign=\"left\">Diameter</th>\n",
       "      <th colspan=\"3\" halign=\"left\">Whole weight</th>\n",
       "      <th colspan=\"3\" halign=\"left\">Shucked weight</th>\n",
       "      <th colspan=\"3\" halign=\"left\">Viscera weight</th>\n",
       "      <th colspan=\"3\" halign=\"left\">Shell weight</th>\n",
       "      <th colspan=\"3\" halign=\"left\">Rings</th>\n",
       "    </tr>\n",
       "    <tr>\n",
       "      <th></th>\n",
       "      <th>min</th>\n",
       "      <th>mean</th>\n",
       "      <th>max</th>\n",
       "      <th>min</th>\n",
       "      <th>mean</th>\n",
       "      <th>max</th>\n",
       "      <th>min</th>\n",
       "      <th>mean</th>\n",
       "      <th>max</th>\n",
       "      <th>min</th>\n",
       "      <th>...</th>\n",
       "      <th>max</th>\n",
       "      <th>min</th>\n",
       "      <th>mean</th>\n",
       "      <th>max</th>\n",
       "      <th>min</th>\n",
       "      <th>mean</th>\n",
       "      <th>max</th>\n",
       "      <th>min</th>\n",
       "      <th>mean</th>\n",
       "      <th>max</th>\n",
       "    </tr>\n",
       "    <tr>\n",
       "      <th>Height</th>\n",
       "      <th></th>\n",
       "      <th></th>\n",
       "      <th></th>\n",
       "      <th></th>\n",
       "      <th></th>\n",
       "      <th></th>\n",
       "      <th></th>\n",
       "      <th></th>\n",
       "      <th></th>\n",
       "      <th></th>\n",
       "      <th></th>\n",
       "      <th></th>\n",
       "      <th></th>\n",
       "      <th></th>\n",
       "      <th></th>\n",
       "      <th></th>\n",
       "      <th></th>\n",
       "      <th></th>\n",
       "      <th></th>\n",
       "      <th></th>\n",
       "      <th></th>\n",
       "    </tr>\n",
       "  </thead>\n",
       "  <tbody>\n",
       "    <tr>\n",
       "      <th>0.000</th>\n",
       "      <td>0.315</td>\n",
       "      <td>0.372500</td>\n",
       "      <td>0.430</td>\n",
       "      <td>0.230</td>\n",
       "      <td>0.285000</td>\n",
       "      <td>0.340</td>\n",
       "      <td>0.1340</td>\n",
       "      <td>0.281000</td>\n",
       "      <td>0.4280</td>\n",
       "      <td>0.0575</td>\n",
       "      <td>...</td>\n",
       "      <td>0.2065</td>\n",
       "      <td>0.0285</td>\n",
       "      <td>0.057250</td>\n",
       "      <td>0.0860</td>\n",
       "      <td>0.1150</td>\n",
       "      <td>0.232750</td>\n",
       "      <td>0.3505</td>\n",
       "      <td>6</td>\n",
       "      <td>7.000000</td>\n",
       "      <td>8</td>\n",
       "    </tr>\n",
       "    <tr>\n",
       "      <th>0.010</th>\n",
       "      <td>0.075</td>\n",
       "      <td>0.075000</td>\n",
       "      <td>0.075</td>\n",
       "      <td>0.055</td>\n",
       "      <td>0.055000</td>\n",
       "      <td>0.055</td>\n",
       "      <td>0.0020</td>\n",
       "      <td>0.002000</td>\n",
       "      <td>0.0020</td>\n",
       "      <td>0.0010</td>\n",
       "      <td>...</td>\n",
       "      <td>0.0010</td>\n",
       "      <td>0.0005</td>\n",
       "      <td>0.000500</td>\n",
       "      <td>0.0005</td>\n",
       "      <td>0.0015</td>\n",
       "      <td>0.001500</td>\n",
       "      <td>0.0015</td>\n",
       "      <td>1</td>\n",
       "      <td>1.000000</td>\n",
       "      <td>1</td>\n",
       "    </tr>\n",
       "    <tr>\n",
       "      <th>0.015</th>\n",
       "      <td>0.165</td>\n",
       "      <td>0.400000</td>\n",
       "      <td>0.635</td>\n",
       "      <td>0.115</td>\n",
       "      <td>0.305000</td>\n",
       "      <td>0.495</td>\n",
       "      <td>0.0145</td>\n",
       "      <td>0.585500</td>\n",
       "      <td>1.1565</td>\n",
       "      <td>0.0055</td>\n",
       "      <td>...</td>\n",
       "      <td>0.5115</td>\n",
       "      <td>0.0030</td>\n",
       "      <td>0.155500</td>\n",
       "      <td>0.3080</td>\n",
       "      <td>0.0050</td>\n",
       "      <td>0.146750</td>\n",
       "      <td>0.2885</td>\n",
       "      <td>4</td>\n",
       "      <td>6.500000</td>\n",
       "      <td>9</td>\n",
       "    </tr>\n",
       "    <tr>\n",
       "      <th>0.020</th>\n",
       "      <td>0.160</td>\n",
       "      <td>0.162500</td>\n",
       "      <td>0.165</td>\n",
       "      <td>0.110</td>\n",
       "      <td>0.115000</td>\n",
       "      <td>0.120</td>\n",
       "      <td>0.0180</td>\n",
       "      <td>0.018500</td>\n",
       "      <td>0.0190</td>\n",
       "      <td>0.0065</td>\n",
       "      <td>...</td>\n",
       "      <td>0.0075</td>\n",
       "      <td>0.0025</td>\n",
       "      <td>0.003500</td>\n",
       "      <td>0.0045</td>\n",
       "      <td>0.0050</td>\n",
       "      <td>0.005000</td>\n",
       "      <td>0.0050</td>\n",
       "      <td>4</td>\n",
       "      <td>4.000000</td>\n",
       "      <td>4</td>\n",
       "    </tr>\n",
       "    <tr>\n",
       "      <th>0.025</th>\n",
       "      <td>0.150</td>\n",
       "      <td>0.165000</td>\n",
       "      <td>0.200</td>\n",
       "      <td>0.100</td>\n",
       "      <td>0.116000</td>\n",
       "      <td>0.145</td>\n",
       "      <td>0.0150</td>\n",
       "      <td>0.022200</td>\n",
       "      <td>0.0345</td>\n",
       "      <td>0.0045</td>\n",
       "      <td>...</td>\n",
       "      <td>0.0110</td>\n",
       "      <td>0.0040</td>\n",
       "      <td>0.005400</td>\n",
       "      <td>0.0075</td>\n",
       "      <td>0.0050</td>\n",
       "      <td>0.006700</td>\n",
       "      <td>0.0100</td>\n",
       "      <td>2</td>\n",
       "      <td>3.800000</td>\n",
       "      <td>5</td>\n",
       "    </tr>\n",
       "    <tr>\n",
       "      <th>0.030</th>\n",
       "      <td>0.110</td>\n",
       "      <td>0.166667</td>\n",
       "      <td>0.215</td>\n",
       "      <td>0.090</td>\n",
       "      <td>0.121667</td>\n",
       "      <td>0.150</td>\n",
       "      <td>0.0080</td>\n",
       "      <td>0.023667</td>\n",
       "      <td>0.0385</td>\n",
       "      <td>0.0025</td>\n",
       "      <td>...</td>\n",
       "      <td>0.0155</td>\n",
       "      <td>0.0020</td>\n",
       "      <td>0.005833</td>\n",
       "      <td>0.0150</td>\n",
       "      <td>0.0030</td>\n",
       "      <td>0.007083</td>\n",
       "      <td>0.0105</td>\n",
       "      <td>3</td>\n",
       "      <td>3.833333</td>\n",
       "      <td>6</td>\n",
       "    </tr>\n",
       "    <tr>\n",
       "      <th>0.035</th>\n",
       "      <td>0.130</td>\n",
       "      <td>0.153333</td>\n",
       "      <td>0.180</td>\n",
       "      <td>0.095</td>\n",
       "      <td>0.109167</td>\n",
       "      <td>0.125</td>\n",
       "      <td>0.0105</td>\n",
       "      <td>0.020083</td>\n",
       "      <td>0.0340</td>\n",
       "      <td>0.0050</td>\n",
       "      <td>...</td>\n",
       "      <td>0.0120</td>\n",
       "      <td>0.0025</td>\n",
       "      <td>0.005167</td>\n",
       "      <td>0.0085</td>\n",
       "      <td>0.0035</td>\n",
       "      <td>0.005167</td>\n",
       "      <td>0.0085</td>\n",
       "      <td>3</td>\n",
       "      <td>4.000000</td>\n",
       "      <td>5</td>\n",
       "    </tr>\n",
       "    <tr>\n",
       "      <th>0.040</th>\n",
       "      <td>0.135</td>\n",
       "      <td>0.186154</td>\n",
       "      <td>0.235</td>\n",
       "      <td>0.110</td>\n",
       "      <td>0.138846</td>\n",
       "      <td>0.175</td>\n",
       "      <td>0.0155</td>\n",
       "      <td>0.035154</td>\n",
       "      <td>0.0705</td>\n",
       "      <td>0.0065</td>\n",
       "      <td>...</td>\n",
       "      <td>0.0335</td>\n",
       "      <td>0.0030</td>\n",
       "      <td>0.007808</td>\n",
       "      <td>0.0180</td>\n",
       "      <td>0.0050</td>\n",
       "      <td>0.009769</td>\n",
       "      <td>0.0200</td>\n",
       "      <td>3</td>\n",
       "      <td>4.230769</td>\n",
       "      <td>5</td>\n",
       "    </tr>\n",
       "    <tr>\n",
       "      <th>0.045</th>\n",
       "      <td>0.180</td>\n",
       "      <td>0.202727</td>\n",
       "      <td>0.240</td>\n",
       "      <td>0.130</td>\n",
       "      <td>0.149091</td>\n",
       "      <td>0.175</td>\n",
       "      <td>0.0265</td>\n",
       "      <td>0.040773</td>\n",
       "      <td>0.0700</td>\n",
       "      <td>0.0090</td>\n",
       "      <td>...</td>\n",
       "      <td>0.0315</td>\n",
       "      <td>0.0050</td>\n",
       "      <td>0.009909</td>\n",
       "      <td>0.0235</td>\n",
       "      <td>0.0090</td>\n",
       "      <td>0.012409</td>\n",
       "      <td>0.0200</td>\n",
       "      <td>3</td>\n",
       "      <td>4.272727</td>\n",
       "      <td>7</td>\n",
       "    </tr>\n",
       "    <tr>\n",
       "      <th>0.050</th>\n",
       "      <td>0.155</td>\n",
       "      <td>0.220833</td>\n",
       "      <td>0.310</td>\n",
       "      <td>0.105</td>\n",
       "      <td>0.160556</td>\n",
       "      <td>0.225</td>\n",
       "      <td>0.0175</td>\n",
       "      <td>0.054750</td>\n",
       "      <td>0.1445</td>\n",
       "      <td>0.0050</td>\n",
       "      <td>...</td>\n",
       "      <td>0.0675</td>\n",
       "      <td>0.0035</td>\n",
       "      <td>0.012861</td>\n",
       "      <td>0.0385</td>\n",
       "      <td>0.0050</td>\n",
       "      <td>0.018056</td>\n",
       "      <td>0.0450</td>\n",
       "      <td>3</td>\n",
       "      <td>4.500000</td>\n",
       "      <td>6</td>\n",
       "    </tr>\n",
       "    <tr>\n",
       "      <th>0.055</th>\n",
       "      <td>0.170</td>\n",
       "      <td>0.239600</td>\n",
       "      <td>0.325</td>\n",
       "      <td>0.125</td>\n",
       "      <td>0.176600</td>\n",
       "      <td>0.250</td>\n",
       "      <td>0.0235</td>\n",
       "      <td>0.071620</td>\n",
       "      <td>0.1660</td>\n",
       "      <td>0.0090</td>\n",
       "      <td>...</td>\n",
       "      <td>0.0760</td>\n",
       "      <td>0.0055</td>\n",
       "      <td>0.016300</td>\n",
       "      <td>0.0510</td>\n",
       "      <td>0.0080</td>\n",
       "      <td>0.021080</td>\n",
       "      <td>0.0450</td>\n",
       "      <td>3</td>\n",
       "      <td>5.080000</td>\n",
       "      <td>7</td>\n",
       "    </tr>\n",
       "    <tr>\n",
       "      <th>0.060</th>\n",
       "      <td>0.200</td>\n",
       "      <td>0.260577</td>\n",
       "      <td>0.320</td>\n",
       "      <td>0.145</td>\n",
       "      <td>0.192308</td>\n",
       "      <td>0.235</td>\n",
       "      <td>0.0370</td>\n",
       "      <td>0.085365</td>\n",
       "      <td>0.1290</td>\n",
       "      <td>0.0125</td>\n",
       "      <td>...</td>\n",
       "      <td>0.0615</td>\n",
       "      <td>0.0005</td>\n",
       "      <td>0.018731</td>\n",
       "      <td>0.0375</td>\n",
       "      <td>0.0110</td>\n",
       "      <td>0.026135</td>\n",
       "      <td>0.0400</td>\n",
       "      <td>4</td>\n",
       "      <td>5.230769</td>\n",
       "      <td>11</td>\n",
       "    </tr>\n",
       "    <tr>\n",
       "      <th>0.065</th>\n",
       "      <td>0.205</td>\n",
       "      <td>0.275513</td>\n",
       "      <td>0.405</td>\n",
       "      <td>0.150</td>\n",
       "      <td>0.203590</td>\n",
       "      <td>0.310</td>\n",
       "      <td>0.0400</td>\n",
       "      <td>0.102244</td>\n",
       "      <td>0.3205</td>\n",
       "      <td>0.0200</td>\n",
       "      <td>...</td>\n",
       "      <td>0.1575</td>\n",
       "      <td>0.0105</td>\n",
       "      <td>0.021282</td>\n",
       "      <td>0.0660</td>\n",
       "      <td>0.0130</td>\n",
       "      <td>0.031487</td>\n",
       "      <td>0.0880</td>\n",
       "      <td>3</td>\n",
       "      <td>5.641026</td>\n",
       "      <td>10</td>\n",
       "    </tr>\n",
       "    <tr>\n",
       "      <th>0.070</th>\n",
       "      <td>0.225</td>\n",
       "      <td>0.293191</td>\n",
       "      <td>0.350</td>\n",
       "      <td>0.170</td>\n",
       "      <td>0.217128</td>\n",
       "      <td>0.265</td>\n",
       "      <td>0.0565</td>\n",
       "      <td>0.120915</td>\n",
       "      <td>0.2225</td>\n",
       "      <td>0.0240</td>\n",
       "      <td>...</td>\n",
       "      <td>0.4950</td>\n",
       "      <td>0.0130</td>\n",
       "      <td>0.026181</td>\n",
       "      <td>0.0480</td>\n",
       "      <td>0.0160</td>\n",
       "      <td>0.036957</td>\n",
       "      <td>0.0700</td>\n",
       "      <td>4</td>\n",
       "      <td>6.021277</td>\n",
       "      <td>8</td>\n",
       "    </tr>\n",
       "    <tr>\n",
       "      <th>0.075</th>\n",
       "      <td>0.235</td>\n",
       "      <td>0.316066</td>\n",
       "      <td>0.375</td>\n",
       "      <td>0.120</td>\n",
       "      <td>0.233525</td>\n",
       "      <td>0.300</td>\n",
       "      <td>0.0860</td>\n",
       "      <td>0.154992</td>\n",
       "      <td>0.2750</td>\n",
       "      <td>0.0305</td>\n",
       "      <td>...</td>\n",
       "      <td>0.3045</td>\n",
       "      <td>0.0115</td>\n",
       "      <td>0.034697</td>\n",
       "      <td>0.0675</td>\n",
       "      <td>0.0250</td>\n",
       "      <td>0.046787</td>\n",
       "      <td>0.0900</td>\n",
       "      <td>4</td>\n",
       "      <td>6.327869</td>\n",
       "      <td>11</td>\n",
       "    </tr>\n",
       "    <tr>\n",
       "      <th>0.080</th>\n",
       "      <td>0.180</td>\n",
       "      <td>0.338618</td>\n",
       "      <td>0.640</td>\n",
       "      <td>0.135</td>\n",
       "      <td>0.253026</td>\n",
       "      <td>0.515</td>\n",
       "      <td>0.0330</td>\n",
       "      <td>0.196908</td>\n",
       "      <td>1.0420</td>\n",
       "      <td>0.0145</td>\n",
       "      <td>...</td>\n",
       "      <td>0.5150</td>\n",
       "      <td>0.0070</td>\n",
       "      <td>0.043743</td>\n",
       "      <td>0.1755</td>\n",
       "      <td>0.0100</td>\n",
       "      <td>0.059145</td>\n",
       "      <td>0.1750</td>\n",
       "      <td>4</td>\n",
       "      <td>6.855263</td>\n",
       "      <td>13</td>\n",
       "    </tr>\n",
       "    <tr>\n",
       "      <th>0.085</th>\n",
       "      <td>0.280</td>\n",
       "      <td>0.354797</td>\n",
       "      <td>0.485</td>\n",
       "      <td>0.210</td>\n",
       "      <td>0.267365</td>\n",
       "      <td>0.390</td>\n",
       "      <td>0.1065</td>\n",
       "      <td>0.211581</td>\n",
       "      <td>0.6435</td>\n",
       "      <td>0.0390</td>\n",
       "      <td>...</td>\n",
       "      <td>0.2945</td>\n",
       "      <td>0.0175</td>\n",
       "      <td>0.043581</td>\n",
       "      <td>0.1030</td>\n",
       "      <td>0.0300</td>\n",
       "      <td>0.065216</td>\n",
       "      <td>0.1980</td>\n",
       "      <td>4</td>\n",
       "      <td>6.959459</td>\n",
       "      <td>13</td>\n",
       "    </tr>\n",
       "    <tr>\n",
       "      <th>0.090</th>\n",
       "      <td>0.275</td>\n",
       "      <td>0.371855</td>\n",
       "      <td>0.600</td>\n",
       "      <td>0.175</td>\n",
       "      <td>0.280081</td>\n",
       "      <td>0.480</td>\n",
       "      <td>0.1105</td>\n",
       "      <td>0.250073</td>\n",
       "      <td>1.0500</td>\n",
       "      <td>0.0405</td>\n",
       "      <td>...</td>\n",
       "      <td>0.4570</td>\n",
       "      <td>0.0240</td>\n",
       "      <td>0.053685</td>\n",
       "      <td>0.2685</td>\n",
       "      <td>0.0320</td>\n",
       "      <td>0.074516</td>\n",
       "      <td>0.2800</td>\n",
       "      <td>4</td>\n",
       "      <td>7.282258</td>\n",
       "      <td>12</td>\n",
       "    </tr>\n",
       "    <tr>\n",
       "      <th>0.095</th>\n",
       "      <td>0.170</td>\n",
       "      <td>0.383132</td>\n",
       "      <td>0.570</td>\n",
       "      <td>0.130</td>\n",
       "      <td>0.289066</td>\n",
       "      <td>0.440</td>\n",
       "      <td>0.0300</td>\n",
       "      <td>0.269956</td>\n",
       "      <td>0.8270</td>\n",
       "      <td>0.0130</td>\n",
       "      <td>...</td>\n",
       "      <td>0.3395</td>\n",
       "      <td>0.0080</td>\n",
       "      <td>0.058319</td>\n",
       "      <td>0.2215</td>\n",
       "      <td>0.0100</td>\n",
       "      <td>0.083786</td>\n",
       "      <td>0.2350</td>\n",
       "      <td>4</td>\n",
       "      <td>7.351648</td>\n",
       "      <td>15</td>\n",
       "    </tr>\n",
       "    <tr>\n",
       "      <th>0.100</th>\n",
       "      <td>0.280</td>\n",
       "      <td>0.413828</td>\n",
       "      <td>0.575</td>\n",
       "      <td>0.205</td>\n",
       "      <td>0.313828</td>\n",
       "      <td>0.450</td>\n",
       "      <td>0.1165</td>\n",
       "      <td>0.337369</td>\n",
       "      <td>0.9315</td>\n",
       "      <td>0.0545</td>\n",
       "      <td>...</td>\n",
       "      <td>0.4310</td>\n",
       "      <td>0.0260</td>\n",
       "      <td>0.071417</td>\n",
       "      <td>0.2220</td>\n",
       "      <td>0.0300</td>\n",
       "      <td>0.100903</td>\n",
       "      <td>0.2350</td>\n",
       "      <td>5</td>\n",
       "      <td>7.772414</td>\n",
       "      <td>13</td>\n",
       "    </tr>\n",
       "    <tr>\n",
       "      <th>0.105</th>\n",
       "      <td>0.310</td>\n",
       "      <td>0.437412</td>\n",
       "      <td>0.525</td>\n",
       "      <td>0.240</td>\n",
       "      <td>0.337018</td>\n",
       "      <td>0.400</td>\n",
       "      <td>0.1715</td>\n",
       "      <td>0.403320</td>\n",
       "      <td>0.8720</td>\n",
       "      <td>0.0655</td>\n",
       "      <td>...</td>\n",
       "      <td>0.4515</td>\n",
       "      <td>0.0345</td>\n",
       "      <td>0.088127</td>\n",
       "      <td>0.1800</td>\n",
       "      <td>0.0600</td>\n",
       "      <td>0.120654</td>\n",
       "      <td>0.1985</td>\n",
       "      <td>5</td>\n",
       "      <td>8.482456</td>\n",
       "      <td>17</td>\n",
       "    </tr>\n",
       "    <tr>\n",
       "      <th>0.110</th>\n",
       "      <td>0.345</td>\n",
       "      <td>0.448704</td>\n",
       "      <td>0.625</td>\n",
       "      <td>0.265</td>\n",
       "      <td>0.346593</td>\n",
       "      <td>0.490</td>\n",
       "      <td>0.2090</td>\n",
       "      <td>0.437341</td>\n",
       "      <td>1.1360</td>\n",
       "      <td>0.0660</td>\n",
       "      <td>...</td>\n",
       "      <td>0.5265</td>\n",
       "      <td>0.0440</td>\n",
       "      <td>0.092126</td>\n",
       "      <td>0.2075</td>\n",
       "      <td>0.0700</td>\n",
       "      <td>0.128763</td>\n",
       "      <td>0.2950</td>\n",
       "      <td>6</td>\n",
       "      <td>8.333333</td>\n",
       "      <td>17</td>\n",
       "    </tr>\n",
       "    <tr>\n",
       "      <th>0.115</th>\n",
       "      <td>0.360</td>\n",
       "      <td>0.460865</td>\n",
       "      <td>0.605</td>\n",
       "      <td>0.250</td>\n",
       "      <td>0.353571</td>\n",
       "      <td>0.470</td>\n",
       "      <td>0.2180</td>\n",
       "      <td>0.484368</td>\n",
       "      <td>1.1140</td>\n",
       "      <td>0.0920</td>\n",
       "      <td>...</td>\n",
       "      <td>0.4160</td>\n",
       "      <td>0.0445</td>\n",
       "      <td>0.105883</td>\n",
       "      <td>0.2910</td>\n",
       "      <td>0.0700</td>\n",
       "      <td>0.140692</td>\n",
       "      <td>0.3100</td>\n",
       "      <td>5</td>\n",
       "      <td>8.834586</td>\n",
       "      <td>17</td>\n",
       "    </tr>\n",
       "    <tr>\n",
       "      <th>0.120</th>\n",
       "      <td>0.185</td>\n",
       "      <td>0.482367</td>\n",
       "      <td>0.625</td>\n",
       "      <td>0.290</td>\n",
       "      <td>0.373669</td>\n",
       "      <td>0.490</td>\n",
       "      <td>0.2830</td>\n",
       "      <td>0.557722</td>\n",
       "      <td>1.0735</td>\n",
       "      <td>0.1145</td>\n",
       "      <td>...</td>\n",
       "      <td>0.5160</td>\n",
       "      <td>0.0560</td>\n",
       "      <td>0.121574</td>\n",
       "      <td>0.2735</td>\n",
       "      <td>0.0805</td>\n",
       "      <td>0.160127</td>\n",
       "      <td>0.3100</td>\n",
       "      <td>6</td>\n",
       "      <td>9.100592</td>\n",
       "      <td>19</td>\n",
       "    </tr>\n",
       "    <tr>\n",
       "      <th>0.125</th>\n",
       "      <td>0.385</td>\n",
       "      <td>0.499530</td>\n",
       "      <td>0.650</td>\n",
       "      <td>0.280</td>\n",
       "      <td>0.387228</td>\n",
       "      <td>0.515</td>\n",
       "      <td>0.2440</td>\n",
       "      <td>0.607629</td>\n",
       "      <td>1.1805</td>\n",
       "      <td>0.0680</td>\n",
       "      <td>...</td>\n",
       "      <td>0.5475</td>\n",
       "      <td>0.0380</td>\n",
       "      <td>0.130906</td>\n",
       "      <td>0.2830</td>\n",
       "      <td>0.0800</td>\n",
       "      <td>0.177943</td>\n",
       "      <td>0.3750</td>\n",
       "      <td>6</td>\n",
       "      <td>9.475248</td>\n",
       "      <td>21</td>\n",
       "    </tr>\n",
       "    <tr>\n",
       "      <th>0.130</th>\n",
       "      <td>0.360</td>\n",
       "      <td>0.517663</td>\n",
       "      <td>0.700</td>\n",
       "      <td>0.295</td>\n",
       "      <td>0.400178</td>\n",
       "      <td>0.545</td>\n",
       "      <td>0.2765</td>\n",
       "      <td>0.678284</td>\n",
       "      <td>1.5560</td>\n",
       "      <td>0.0895</td>\n",
       "      <td>...</td>\n",
       "      <td>0.6725</td>\n",
       "      <td>0.0570</td>\n",
       "      <td>0.149695</td>\n",
       "      <td>0.3740</td>\n",
       "      <td>0.1005</td>\n",
       "      <td>0.196473</td>\n",
       "      <td>0.3300</td>\n",
       "      <td>6</td>\n",
       "      <td>9.887574</td>\n",
       "      <td>21</td>\n",
       "    </tr>\n",
       "    <tr>\n",
       "      <th>0.135</th>\n",
       "      <td>0.365</td>\n",
       "      <td>0.521164</td>\n",
       "      <td>0.640</td>\n",
       "      <td>0.265</td>\n",
       "      <td>0.405476</td>\n",
       "      <td>0.515</td>\n",
       "      <td>0.2215</td>\n",
       "      <td>0.713505</td>\n",
       "      <td>1.4405</td>\n",
       "      <td>0.1050</td>\n",
       "      <td>...</td>\n",
       "      <td>0.6100</td>\n",
       "      <td>0.0445</td>\n",
       "      <td>0.154479</td>\n",
       "      <td>0.2790</td>\n",
       "      <td>0.0605</td>\n",
       "      <td>0.206902</td>\n",
       "      <td>0.3605</td>\n",
       "      <td>6</td>\n",
       "      <td>10.005291</td>\n",
       "      <td>23</td>\n",
       "    </tr>\n",
       "    <tr>\n",
       "      <th>0.140</th>\n",
       "      <td>0.370</td>\n",
       "      <td>0.536136</td>\n",
       "      <td>0.655</td>\n",
       "      <td>0.275</td>\n",
       "      <td>0.416591</td>\n",
       "      <td>0.500</td>\n",
       "      <td>0.2215</td>\n",
       "      <td>0.762016</td>\n",
       "      <td>1.2380</td>\n",
       "      <td>0.0970</td>\n",
       "      <td>...</td>\n",
       "      <td>0.6165</td>\n",
       "      <td>0.0455</td>\n",
       "      <td>0.165727</td>\n",
       "      <td>0.3175</td>\n",
       "      <td>0.0615</td>\n",
       "      <td>0.223341</td>\n",
       "      <td>0.4000</td>\n",
       "      <td>6</td>\n",
       "      <td>10.309091</td>\n",
       "      <td>22</td>\n",
       "    </tr>\n",
       "    <tr>\n",
       "      <th>0.145</th>\n",
       "      <td>0.445</td>\n",
       "      <td>0.558297</td>\n",
       "      <td>0.720</td>\n",
       "      <td>0.340</td>\n",
       "      <td>0.434478</td>\n",
       "      <td>0.565</td>\n",
       "      <td>0.4340</td>\n",
       "      <td>0.859250</td>\n",
       "      <td>1.7855</td>\n",
       "      <td>0.1560</td>\n",
       "      <td>...</td>\n",
       "      <td>0.7830</td>\n",
       "      <td>0.0905</td>\n",
       "      <td>0.187709</td>\n",
       "      <td>0.3405</td>\n",
       "      <td>0.1230</td>\n",
       "      <td>0.247052</td>\n",
       "      <td>0.3850</td>\n",
       "      <td>6</td>\n",
       "      <td>10.456044</td>\n",
       "      <td>21</td>\n",
       "    </tr>\n",
       "    <tr>\n",
       "      <th>0.150</th>\n",
       "      <td>0.445</td>\n",
       "      <td>0.574307</td>\n",
       "      <td>0.710</td>\n",
       "      <td>0.330</td>\n",
       "      <td>0.449007</td>\n",
       "      <td>0.530</td>\n",
       "      <td>0.4850</td>\n",
       "      <td>0.953193</td>\n",
       "      <td>1.4770</td>\n",
       "      <td>0.1685</td>\n",
       "      <td>...</td>\n",
       "      <td>0.7185</td>\n",
       "      <td>0.0885</td>\n",
       "      <td>0.208345</td>\n",
       "      <td>0.4405</td>\n",
       "      <td>0.1250</td>\n",
       "      <td>0.267801</td>\n",
       "      <td>0.4405</td>\n",
       "      <td>6</td>\n",
       "      <td>10.374532</td>\n",
       "      <td>23</td>\n",
       "    </tr>\n",
       "    <tr>\n",
       "      <th>0.155</th>\n",
       "      <td>0.460</td>\n",
       "      <td>0.586498</td>\n",
       "      <td>0.695</td>\n",
       "      <td>0.350</td>\n",
       "      <td>0.459355</td>\n",
       "      <td>0.550</td>\n",
       "      <td>0.5395</td>\n",
       "      <td>1.023380</td>\n",
       "      <td>1.8495</td>\n",
       "      <td>0.2025</td>\n",
       "      <td>...</td>\n",
       "      <td>0.8580</td>\n",
       "      <td>0.1085</td>\n",
       "      <td>0.221111</td>\n",
       "      <td>0.4420</td>\n",
       "      <td>0.1550</td>\n",
       "      <td>0.291394</td>\n",
       "      <td>0.4850</td>\n",
       "      <td>6</td>\n",
       "      <td>10.834101</td>\n",
       "      <td>20</td>\n",
       "    </tr>\n",
       "    <tr>\n",
       "      <th>0.160</th>\n",
       "      <td>0.400</td>\n",
       "      <td>0.593317</td>\n",
       "      <td>0.700</td>\n",
       "      <td>0.305</td>\n",
       "      <td>0.465537</td>\n",
       "      <td>0.585</td>\n",
       "      <td>0.3680</td>\n",
       "      <td>1.064146</td>\n",
       "      <td>1.7395</td>\n",
       "      <td>0.1615</td>\n",
       "      <td>...</td>\n",
       "      <td>0.8330</td>\n",
       "      <td>0.0705</td>\n",
       "      <td>0.233278</td>\n",
       "      <td>0.3775</td>\n",
       "      <td>0.1050</td>\n",
       "      <td>0.303710</td>\n",
       "      <td>0.5800</td>\n",
       "      <td>6</td>\n",
       "      <td>11.063415</td>\n",
       "      <td>23</td>\n",
       "    </tr>\n",
       "    <tr>\n",
       "      <th>0.165</th>\n",
       "      <td>0.440</td>\n",
       "      <td>0.602461</td>\n",
       "      <td>0.730</td>\n",
       "      <td>0.355</td>\n",
       "      <td>0.476088</td>\n",
       "      <td>0.570</td>\n",
       "      <td>0.4350</td>\n",
       "      <td>1.133956</td>\n",
       "      <td>2.0165</td>\n",
       "      <td>0.1590</td>\n",
       "      <td>...</td>\n",
       "      <td>1.0685</td>\n",
       "      <td>0.1050</td>\n",
       "      <td>0.246990</td>\n",
       "      <td>0.4365</td>\n",
       "      <td>0.1400</td>\n",
       "      <td>0.326653</td>\n",
       "      <td>0.7800</td>\n",
       "      <td>8</td>\n",
       "      <td>11.512953</td>\n",
       "      <td>23</td>\n",
       "    </tr>\n",
       "    <tr>\n",
       "      <th>0.170</th>\n",
       "      <td>0.440</td>\n",
       "      <td>0.614125</td>\n",
       "      <td>0.720</td>\n",
       "      <td>0.345</td>\n",
       "      <td>0.482250</td>\n",
       "      <td>0.575</td>\n",
       "      <td>0.4085</td>\n",
       "      <td>1.173225</td>\n",
       "      <td>1.9335</td>\n",
       "      <td>0.1500</td>\n",
       "      <td>...</td>\n",
       "      <td>0.9130</td>\n",
       "      <td>0.0825</td>\n",
       "      <td>0.260309</td>\n",
       "      <td>0.4565</td>\n",
       "      <td>0.1505</td>\n",
       "      <td>0.329781</td>\n",
       "      <td>0.5100</td>\n",
       "      <td>6</td>\n",
       "      <td>11.493750</td>\n",
       "      <td>22</td>\n",
       "    </tr>\n",
       "    <tr>\n",
       "      <th>0.175</th>\n",
       "      <td>0.505</td>\n",
       "      <td>0.629052</td>\n",
       "      <td>0.770</td>\n",
       "      <td>0.380</td>\n",
       "      <td>0.496185</td>\n",
       "      <td>0.605</td>\n",
       "      <td>0.6920</td>\n",
       "      <td>1.303882</td>\n",
       "      <td>2.1400</td>\n",
       "      <td>0.2560</td>\n",
       "      <td>...</td>\n",
       "      <td>1.2455</td>\n",
       "      <td>0.1395</td>\n",
       "      <td>0.285185</td>\n",
       "      <td>0.5260</td>\n",
       "      <td>0.2050</td>\n",
       "      <td>0.379550</td>\n",
       "      <td>0.8500</td>\n",
       "      <td>8</td>\n",
       "      <td>11.819905</td>\n",
       "      <td>23</td>\n",
       "    </tr>\n",
       "    <tr>\n",
       "      <th>0.180</th>\n",
       "      <td>0.470</td>\n",
       "      <td>0.629008</td>\n",
       "      <td>0.765</td>\n",
       "      <td>0.340</td>\n",
       "      <td>0.494389</td>\n",
       "      <td>0.585</td>\n",
       "      <td>0.4410</td>\n",
       "      <td>1.307916</td>\n",
       "      <td>2.3980</td>\n",
       "      <td>0.1525</td>\n",
       "      <td>...</td>\n",
       "      <td>1.1280</td>\n",
       "      <td>0.1050</td>\n",
       "      <td>0.286737</td>\n",
       "      <td>0.5120</td>\n",
       "      <td>0.1350</td>\n",
       "      <td>0.372668</td>\n",
       "      <td>0.6000</td>\n",
       "      <td>6</td>\n",
       "      <td>11.572519</td>\n",
       "      <td>27</td>\n",
       "    </tr>\n",
       "    <tr>\n",
       "      <th>0.185</th>\n",
       "      <td>0.505</td>\n",
       "      <td>0.636602</td>\n",
       "      <td>0.740</td>\n",
       "      <td>0.390</td>\n",
       "      <td>0.503398</td>\n",
       "      <td>0.585</td>\n",
       "      <td>0.6125</td>\n",
       "      <td>1.351010</td>\n",
       "      <td>2.1240</td>\n",
       "      <td>0.2670</td>\n",
       "      <td>...</td>\n",
       "      <td>1.0260</td>\n",
       "      <td>0.1360</td>\n",
       "      <td>0.295583</td>\n",
       "      <td>0.5500</td>\n",
       "      <td>0.1720</td>\n",
       "      <td>0.384354</td>\n",
       "      <td>0.5550</td>\n",
       "      <td>7</td>\n",
       "      <td>12.194175</td>\n",
       "      <td>29</td>\n",
       "    </tr>\n",
       "    <tr>\n",
       "      <th>0.190</th>\n",
       "      <td>0.525</td>\n",
       "      <td>0.651117</td>\n",
       "      <td>0.760</td>\n",
       "      <td>0.405</td>\n",
       "      <td>0.511408</td>\n",
       "      <td>0.595</td>\n",
       "      <td>0.6855</td>\n",
       "      <td>1.470723</td>\n",
       "      <td>2.5500</td>\n",
       "      <td>0.2830</td>\n",
       "      <td>...</td>\n",
       "      <td>1.2530</td>\n",
       "      <td>0.1290</td>\n",
       "      <td>0.328180</td>\n",
       "      <td>0.5410</td>\n",
       "      <td>0.1625</td>\n",
       "      <td>0.413888</td>\n",
       "      <td>0.7250</td>\n",
       "      <td>8</td>\n",
       "      <td>12.155340</td>\n",
       "      <td>21</td>\n",
       "    </tr>\n",
       "    <tr>\n",
       "      <th>0.195</th>\n",
       "      <td>0.520</td>\n",
       "      <td>0.656346</td>\n",
       "      <td>0.800</td>\n",
       "      <td>0.420</td>\n",
       "      <td>0.521346</td>\n",
       "      <td>0.630</td>\n",
       "      <td>0.8085</td>\n",
       "      <td>1.517949</td>\n",
       "      <td>2.5260</td>\n",
       "      <td>0.2985</td>\n",
       "      <td>...</td>\n",
       "      <td>1.1155</td>\n",
       "      <td>0.1730</td>\n",
       "      <td>0.338064</td>\n",
       "      <td>0.6415</td>\n",
       "      <td>0.2250</td>\n",
       "      <td>0.441026</td>\n",
       "      <td>0.7100</td>\n",
       "      <td>8</td>\n",
       "      <td>12.538462</td>\n",
       "      <td>26</td>\n",
       "    </tr>\n",
       "    <tr>\n",
       "      <th>0.200</th>\n",
       "      <td>0.545</td>\n",
       "      <td>0.667868</td>\n",
       "      <td>0.755</td>\n",
       "      <td>0.415</td>\n",
       "      <td>0.527868</td>\n",
       "      <td>0.605</td>\n",
       "      <td>0.8580</td>\n",
       "      <td>1.579868</td>\n",
       "      <td>2.4925</td>\n",
       "      <td>0.3580</td>\n",
       "      <td>...</td>\n",
       "      <td>1.1455</td>\n",
       "      <td>0.1525</td>\n",
       "      <td>0.344949</td>\n",
       "      <td>0.5750</td>\n",
       "      <td>0.2405</td>\n",
       "      <td>0.461662</td>\n",
       "      <td>0.6850</td>\n",
       "      <td>8</td>\n",
       "      <td>12.705882</td>\n",
       "      <td>23</td>\n",
       "    </tr>\n",
       "    <tr>\n",
       "      <th>0.205</th>\n",
       "      <td>0.530</td>\n",
       "      <td>0.681778</td>\n",
       "      <td>0.755</td>\n",
       "      <td>0.440</td>\n",
       "      <td>0.542111</td>\n",
       "      <td>0.615</td>\n",
       "      <td>0.8350</td>\n",
       "      <td>1.743311</td>\n",
       "      <td>2.3810</td>\n",
       "      <td>0.3200</td>\n",
       "      <td>...</td>\n",
       "      <td>1.1455</td>\n",
       "      <td>0.2175</td>\n",
       "      <td>0.373722</td>\n",
       "      <td>0.5250</td>\n",
       "      <td>0.2450</td>\n",
       "      <td>0.484878</td>\n",
       "      <td>0.7260</td>\n",
       "      <td>9</td>\n",
       "      <td>12.755556</td>\n",
       "      <td>20</td>\n",
       "    </tr>\n",
       "    <tr>\n",
       "      <th>0.210</th>\n",
       "      <td>0.510</td>\n",
       "      <td>0.672174</td>\n",
       "      <td>0.780</td>\n",
       "      <td>0.370</td>\n",
       "      <td>0.528478</td>\n",
       "      <td>0.625</td>\n",
       "      <td>1.1830</td>\n",
       "      <td>1.777065</td>\n",
       "      <td>2.5480</td>\n",
       "      <td>0.5010</td>\n",
       "      <td>...</td>\n",
       "      <td>1.1965</td>\n",
       "      <td>0.2205</td>\n",
       "      <td>0.382196</td>\n",
       "      <td>0.5745</td>\n",
       "      <td>0.3430</td>\n",
       "      <td>0.511913</td>\n",
       "      <td>1.0050</td>\n",
       "      <td>9</td>\n",
       "      <td>12.347826</td>\n",
       "      <td>20</td>\n",
       "    </tr>\n",
       "    <tr>\n",
       "      <th>0.215</th>\n",
       "      <td>0.615</td>\n",
       "      <td>0.697419</td>\n",
       "      <td>0.780</td>\n",
       "      <td>0.485</td>\n",
       "      <td>0.550484</td>\n",
       "      <td>0.630</td>\n",
       "      <td>0.9615</td>\n",
       "      <td>1.888661</td>\n",
       "      <td>2.6570</td>\n",
       "      <td>0.4220</td>\n",
       "      <td>...</td>\n",
       "      <td>1.4880</td>\n",
       "      <td>0.1760</td>\n",
       "      <td>0.393016</td>\n",
       "      <td>0.5640</td>\n",
       "      <td>0.2900</td>\n",
       "      <td>0.539274</td>\n",
       "      <td>0.7100</td>\n",
       "      <td>9</td>\n",
       "      <td>14.225806</td>\n",
       "      <td>25</td>\n",
       "    </tr>\n",
       "    <tr>\n",
       "      <th>0.220</th>\n",
       "      <td>0.620</td>\n",
       "      <td>0.706176</td>\n",
       "      <td>0.775</td>\n",
       "      <td>0.485</td>\n",
       "      <td>0.556765</td>\n",
       "      <td>0.600</td>\n",
       "      <td>1.3590</td>\n",
       "      <td>1.896882</td>\n",
       "      <td>2.5550</td>\n",
       "      <td>0.5095</td>\n",
       "      <td>...</td>\n",
       "      <td>1.2395</td>\n",
       "      <td>0.2840</td>\n",
       "      <td>0.411588</td>\n",
       "      <td>0.5265</td>\n",
       "      <td>0.4050</td>\n",
       "      <td>0.531000</td>\n",
       "      <td>0.7600</td>\n",
       "      <td>10</td>\n",
       "      <td>12.352941</td>\n",
       "      <td>17</td>\n",
       "    </tr>\n",
       "    <tr>\n",
       "      <th>0.225</th>\n",
       "      <td>0.585</td>\n",
       "      <td>0.666154</td>\n",
       "      <td>0.735</td>\n",
       "      <td>0.455</td>\n",
       "      <td>0.531538</td>\n",
       "      <td>0.595</td>\n",
       "      <td>1.0550</td>\n",
       "      <td>1.628077</td>\n",
       "      <td>2.2305</td>\n",
       "      <td>0.3780</td>\n",
       "      <td>...</td>\n",
       "      <td>1.2395</td>\n",
       "      <td>0.2145</td>\n",
       "      <td>0.352385</td>\n",
       "      <td>0.5145</td>\n",
       "      <td>0.3245</td>\n",
       "      <td>0.489808</td>\n",
       "      <td>0.8850</td>\n",
       "      <td>10</td>\n",
       "      <td>15.769231</td>\n",
       "      <td>27</td>\n",
       "    </tr>\n",
       "    <tr>\n",
       "      <th>0.230</th>\n",
       "      <td>0.600</td>\n",
       "      <td>0.670000</td>\n",
       "      <td>0.730</td>\n",
       "      <td>0.475</td>\n",
       "      <td>0.550000</td>\n",
       "      <td>0.600</td>\n",
       "      <td>1.0935</td>\n",
       "      <td>1.811800</td>\n",
       "      <td>2.8255</td>\n",
       "      <td>0.4030</td>\n",
       "      <td>...</td>\n",
       "      <td>1.1465</td>\n",
       "      <td>0.2235</td>\n",
       "      <td>0.347800</td>\n",
       "      <td>0.4350</td>\n",
       "      <td>0.3550</td>\n",
       "      <td>0.570850</td>\n",
       "      <td>0.8970</td>\n",
       "      <td>10</td>\n",
       "      <td>14.500000</td>\n",
       "      <td>19</td>\n",
       "    </tr>\n",
       "    <tr>\n",
       "      <th>0.235</th>\n",
       "      <td>0.560</td>\n",
       "      <td>0.640000</td>\n",
       "      <td>0.750</td>\n",
       "      <td>0.450</td>\n",
       "      <td>0.515833</td>\n",
       "      <td>0.610</td>\n",
       "      <td>0.8395</td>\n",
       "      <td>1.514583</td>\n",
       "      <td>2.5085</td>\n",
       "      <td>0.3000</td>\n",
       "      <td>...</td>\n",
       "      <td>1.2320</td>\n",
       "      <td>0.1570</td>\n",
       "      <td>0.290000</td>\n",
       "      <td>0.5190</td>\n",
       "      <td>0.3050</td>\n",
       "      <td>0.468833</td>\n",
       "      <td>0.6210</td>\n",
       "      <td>12</td>\n",
       "      <td>13.500000</td>\n",
       "      <td>16</td>\n",
       "    </tr>\n",
       "    <tr>\n",
       "      <th>0.240</th>\n",
       "      <td>0.610</td>\n",
       "      <td>0.673750</td>\n",
       "      <td>0.725</td>\n",
       "      <td>0.500</td>\n",
       "      <td>0.538750</td>\n",
       "      <td>0.575</td>\n",
       "      <td>1.5415</td>\n",
       "      <td>1.898250</td>\n",
       "      <td>2.2100</td>\n",
       "      <td>0.4710</td>\n",
       "      <td>...</td>\n",
       "      <td>1.3510</td>\n",
       "      <td>0.3345</td>\n",
       "      <td>0.395375</td>\n",
       "      <td>0.4650</td>\n",
       "      <td>0.5015</td>\n",
       "      <td>0.652875</td>\n",
       "      <td>0.8850</td>\n",
       "      <td>13</td>\n",
       "      <td>15.250000</td>\n",
       "      <td>18</td>\n",
       "    </tr>\n",
       "    <tr>\n",
       "      <th>0.250</th>\n",
       "      <td>0.595</td>\n",
       "      <td>0.728333</td>\n",
       "      <td>0.815</td>\n",
       "      <td>0.470</td>\n",
       "      <td>0.583333</td>\n",
       "      <td>0.650</td>\n",
       "      <td>1.2830</td>\n",
       "      <td>2.105833</td>\n",
       "      <td>2.7795</td>\n",
       "      <td>0.4620</td>\n",
       "      <td>...</td>\n",
       "      <td>1.3485</td>\n",
       "      <td>0.2475</td>\n",
       "      <td>0.475833</td>\n",
       "      <td>0.7600</td>\n",
       "      <td>0.4450</td>\n",
       "      <td>0.606833</td>\n",
       "      <td>0.7975</td>\n",
       "      <td>12</td>\n",
       "      <td>13.333333</td>\n",
       "      <td>14</td>\n",
       "    </tr>\n",
       "    <tr>\n",
       "      <th>0.515</th>\n",
       "      <td>0.705</td>\n",
       "      <td>0.705000</td>\n",
       "      <td>0.705</td>\n",
       "      <td>0.565</td>\n",
       "      <td>0.565000</td>\n",
       "      <td>0.565</td>\n",
       "      <td>2.2100</td>\n",
       "      <td>2.210000</td>\n",
       "      <td>2.2100</td>\n",
       "      <td>1.1075</td>\n",
       "      <td>...</td>\n",
       "      <td>1.1075</td>\n",
       "      <td>0.4865</td>\n",
       "      <td>0.486500</td>\n",
       "      <td>0.4865</td>\n",
       "      <td>0.5120</td>\n",
       "      <td>0.512000</td>\n",
       "      <td>0.5120</td>\n",
       "      <td>10</td>\n",
       "      <td>10.000000</td>\n",
       "      <td>10</td>\n",
       "    </tr>\n",
       "    <tr>\n",
       "      <th>1.130</th>\n",
       "      <td>0.455</td>\n",
       "      <td>0.455000</td>\n",
       "      <td>0.455</td>\n",
       "      <td>0.355</td>\n",
       "      <td>0.355000</td>\n",
       "      <td>0.355</td>\n",
       "      <td>0.5940</td>\n",
       "      <td>0.594000</td>\n",
       "      <td>0.5940</td>\n",
       "      <td>0.3320</td>\n",
       "      <td>...</td>\n",
       "      <td>0.3320</td>\n",
       "      <td>0.1160</td>\n",
       "      <td>0.116000</td>\n",
       "      <td>0.1160</td>\n",
       "      <td>0.1335</td>\n",
       "      <td>0.133500</td>\n",
       "      <td>0.1335</td>\n",
       "      <td>8</td>\n",
       "      <td>8.000000</td>\n",
       "      <td>8</td>\n",
       "    </tr>\n",
       "  </tbody>\n",
       "</table>\n",
       "<p>51 rows × 21 columns</p>\n",
       "</div>\n",
       "      <button class=\"colab-df-convert\" onclick=\"convertToInteractive('df-6ffed1d8-c3d1-4d6b-bff7-64ef196f599f')\"\n",
       "              title=\"Convert this dataframe to an interactive table.\"\n",
       "              style=\"display:none;\">\n",
       "        \n",
       "  <svg xmlns=\"http://www.w3.org/2000/svg\" height=\"24px\"viewBox=\"0 0 24 24\"\n",
       "       width=\"24px\">\n",
       "    <path d=\"M0 0h24v24H0V0z\" fill=\"none\"/>\n",
       "    <path d=\"M18.56 5.44l.94 2.06.94-2.06 2.06-.94-2.06-.94-.94-2.06-.94 2.06-2.06.94zm-11 1L8.5 8.5l.94-2.06 2.06-.94-2.06-.94L8.5 2.5l-.94 2.06-2.06.94zm10 10l.94 2.06.94-2.06 2.06-.94-2.06-.94-.94-2.06-.94 2.06-2.06.94z\"/><path d=\"M17.41 7.96l-1.37-1.37c-.4-.4-.92-.59-1.43-.59-.52 0-1.04.2-1.43.59L10.3 9.45l-7.72 7.72c-.78.78-.78 2.05 0 2.83L4 21.41c.39.39.9.59 1.41.59.51 0 1.02-.2 1.41-.59l7.78-7.78 2.81-2.81c.8-.78.8-2.07 0-2.86zM5.41 20L4 18.59l7.72-7.72 1.47 1.35L5.41 20z\"/>\n",
       "  </svg>\n",
       "      </button>\n",
       "      \n",
       "  <style>\n",
       "    .colab-df-container {\n",
       "      display:flex;\n",
       "      flex-wrap:wrap;\n",
       "      gap: 12px;\n",
       "    }\n",
       "\n",
       "    .colab-df-convert {\n",
       "      background-color: #E8F0FE;\n",
       "      border: none;\n",
       "      border-radius: 50%;\n",
       "      cursor: pointer;\n",
       "      display: none;\n",
       "      fill: #1967D2;\n",
       "      height: 32px;\n",
       "      padding: 0 0 0 0;\n",
       "      width: 32px;\n",
       "    }\n",
       "\n",
       "    .colab-df-convert:hover {\n",
       "      background-color: #E2EBFA;\n",
       "      box-shadow: 0px 1px 2px rgba(60, 64, 67, 0.3), 0px 1px 3px 1px rgba(60, 64, 67, 0.15);\n",
       "      fill: #174EA6;\n",
       "    }\n",
       "\n",
       "    [theme=dark] .colab-df-convert {\n",
       "      background-color: #3B4455;\n",
       "      fill: #D2E3FC;\n",
       "    }\n",
       "\n",
       "    [theme=dark] .colab-df-convert:hover {\n",
       "      background-color: #434B5C;\n",
       "      box-shadow: 0px 1px 3px 1px rgba(0, 0, 0, 0.15);\n",
       "      filter: drop-shadow(0px 1px 2px rgba(0, 0, 0, 0.3));\n",
       "      fill: #FFFFFF;\n",
       "    }\n",
       "  </style>\n",
       "\n",
       "      <script>\n",
       "        const buttonEl =\n",
       "          document.querySelector('#df-6ffed1d8-c3d1-4d6b-bff7-64ef196f599f button.colab-df-convert');\n",
       "        buttonEl.style.display =\n",
       "          google.colab.kernel.accessAllowed ? 'block' : 'none';\n",
       "\n",
       "        async function convertToInteractive(key) {\n",
       "          const element = document.querySelector('#df-6ffed1d8-c3d1-4d6b-bff7-64ef196f599f');\n",
       "          const dataTable =\n",
       "            await google.colab.kernel.invokeFunction('convertToInteractive',\n",
       "                                                     [key], {});\n",
       "          if (!dataTable) return;\n",
       "\n",
       "          const docLinkHtml = 'Like what you see? Visit the ' +\n",
       "            '<a target=\"_blank\" href=https://colab.research.google.com/notebooks/data_table.ipynb>data table notebook</a>'\n",
       "            + ' to learn more about interactive tables.';\n",
       "          element.innerHTML = '';\n",
       "          dataTable['output_type'] = 'display_data';\n",
       "          await google.colab.output.renderOutput(dataTable, element);\n",
       "          const docLink = document.createElement('div');\n",
       "          docLink.innerHTML = docLinkHtml;\n",
       "          element.appendChild(docLink);\n",
       "        }\n",
       "      </script>\n",
       "    </div>\n",
       "  </div>\n",
       "  "
      ],
      "text/plain": [
       "       Length                  Diameter                  Whole weight  \\\n",
       "          min      mean    max      min      mean    max          min   \n",
       "Height                                                                  \n",
       "0.000   0.315  0.372500  0.430    0.230  0.285000  0.340       0.1340   \n",
       "0.010   0.075  0.075000  0.075    0.055  0.055000  0.055       0.0020   \n",
       "0.015   0.165  0.400000  0.635    0.115  0.305000  0.495       0.0145   \n",
       "0.020   0.160  0.162500  0.165    0.110  0.115000  0.120       0.0180   \n",
       "0.025   0.150  0.165000  0.200    0.100  0.116000  0.145       0.0150   \n",
       "0.030   0.110  0.166667  0.215    0.090  0.121667  0.150       0.0080   \n",
       "0.035   0.130  0.153333  0.180    0.095  0.109167  0.125       0.0105   \n",
       "0.040   0.135  0.186154  0.235    0.110  0.138846  0.175       0.0155   \n",
       "0.045   0.180  0.202727  0.240    0.130  0.149091  0.175       0.0265   \n",
       "0.050   0.155  0.220833  0.310    0.105  0.160556  0.225       0.0175   \n",
       "0.055   0.170  0.239600  0.325    0.125  0.176600  0.250       0.0235   \n",
       "0.060   0.200  0.260577  0.320    0.145  0.192308  0.235       0.0370   \n",
       "0.065   0.205  0.275513  0.405    0.150  0.203590  0.310       0.0400   \n",
       "0.070   0.225  0.293191  0.350    0.170  0.217128  0.265       0.0565   \n",
       "0.075   0.235  0.316066  0.375    0.120  0.233525  0.300       0.0860   \n",
       "0.080   0.180  0.338618  0.640    0.135  0.253026  0.515       0.0330   \n",
       "0.085   0.280  0.354797  0.485    0.210  0.267365  0.390       0.1065   \n",
       "0.090   0.275  0.371855  0.600    0.175  0.280081  0.480       0.1105   \n",
       "0.095   0.170  0.383132  0.570    0.130  0.289066  0.440       0.0300   \n",
       "0.100   0.280  0.413828  0.575    0.205  0.313828  0.450       0.1165   \n",
       "0.105   0.310  0.437412  0.525    0.240  0.337018  0.400       0.1715   \n",
       "0.110   0.345  0.448704  0.625    0.265  0.346593  0.490       0.2090   \n",
       "0.115   0.360  0.460865  0.605    0.250  0.353571  0.470       0.2180   \n",
       "0.120   0.185  0.482367  0.625    0.290  0.373669  0.490       0.2830   \n",
       "0.125   0.385  0.499530  0.650    0.280  0.387228  0.515       0.2440   \n",
       "0.130   0.360  0.517663  0.700    0.295  0.400178  0.545       0.2765   \n",
       "0.135   0.365  0.521164  0.640    0.265  0.405476  0.515       0.2215   \n",
       "0.140   0.370  0.536136  0.655    0.275  0.416591  0.500       0.2215   \n",
       "0.145   0.445  0.558297  0.720    0.340  0.434478  0.565       0.4340   \n",
       "0.150   0.445  0.574307  0.710    0.330  0.449007  0.530       0.4850   \n",
       "0.155   0.460  0.586498  0.695    0.350  0.459355  0.550       0.5395   \n",
       "0.160   0.400  0.593317  0.700    0.305  0.465537  0.585       0.3680   \n",
       "0.165   0.440  0.602461  0.730    0.355  0.476088  0.570       0.4350   \n",
       "0.170   0.440  0.614125  0.720    0.345  0.482250  0.575       0.4085   \n",
       "0.175   0.505  0.629052  0.770    0.380  0.496185  0.605       0.6920   \n",
       "0.180   0.470  0.629008  0.765    0.340  0.494389  0.585       0.4410   \n",
       "0.185   0.505  0.636602  0.740    0.390  0.503398  0.585       0.6125   \n",
       "0.190   0.525  0.651117  0.760    0.405  0.511408  0.595       0.6855   \n",
       "0.195   0.520  0.656346  0.800    0.420  0.521346  0.630       0.8085   \n",
       "0.200   0.545  0.667868  0.755    0.415  0.527868  0.605       0.8580   \n",
       "0.205   0.530  0.681778  0.755    0.440  0.542111  0.615       0.8350   \n",
       "0.210   0.510  0.672174  0.780    0.370  0.528478  0.625       1.1830   \n",
       "0.215   0.615  0.697419  0.780    0.485  0.550484  0.630       0.9615   \n",
       "0.220   0.620  0.706176  0.775    0.485  0.556765  0.600       1.3590   \n",
       "0.225   0.585  0.666154  0.735    0.455  0.531538  0.595       1.0550   \n",
       "0.230   0.600  0.670000  0.730    0.475  0.550000  0.600       1.0935   \n",
       "0.235   0.560  0.640000  0.750    0.450  0.515833  0.610       0.8395   \n",
       "0.240   0.610  0.673750  0.725    0.500  0.538750  0.575       1.5415   \n",
       "0.250   0.595  0.728333  0.815    0.470  0.583333  0.650       1.2830   \n",
       "0.515   0.705  0.705000  0.705    0.565  0.565000  0.565       2.2100   \n",
       "1.130   0.455  0.455000  0.455    0.355  0.355000  0.355       0.5940   \n",
       "\n",
       "                         Shucked weight  ...         Viscera weight            \\\n",
       "            mean     max            min  ...     max            min      mean   \n",
       "Height                                   ...                                    \n",
       "0.000   0.281000  0.4280         0.0575  ...  0.2065         0.0285  0.057250   \n",
       "0.010   0.002000  0.0020         0.0010  ...  0.0010         0.0005  0.000500   \n",
       "0.015   0.585500  1.1565         0.0055  ...  0.5115         0.0030  0.155500   \n",
       "0.020   0.018500  0.0190         0.0065  ...  0.0075         0.0025  0.003500   \n",
       "0.025   0.022200  0.0345         0.0045  ...  0.0110         0.0040  0.005400   \n",
       "0.030   0.023667  0.0385         0.0025  ...  0.0155         0.0020  0.005833   \n",
       "0.035   0.020083  0.0340         0.0050  ...  0.0120         0.0025  0.005167   \n",
       "0.040   0.035154  0.0705         0.0065  ...  0.0335         0.0030  0.007808   \n",
       "0.045   0.040773  0.0700         0.0090  ...  0.0315         0.0050  0.009909   \n",
       "0.050   0.054750  0.1445         0.0050  ...  0.0675         0.0035  0.012861   \n",
       "0.055   0.071620  0.1660         0.0090  ...  0.0760         0.0055  0.016300   \n",
       "0.060   0.085365  0.1290         0.0125  ...  0.0615         0.0005  0.018731   \n",
       "0.065   0.102244  0.3205         0.0200  ...  0.1575         0.0105  0.021282   \n",
       "0.070   0.120915  0.2225         0.0240  ...  0.4950         0.0130  0.026181   \n",
       "0.075   0.154992  0.2750         0.0305  ...  0.3045         0.0115  0.034697   \n",
       "0.080   0.196908  1.0420         0.0145  ...  0.5150         0.0070  0.043743   \n",
       "0.085   0.211581  0.6435         0.0390  ...  0.2945         0.0175  0.043581   \n",
       "0.090   0.250073  1.0500         0.0405  ...  0.4570         0.0240  0.053685   \n",
       "0.095   0.269956  0.8270         0.0130  ...  0.3395         0.0080  0.058319   \n",
       "0.100   0.337369  0.9315         0.0545  ...  0.4310         0.0260  0.071417   \n",
       "0.105   0.403320  0.8720         0.0655  ...  0.4515         0.0345  0.088127   \n",
       "0.110   0.437341  1.1360         0.0660  ...  0.5265         0.0440  0.092126   \n",
       "0.115   0.484368  1.1140         0.0920  ...  0.4160         0.0445  0.105883   \n",
       "0.120   0.557722  1.0735         0.1145  ...  0.5160         0.0560  0.121574   \n",
       "0.125   0.607629  1.1805         0.0680  ...  0.5475         0.0380  0.130906   \n",
       "0.130   0.678284  1.5560         0.0895  ...  0.6725         0.0570  0.149695   \n",
       "0.135   0.713505  1.4405         0.1050  ...  0.6100         0.0445  0.154479   \n",
       "0.140   0.762016  1.2380         0.0970  ...  0.6165         0.0455  0.165727   \n",
       "0.145   0.859250  1.7855         0.1560  ...  0.7830         0.0905  0.187709   \n",
       "0.150   0.953193  1.4770         0.1685  ...  0.7185         0.0885  0.208345   \n",
       "0.155   1.023380  1.8495         0.2025  ...  0.8580         0.1085  0.221111   \n",
       "0.160   1.064146  1.7395         0.1615  ...  0.8330         0.0705  0.233278   \n",
       "0.165   1.133956  2.0165         0.1590  ...  1.0685         0.1050  0.246990   \n",
       "0.170   1.173225  1.9335         0.1500  ...  0.9130         0.0825  0.260309   \n",
       "0.175   1.303882  2.1400         0.2560  ...  1.2455         0.1395  0.285185   \n",
       "0.180   1.307916  2.3980         0.1525  ...  1.1280         0.1050  0.286737   \n",
       "0.185   1.351010  2.1240         0.2670  ...  1.0260         0.1360  0.295583   \n",
       "0.190   1.470723  2.5500         0.2830  ...  1.2530         0.1290  0.328180   \n",
       "0.195   1.517949  2.5260         0.2985  ...  1.1155         0.1730  0.338064   \n",
       "0.200   1.579868  2.4925         0.3580  ...  1.1455         0.1525  0.344949   \n",
       "0.205   1.743311  2.3810         0.3200  ...  1.1455         0.2175  0.373722   \n",
       "0.210   1.777065  2.5480         0.5010  ...  1.1965         0.2205  0.382196   \n",
       "0.215   1.888661  2.6570         0.4220  ...  1.4880         0.1760  0.393016   \n",
       "0.220   1.896882  2.5550         0.5095  ...  1.2395         0.2840  0.411588   \n",
       "0.225   1.628077  2.2305         0.3780  ...  1.2395         0.2145  0.352385   \n",
       "0.230   1.811800  2.8255         0.4030  ...  1.1465         0.2235  0.347800   \n",
       "0.235   1.514583  2.5085         0.3000  ...  1.2320         0.1570  0.290000   \n",
       "0.240   1.898250  2.2100         0.4710  ...  1.3510         0.3345  0.395375   \n",
       "0.250   2.105833  2.7795         0.4620  ...  1.3485         0.2475  0.475833   \n",
       "0.515   2.210000  2.2100         1.1075  ...  1.1075         0.4865  0.486500   \n",
       "1.130   0.594000  0.5940         0.3320  ...  0.3320         0.1160  0.116000   \n",
       "\n",
       "               Shell weight                   Rings                 \n",
       "           max          min      mean     max   min       mean max  \n",
       "Height                                                              \n",
       "0.000   0.0860       0.1150  0.232750  0.3505     6   7.000000   8  \n",
       "0.010   0.0005       0.0015  0.001500  0.0015     1   1.000000   1  \n",
       "0.015   0.3080       0.0050  0.146750  0.2885     4   6.500000   9  \n",
       "0.020   0.0045       0.0050  0.005000  0.0050     4   4.000000   4  \n",
       "0.025   0.0075       0.0050  0.006700  0.0100     2   3.800000   5  \n",
       "0.030   0.0150       0.0030  0.007083  0.0105     3   3.833333   6  \n",
       "0.035   0.0085       0.0035  0.005167  0.0085     3   4.000000   5  \n",
       "0.040   0.0180       0.0050  0.009769  0.0200     3   4.230769   5  \n",
       "0.045   0.0235       0.0090  0.012409  0.0200     3   4.272727   7  \n",
       "0.050   0.0385       0.0050  0.018056  0.0450     3   4.500000   6  \n",
       "0.055   0.0510       0.0080  0.021080  0.0450     3   5.080000   7  \n",
       "0.060   0.0375       0.0110  0.026135  0.0400     4   5.230769  11  \n",
       "0.065   0.0660       0.0130  0.031487  0.0880     3   5.641026  10  \n",
       "0.070   0.0480       0.0160  0.036957  0.0700     4   6.021277   8  \n",
       "0.075   0.0675       0.0250  0.046787  0.0900     4   6.327869  11  \n",
       "0.080   0.1755       0.0100  0.059145  0.1750     4   6.855263  13  \n",
       "0.085   0.1030       0.0300  0.065216  0.1980     4   6.959459  13  \n",
       "0.090   0.2685       0.0320  0.074516  0.2800     4   7.282258  12  \n",
       "0.095   0.2215       0.0100  0.083786  0.2350     4   7.351648  15  \n",
       "0.100   0.2220       0.0300  0.100903  0.2350     5   7.772414  13  \n",
       "0.105   0.1800       0.0600  0.120654  0.1985     5   8.482456  17  \n",
       "0.110   0.2075       0.0700  0.128763  0.2950     6   8.333333  17  \n",
       "0.115   0.2910       0.0700  0.140692  0.3100     5   8.834586  17  \n",
       "0.120   0.2735       0.0805  0.160127  0.3100     6   9.100592  19  \n",
       "0.125   0.2830       0.0800  0.177943  0.3750     6   9.475248  21  \n",
       "0.130   0.3740       0.1005  0.196473  0.3300     6   9.887574  21  \n",
       "0.135   0.2790       0.0605  0.206902  0.3605     6  10.005291  23  \n",
       "0.140   0.3175       0.0615  0.223341  0.4000     6  10.309091  22  \n",
       "0.145   0.3405       0.1230  0.247052  0.3850     6  10.456044  21  \n",
       "0.150   0.4405       0.1250  0.267801  0.4405     6  10.374532  23  \n",
       "0.155   0.4420       0.1550  0.291394  0.4850     6  10.834101  20  \n",
       "0.160   0.3775       0.1050  0.303710  0.5800     6  11.063415  23  \n",
       "0.165   0.4365       0.1400  0.326653  0.7800     8  11.512953  23  \n",
       "0.170   0.4565       0.1505  0.329781  0.5100     6  11.493750  22  \n",
       "0.175   0.5260       0.2050  0.379550  0.8500     8  11.819905  23  \n",
       "0.180   0.5120       0.1350  0.372668  0.6000     6  11.572519  27  \n",
       "0.185   0.5500       0.1720  0.384354  0.5550     7  12.194175  29  \n",
       "0.190   0.5410       0.1625  0.413888  0.7250     8  12.155340  21  \n",
       "0.195   0.6415       0.2250  0.441026  0.7100     8  12.538462  26  \n",
       "0.200   0.5750       0.2405  0.461662  0.6850     8  12.705882  23  \n",
       "0.205   0.5250       0.2450  0.484878  0.7260     9  12.755556  20  \n",
       "0.210   0.5745       0.3430  0.511913  1.0050     9  12.347826  20  \n",
       "0.215   0.5640       0.2900  0.539274  0.7100     9  14.225806  25  \n",
       "0.220   0.5265       0.4050  0.531000  0.7600    10  12.352941  17  \n",
       "0.225   0.5145       0.3245  0.489808  0.8850    10  15.769231  27  \n",
       "0.230   0.4350       0.3550  0.570850  0.8970    10  14.500000  19  \n",
       "0.235   0.5190       0.3050  0.468833  0.6210    12  13.500000  16  \n",
       "0.240   0.4650       0.5015  0.652875  0.8850    13  15.250000  18  \n",
       "0.250   0.7600       0.4450  0.606833  0.7975    12  13.333333  14  \n",
       "0.515   0.4865       0.5120  0.512000  0.5120    10  10.000000  10  \n",
       "1.130   0.1160       0.1335  0.133500  0.1335     8   8.000000   8  \n",
       "\n",
       "[51 rows x 21 columns]"
      ]
     },
     "execution_count": 20,
     "metadata": {},
     "output_type": "execute_result"
    }
   ],
   "source": [
    "Hmax = data.groupby('Height').aggregate(['min', np.mean, max])\n",
    "Hmax"
   ]
  },
  {
   "cell_type": "code",
   "execution_count": 22,
   "metadata": {
    "colab": {
     "base_uri": "https://localhost:8080/"
    },
    "id": "OxhWqKRYlhrC",
    "outputId": "6543bfa4-5229-45e5-988a-14267ca8ef84"
   },
   "outputs": [
    {
     "data": {
      "text/plain": [
       "count    4177.000000\n",
       "mean        0.828742\n",
       "std         0.490389\n",
       "min         0.002000\n",
       "25%         0.441500\n",
       "50%         0.799500\n",
       "75%         1.153000\n",
       "max         2.825500\n",
       "Name: Whole weight, dtype: float64"
      ]
     },
     "execution_count": 22,
     "metadata": {},
     "output_type": "execute_result"
    }
   ],
   "source": [
    "data['Whole weight'].describe()"
   ]
  },
  {
   "cell_type": "code",
   "execution_count": 23,
   "metadata": {
    "colab": {
     "base_uri": "https://localhost:8080/"
    },
    "id": "17qoWp08mSPF",
    "outputId": "56c20272-c19a-4c80-8009-c8d2fe56a5c7"
   },
   "outputs": [
    {
     "data": {
      "text/plain": [
       "count    4177.000000\n",
       "mean        0.359367\n",
       "std         0.221963\n",
       "min         0.001000\n",
       "25%         0.186000\n",
       "50%         0.336000\n",
       "75%         0.502000\n",
       "max         1.488000\n",
       "Name: Shucked weight, dtype: float64"
      ]
     },
     "execution_count": 23,
     "metadata": {},
     "output_type": "execute_result"
    }
   ],
   "source": [
    "data['Shucked weight'].describe()"
   ]
  },
  {
   "cell_type": "code",
   "execution_count": 24,
   "metadata": {
    "colab": {
     "base_uri": "https://localhost:8080/"
    },
    "id": "Oa6rduXAmVFB",
    "outputId": "5a9e8897-b843-4e64-b395-585a1d0a5e5e"
   },
   "outputs": [
    {
     "data": {
      "text/plain": [
       "count    4177.000000\n",
       "mean        0.180594\n",
       "std         0.109614\n",
       "min         0.000500\n",
       "25%         0.093500\n",
       "50%         0.171000\n",
       "75%         0.253000\n",
       "max         0.760000\n",
       "Name: Viscera weight, dtype: float64"
      ]
     },
     "execution_count": 24,
     "metadata": {},
     "output_type": "execute_result"
    }
   ],
   "source": [
    "data['Viscera weight'].describe()"
   ]
  },
  {
   "cell_type": "code",
   "execution_count": 25,
   "metadata": {
    "colab": {
     "base_uri": "https://localhost:8080/"
    },
    "id": "DtbJIPYTmamv",
    "outputId": "aad4643b-60d0-4ea6-9e64-222b4f646c07"
   },
   "outputs": [
    {
     "data": {
      "text/plain": [
       "count    4177.000000\n",
       "mean        0.238831\n",
       "std         0.139203\n",
       "min         0.001500\n",
       "25%         0.130000\n",
       "50%         0.234000\n",
       "75%         0.329000\n",
       "max         1.005000\n",
       "Name: Shell weight, dtype: float64"
      ]
     },
     "execution_count": 25,
     "metadata": {},
     "output_type": "execute_result"
    }
   ],
   "source": [
    "data['Shell weight'].describe()"
   ]
  },
  {
   "cell_type": "code",
   "execution_count": 26,
   "metadata": {
    "colab": {
     "base_uri": "https://localhost:8080/"
    },
    "id": "f6qCPDEcmjec",
    "outputId": "ee6f48cb-3937-4501-d2e1-c1789ef6f406"
   },
   "outputs": [
    {
     "data": {
      "text/plain": [
       "count    4177.000000\n",
       "mean        9.933684\n",
       "std         3.224169\n",
       "min         1.000000\n",
       "25%         8.000000\n",
       "50%         9.000000\n",
       "75%        11.000000\n",
       "max        29.000000\n",
       "Name: Rings, dtype: float64"
      ]
     },
     "execution_count": 26,
     "metadata": {},
     "output_type": "execute_result"
    }
   ],
   "source": [
    "data.Rings.describe()"
   ]
  },
  {
   "cell_type": "code",
   "execution_count": 27,
   "metadata": {
    "colab": {
     "base_uri": "https://localhost:8080/",
     "height": 351
    },
    "id": "3CHD8cvdmsBD",
    "outputId": "892cab9a-cac2-4f8a-b7e4-dfb94c44fcc1"
   },
   "outputs": [
    {
     "name": "stderr",
     "output_type": "stream",
     "text": [
      "/usr/local/lib/python3.7/dist-packages/seaborn/_decorators.py:43: FutureWarning: Pass the following variable as a keyword arg: x. From version 0.12, the only valid positional argument will be `data`, and passing other arguments without an explicit keyword will result in an error or misinterpretation.\n",
      "  FutureWarning\n"
     ]
    },
    {
     "data": {
      "text/plain": [
       "<matplotlib.axes._subplots.AxesSubplot at 0x7f3a5279b090>"
      ]
     },
     "execution_count": 27,
     "metadata": {},
     "output_type": "execute_result"
    },
    {
     "data": {
      "image/png": "[encoded data removed]",
      "text/plain": [
       "<Figure size 432x288 with 1 Axes>"
      ]
     },
     "metadata": {
      "needs_background": "light"
     },
     "output_type": "display_data"
    }
   ],
   "source": [
    "sns.boxplot(data['Rings'])"
   ]
  },
  {
   "cell_type": "code",
   "execution_count": 28,
   "metadata": {
    "colab": {
     "base_uri": "https://localhost:8080/",
     "height": 282
    },
    "id": "0iodG-xom3dD",
    "outputId": "f6444ce0-c129-4885-c1d8-4307c5c292e9"
   },
   "outputs": [
    {
     "data": {
      "text/plain": [
       "<matplotlib.axes._subplots.AxesSubplot at 0x7f3a522a37d0>"
      ]
     },
     "execution_count": 28,
     "metadata": {},
     "output_type": "execute_result"
    },
    {
     "data": {
      "image/png": "[encoded data removed]",
      "text/plain": [
       "<Figure size 432x288 with 1 Axes>"
      ]
     },
     "metadata": {
      "needs_background": "light"
     },
     "output_type": "display_data"
    }
   ],
   "source": [
    "data.boxplot(column=['Height'], grid=False)"
   ]
  },
  {
   "cell_type": "code",
   "execution_count": 29,
   "metadata": {
    "colab": {
     "base_uri": "https://localhost:8080/",
     "height": 316
    },
    "id": "_NHt2Z3VnQUl",
    "outputId": "c8820a47-0212-40f4-e572-69c65140bbdf"
   },
   "outputs": [
    {
     "data": {
      "text/plain": [
       "array([[<matplotlib.axes._subplots.AxesSubplot object at 0x7f3a51d10210>]],\n",
       "      dtype=object)"
      ]
     },
     "execution_count": 29,
     "metadata": {},
     "output_type": "execute_result"
    },
    {
     "data": {
      "image/png": "[encoded data removed]",
      "text/plain": [
       "<Figure size 432x288 with 1 Axes>"
      ]
     },
     "metadata": {
      "needs_background": "light"
     },
     "output_type": "display_data"
    }
   ],
   "source": [
    "data.hist(column=\"Shucked weight\", grid=False, edgecolor='black')"
   ]
  },
  {
   "cell_type": "code",
   "execution_count": 13,
   "metadata": {
    "id": "eMqgGLqVn7nO"
   },
   "outputs": [],
   "source": [
    "import warnings\n",
    "warnings.filterwarnings('ignore')"
   ]
  },
  {
   "cell_type": "code",
   "execution_count": 31,
   "metadata": {
    "colab": {
     "base_uri": "https://localhost:8080/",
     "height": 351
    },
    "id": "vGjzWD45n8NL",
    "outputId": "c6bc5dfa-6f38-41f9-b4d9-35b00ddd9144"
   },
   "outputs": [
    {
     "data": {
      "text/plain": [
       "<matplotlib.axes._subplots.AxesSubplot at 0x7f3a51c27850>"
      ]
     },
     "execution_count": 31,
     "metadata": {},
     "output_type": "execute_result"
    },
    {
     "data": {
      "image/png": "[encoded data removed]",
      "text/plain": [
       "<Figure size 576x360 with 1 Axes>"
      ]
     },
     "metadata": {
      "needs_background": "light"
     },
     "output_type": "display_data"
    }
   ],
   "source": [
    "plt.figure(figsize=(8,5))\n",
    "Credit = data['Whole weight']\n",
    "sns.distplot(Credit)"
   ]
  },
  {
   "cell_type": "code",
   "execution_count": 32,
   "metadata": {
    "colab": {
     "base_uri": "https://localhost:8080/",
     "height": 296
    },
    "id": "iijffQLXoXs6",
    "outputId": "fca32085-12c4-4a73-c3e6-73854afeaf57"
   },
   "outputs": [
    {
     "data": {
      "text/plain": [
       "<matplotlib.axes._subplots.AxesSubplot at 0x7f3a51b9b250>"
      ]
     },
     "execution_count": 32,
     "metadata": {},
     "output_type": "execute_result"
    },
    {
     "data": {
      "image/png": "[encoded data removed]",
      "text/plain": [
       "<Figure size 432x288 with 1 Axes>"
      ]
     },
     "metadata": {
      "needs_background": "light"
     },
     "output_type": "display_data"
    }
   ],
   "source": [
    "sns.kdeplot(data['Whole weight'])"
   ]
  },
  {
   "cell_type": "markdown",
   "metadata": {
    "id": "Adta6DdOoi-s"
   },
   "source": [
    "# ***Bi-Variate Analysis***"
   ]
  },
  {
   "cell_type": "code",
   "execution_count": 33,
   "metadata": {
    "colab": {
     "base_uri": "https://localhost:8080/",
     "height": 206
    },
    "id": "BlDY-sEhoy5j",
    "outputId": "d5a44439-8ae6-4b2e-e744-3a547577d743"
   },
   "outputs": [
    {
     "data": {
      "text/html": [
       "\n",
       "  <div id=\"df-a38e43ff-3449-47b0-9a2e-e84b6ef98806\">\n",
       "    <div class=\"colab-df-container\">\n",
       "      <div>\n",
       "<style scoped>\n",
       "    .dataframe tbody tr th:only-of-type {\n",
       "        vertical-align: middle;\n",
       "    }\n",
       "\n",
       "    .dataframe tbody tr th {\n",
       "        vertical-align: top;\n",
       "    }\n",
       "\n",
       "    .dataframe thead th {\n",
       "        text-align: right;\n",
       "    }\n",
       "</style>\n",
       "<table border=\"1\" class=\"dataframe\">\n",
       "  <thead>\n",
       "    <tr style=\"text-align: right;\">\n",
       "      <th></th>\n",
       "      <th>Sex</th>\n",
       "      <th>Length</th>\n",
       "      <th>Diameter</th>\n",
       "      <th>Height</th>\n",
       "      <th>Whole weight</th>\n",
       "      <th>Shucked weight</th>\n",
       "      <th>Viscera weight</th>\n",
       "      <th>Shell weight</th>\n",
       "      <th>Rings</th>\n",
       "    </tr>\n",
       "  </thead>\n",
       "  <tbody>\n",
       "    <tr>\n",
       "      <th>0</th>\n",
       "      <td>M</td>\n",
       "      <td>0.455</td>\n",
       "      <td>0.365</td>\n",
       "      <td>0.095</td>\n",
       "      <td>0.5140</td>\n",
       "      <td>0.2245</td>\n",
       "      <td>0.1010</td>\n",
       "      <td>0.150</td>\n",
       "      <td>15</td>\n",
       "    </tr>\n",
       "    <tr>\n",
       "      <th>1</th>\n",
       "      <td>M</td>\n",
       "      <td>0.350</td>\n",
       "      <td>0.265</td>\n",
       "      <td>0.090</td>\n",
       "      <td>0.2255</td>\n",
       "      <td>0.0995</td>\n",
       "      <td>0.0485</td>\n",
       "      <td>0.070</td>\n",
       "      <td>7</td>\n",
       "    </tr>\n",
       "    <tr>\n",
       "      <th>2</th>\n",
       "      <td>F</td>\n",
       "      <td>0.530</td>\n",
       "      <td>0.420</td>\n",
       "      <td>0.135</td>\n",
       "      <td>0.6770</td>\n",
       "      <td>0.2565</td>\n",
       "      <td>0.1415</td>\n",
       "      <td>0.210</td>\n",
       "      <td>9</td>\n",
       "    </tr>\n",
       "    <tr>\n",
       "      <th>3</th>\n",
       "      <td>M</td>\n",
       "      <td>0.440</td>\n",
       "      <td>0.365</td>\n",
       "      <td>0.125</td>\n",
       "      <td>0.5160</td>\n",
       "      <td>0.2155</td>\n",
       "      <td>0.1140</td>\n",
       "      <td>0.155</td>\n",
       "      <td>10</td>\n",
       "    </tr>\n",
       "    <tr>\n",
       "      <th>4</th>\n",
       "      <td>I</td>\n",
       "      <td>0.330</td>\n",
       "      <td>0.255</td>\n",
       "      <td>0.080</td>\n",
       "      <td>0.2050</td>\n",
       "      <td>0.0895</td>\n",
       "      <td>0.0395</td>\n",
       "      <td>0.055</td>\n",
       "      <td>7</td>\n",
       "    </tr>\n",
       "  </tbody>\n",
       "</table>\n",
       "</div>\n",
       "      <button class=\"colab-df-convert\" onclick=\"convertToInteractive('df-a38e43ff-3449-47b0-9a2e-e84b6ef98806')\"\n",
       "              title=\"Convert this dataframe to an interactive table.\"\n",
       "              style=\"display:none;\">\n",
       "        \n",
       "  <svg xmlns=\"http://www.w3.org/2000/svg\" height=\"24px\"viewBox=\"0 0 24 24\"\n",
       "       width=\"24px\">\n",
       "    <path d=\"M0 0h24v24H0V0z\" fill=\"none\"/>\n",
       "    <path d=\"M18.56 5.44l.94 2.06.94-2.06 2.06-.94-2.06-.94-.94-2.06-.94 2.06-2.06.94zm-11 1L8.5 8.5l.94-2.06 2.06-.94-2.06-.94L8.5 2.5l-.94 2.06-2.06.94zm10 10l.94 2.06.94-2.06 2.06-.94-2.06-.94-.94-2.06-.94 2.06-2.06.94z\"/><path d=\"M17.41 7.96l-1.37-1.37c-.4-.4-.92-.59-1.43-.59-.52 0-1.04.2-1.43.59L10.3 9.45l-7.72 7.72c-.78.78-.78 2.05 0 2.83L4 21.41c.39.39.9.59 1.41.59.51 0 1.02-.2 1.41-.59l7.78-7.78 2.81-2.81c.8-.78.8-2.07 0-2.86zM5.41 20L4 18.59l7.72-7.72 1.47 1.35L5.41 20z\"/>\n",
       "  </svg>\n",
       "      </button>\n",
       "      \n",
       "  <style>\n",
       "    .colab-df-container {\n",
       "      display:flex;\n",
       "      flex-wrap:wrap;\n",
       "      gap: 12px;\n",
       "    }\n",
       "\n",
       "    .colab-df-convert {\n",
       "      background-color: #E8F0FE;\n",
       "      border: none;\n",
       "      border-radius: 50%;\n",
       "      cursor: pointer;\n",
       "      display: none;\n",
       "      fill: #1967D2;\n",
       "      height: 32px;\n",
       "      padding: 0 0 0 0;\n",
       "      width: 32px;\n",
       "    }\n",
       "\n",
       "    .colab-df-convert:hover {\n",
       "      background-color: #E2EBFA;\n",
       "      box-shadow: 0px 1px 2px rgba(60, 64, 67, 0.3), 0px 1px 3px 1px rgba(60, 64, 67, 0.15);\n",
       "      fill: #174EA6;\n",
       "    }\n",
       "\n",
       "    [theme=dark] .colab-df-convert {\n",
       "      background-color: #3B4455;\n",
       "      fill: #D2E3FC;\n",
       "    }\n",
       "\n",
       "    [theme=dark] .colab-df-convert:hover {\n",
       "      background-color: #434B5C;\n",
       "      box-shadow: 0px 1px 3px 1px rgba(0, 0, 0, 0.15);\n",
       "      filter: drop-shadow(0px 1px 2px rgba(0, 0, 0, 0.3));\n",
       "      fill: #FFFFFF;\n",
       "    }\n",
       "  </style>\n",
       "\n",
       "      <script>\n",
       "        const buttonEl =\n",
       "          document.querySelector('#df-a38e43ff-3449-47b0-9a2e-e84b6ef98806 button.colab-df-convert');\n",
       "        buttonEl.style.display =\n",
       "          google.colab.kernel.accessAllowed ? 'block' : 'none';\n",
       "\n",
       "        async function convertToInteractive(key) {\n",
       "          const element = document.querySelector('#df-a38e43ff-3449-47b0-9a2e-e84b6ef98806');\n",
       "          const dataTable =\n",
       "            await google.colab.kernel.invokeFunction('convertToInteractive',\n",
       "                                                     [key], {});\n",
       "          if (!dataTable) return;\n",
       "\n",
       "          const docLinkHtml = 'Like what you see? Visit the ' +\n",
       "            '<a target=\"_blank\" href=https://colab.research.google.com/notebooks/data_table.ipynb>data table notebook</a>'\n",
       "            + ' to learn more about interactive tables.';\n",
       "          element.innerHTML = '';\n",
       "          dataTable['output_type'] = 'display_data';\n",
       "          await google.colab.output.renderOutput(dataTable, element);\n",
       "          const docLink = document.createElement('div');\n",
       "          docLink.innerHTML = docLinkHtml;\n",
       "          element.appendChild(docLink);\n",
       "        }\n",
       "      </script>\n",
       "    </div>\n",
       "  </div>\n",
       "  "
      ],
      "text/plain": [
       "  Sex  Length  Diameter  Height  Whole weight  Shucked weight  Viscera weight  \\\n",
       "0   M   0.455     0.365   0.095        0.5140          0.2245          0.1010   \n",
       "1   M   0.350     0.265   0.090        0.2255          0.0995          0.0485   \n",
       "2   F   0.530     0.420   0.135        0.6770          0.2565          0.1415   \n",
       "3   M   0.440     0.365   0.125        0.5160          0.2155          0.1140   \n",
       "4   I   0.330     0.255   0.080        0.2050          0.0895          0.0395   \n",
       "\n",
       "   Shell weight  Rings  \n",
       "0         0.150     15  \n",
       "1         0.070      7  \n",
       "2         0.210      9  \n",
       "3         0.155     10  \n",
       "4         0.055      7  "
      ]
     },
     "execution_count": 33,
     "metadata": {},
     "output_type": "execute_result"
    }
   ],
   "source": [
    "data.head()"
   ]
  },
  {
   "cell_type": "code",
   "execution_count": 34,
   "metadata": {
    "colab": {
     "base_uri": "https://localhost:8080/"
    },
    "id": "JCRWniISo9Fc",
    "outputId": "f888e019-146f-4ae7-fdd2-b7710d9e7688"
   },
   "outputs": [
    {
     "data": {
      "text/plain": [
       "array([15,  7,  9, 10,  8, 20, 16, 19, 14, 11, 12, 18, 13,  5,  4,  6, 21,\n",
       "       17, 22,  1,  3, 26, 23, 29,  2, 27, 25, 24])"
      ]
     },
     "execution_count": 34,
     "metadata": {},
     "output_type": "execute_result"
    }
   ],
   "source": [
    "data['Rings'].unique()"
   ]
  },
  {
   "cell_type": "code",
   "execution_count": 36,
   "metadata": {
    "colab": {
     "base_uri": "https://localhost:8080/",
     "height": 296
    },
    "id": "_7SZ6IAhpOZd",
    "outputId": "eea845e1-9d6a-4e0a-e542-d7093e207874"
   },
   "outputs": [
    {
     "data": {
      "text/plain": [
       "<matplotlib.axes._subplots.AxesSubplot at 0x7f3a526291d0>"
      ]
     },
     "execution_count": 36,
     "metadata": {},
     "output_type": "execute_result"
    },
    {
     "data": {
      "image/png": "[encoded data removed]",
      "text/plain": [
       "<Figure size 432x288 with 1 Axes>"
      ]
     },
     "metadata": {
      "needs_background": "light"
     },
     "output_type": "display_data"
    }
   ],
   "source": [
    "ring_below = data.query(\"Rings < 10\")\n",
    "sns.lineplot(data=ring_below, x=\"Diameter\", y=\"Height\")"
   ]
  },
  {
   "cell_type": "code",
   "execution_count": 37,
   "metadata": {
    "colab": {
     "base_uri": "https://localhost:8080/",
     "height": 1000
    },
    "id": "tG9SGQeYpmhd",
    "outputId": "4aa2fd7a-5003-4e19-9926-70a305752988"
   },
   "outputs": [
    {
     "data": {
      "image/png": "[encoded data removed]",
      "text/plain": [
       "<Figure size 1440x1440 with 72 Axes>"
      ]
     },
     "metadata": {
      "needs_background": "light"
     },
     "output_type": "display_data"
    }
   ],
   "source": [
    "g = sns.pairplot(data, diag_kind=\"kde\", markers=\"+\",\n",
    "                 plot_kws=dict(s=50, edgecolor=\"b\", linewidth=1),\n",
    "                 diag_kws=dict(shade=True))"
   ]
  },
  {
   "cell_type": "code",
   "execution_count": 38,
   "metadata": {
    "colab": {
     "base_uri": "https://localhost:8080/",
     "height": 271
    },
    "id": "K1cHlKBip2OI",
    "outputId": "5a30e3d1-4693-49b8-f37b-00a79296c6d6"
   },
   "outputs": [
    {
     "data": {
      "text/plain": [
       "<matplotlib.axes._subplots.AxesSubplot at 0x7f3a4d8c2e10>"
      ]
     },
     "execution_count": 38,
     "metadata": {},
     "output_type": "execute_result"
    },
    {
     "data": {
      "image/png": "[encoded data removed]",
      "text/plain": [
       "<Figure size 432x288 with 2 Axes>"
      ]
     },
     "metadata": {
      "needs_background": "light"
     },
     "output_type": "display_data"
    }
   ],
   "source": [
    "data[data['Rings'] < 20].plot.hexbin(x='Whole weight', y='Shell weight', gridsize=15)"
   ]
  },
  {
   "cell_type": "code",
   "execution_count": 44,
   "metadata": {
    "colab": {
     "base_uri": "https://localhost:8080/",
     "height": 504
    },
    "id": "7hzp5NXIqHVD",
    "outputId": "b9369b0b-1560-4716-e623-a30eb4fd7d04"
   },
   "outputs": [
    {
     "data": {
      "text/plain": [
       "<seaborn.axisgrid.FacetGrid at 0x7f3a4aa57c50>"
      ]
     },
     "execution_count": 44,
     "metadata": {},
     "output_type": "execute_result"
    },
    {
     "data": {
      "text/plain": [
       "<Figure size 1080x1080 with 0 Axes>"
      ]
     },
     "metadata": {},
     "output_type": "display_data"
    },
    {
     "data": {
      "image/png": "[encoded data removed]",
      "text/plain": [
       "<Figure size 408.75x360 with 1 Axes>"
      ]
     },
     "metadata": {
      "needs_background": "light"
     },
     "output_type": "display_data"
    }
   ],
   "source": [
    "plt.figure(figsize=(15,15))\n",
    "sns.FacetGrid(data, hue='Rings', size=5).map(sns.distplot,\"Height\").add_legend()"
   ]
  },
  {
   "cell_type": "markdown",
   "metadata": {
    "id": "wsUcBhxEq31g"
   },
   "source": [
    "# ***Multi-Variate Analysis***"
   ]
  },
  {
   "cell_type": "code",
   "execution_count": 45,
   "metadata": {
    "colab": {
     "base_uri": "https://localhost:8080/",
     "height": 455
    },
    "id": "z4APKuD8rDtX",
    "outputId": "888c897d-9d0d-4413-f3cd-be264f5eb051"
   },
   "outputs": [
    {
     "data": {
      "text/html": [
       "\n",
       "  <div id=\"df-a60bc5b1-4a15-4e78-95fc-f8dd022fbc98\">\n",
       "    <div class=\"colab-df-container\">\n",
       "      <div>\n",
       "<style scoped>\n",
       "    .dataframe tbody tr th:only-of-type {\n",
       "        vertical-align: middle;\n",
       "    }\n",
       "\n",
       "    .dataframe tbody tr th {\n",
       "        vertical-align: top;\n",
       "    }\n",
       "\n",
       "    .dataframe thead th {\n",
       "        text-align: right;\n",
       "    }\n",
       "</style>\n",
       "<table border=\"1\" class=\"dataframe\">\n",
       "  <thead>\n",
       "    <tr style=\"text-align: right;\">\n",
       "      <th></th>\n",
       "      <th></th>\n",
       "      <th>Whole weight</th>\n",
       "      <th>Shucked weight</th>\n",
       "    </tr>\n",
       "    <tr>\n",
       "      <th>Length</th>\n",
       "      <th>Rings</th>\n",
       "      <th></th>\n",
       "      <th></th>\n",
       "    </tr>\n",
       "  </thead>\n",
       "  <tbody>\n",
       "    <tr>\n",
       "      <th>0.075</th>\n",
       "      <th>1</th>\n",
       "      <td>0.0020</td>\n",
       "      <td>0.00100</td>\n",
       "    </tr>\n",
       "    <tr>\n",
       "      <th>0.110</th>\n",
       "      <th>3</th>\n",
       "      <td>0.0080</td>\n",
       "      <td>0.00250</td>\n",
       "    </tr>\n",
       "    <tr>\n",
       "      <th rowspan=\"2\" valign=\"top\">0.130</th>\n",
       "      <th>3</th>\n",
       "      <td>0.0130</td>\n",
       "      <td>0.00450</td>\n",
       "    </tr>\n",
       "    <tr>\n",
       "      <th>4</th>\n",
       "      <td>0.0105</td>\n",
       "      <td>0.00500</td>\n",
       "    </tr>\n",
       "    <tr>\n",
       "      <th>0.135</th>\n",
       "      <th>4</th>\n",
       "      <td>0.0290</td>\n",
       "      <td>0.01250</td>\n",
       "    </tr>\n",
       "    <tr>\n",
       "      <th>...</th>\n",
       "      <th>...</th>\n",
       "      <td>...</td>\n",
       "      <td>...</td>\n",
       "    </tr>\n",
       "    <tr>\n",
       "      <th rowspan=\"2\" valign=\"top\">0.775</th>\n",
       "      <th>12</th>\n",
       "      <td>2.7795</td>\n",
       "      <td>1.34850</td>\n",
       "    </tr>\n",
       "    <tr>\n",
       "      <th>17</th>\n",
       "      <td>2.0320</td>\n",
       "      <td>0.73500</td>\n",
       "    </tr>\n",
       "    <tr>\n",
       "      <th>0.780</th>\n",
       "      <th>11</th>\n",
       "      <td>2.6025</td>\n",
       "      <td>1.34125</td>\n",
       "    </tr>\n",
       "    <tr>\n",
       "      <th>0.800</th>\n",
       "      <th>23</th>\n",
       "      <td>2.5260</td>\n",
       "      <td>0.93300</td>\n",
       "    </tr>\n",
       "    <tr>\n",
       "      <th>0.815</th>\n",
       "      <th>14</th>\n",
       "      <td>2.2550</td>\n",
       "      <td>0.89050</td>\n",
       "    </tr>\n",
       "  </tbody>\n",
       "</table>\n",
       "<p>983 rows × 2 columns</p>\n",
       "</div>\n",
       "      <button class=\"colab-df-convert\" onclick=\"convertToInteractive('df-a60bc5b1-4a15-4e78-95fc-f8dd022fbc98')\"\n",
       "              title=\"Convert this dataframe to an interactive table.\"\n",
       "              style=\"display:none;\">\n",
       "        \n",
       "  <svg xmlns=\"http://www.w3.org/2000/svg\" height=\"24px\"viewBox=\"0 0 24 24\"\n",
       "       width=\"24px\">\n",
       "    <path d=\"M0 0h24v24H0V0z\" fill=\"none\"/>\n",
       "    <path d=\"M18.56 5.44l.94 2.06.94-2.06 2.06-.94-2.06-.94-.94-2.06-.94 2.06-2.06.94zm-11 1L8.5 8.5l.94-2.06 2.06-.94-2.06-.94L8.5 2.5l-.94 2.06-2.06.94zm10 10l.94 2.06.94-2.06 2.06-.94-2.06-.94-.94-2.06-.94 2.06-2.06.94z\"/><path d=\"M17.41 7.96l-1.37-1.37c-.4-.4-.92-.59-1.43-.59-.52 0-1.04.2-1.43.59L10.3 9.45l-7.72 7.72c-.78.78-.78 2.05 0 2.83L4 21.41c.39.39.9.59 1.41.59.51 0 1.02-.2 1.41-.59l7.78-7.78 2.81-2.81c.8-.78.8-2.07 0-2.86zM5.41 20L4 18.59l7.72-7.72 1.47 1.35L5.41 20z\"/>\n",
       "  </svg>\n",
       "      </button>\n",
       "      \n",
       "  <style>\n",
       "    .colab-df-container {\n",
       "      display:flex;\n",
       "      flex-wrap:wrap;\n",
       "      gap: 12px;\n",
       "    }\n",
       "\n",
       "    .colab-df-convert {\n",
       "      background-color: #E8F0FE;\n",
       "      border: none;\n",
       "      border-radius: 50%;\n",
       "      cursor: pointer;\n",
       "      display: none;\n",
       "      fill: #1967D2;\n",
       "      height: 32px;\n",
       "      padding: 0 0 0 0;\n",
       "      width: 32px;\n",
       "    }\n",
       "\n",
       "    .colab-df-convert:hover {\n",
       "      background-color: #E2EBFA;\n",
       "      box-shadow: 0px 1px 2px rgba(60, 64, 67, 0.3), 0px 1px 3px 1px rgba(60, 64, 67, 0.15);\n",
       "      fill: #174EA6;\n",
       "    }\n",
       "\n",
       "    [theme=dark] .colab-df-convert {\n",
       "      background-color: #3B4455;\n",
       "      fill: #D2E3FC;\n",
       "    }\n",
       "\n",
       "    [theme=dark] .colab-df-convert:hover {\n",
       "      background-color: #434B5C;\n",
       "      box-shadow: 0px 1px 3px 1px rgba(0, 0, 0, 0.15);\n",
       "      filter: drop-shadow(0px 1px 2px rgba(0, 0, 0, 0.3));\n",
       "      fill: #FFFFFF;\n",
       "    }\n",
       "  </style>\n",
       "\n",
       "      <script>\n",
       "        const buttonEl =\n",
       "          document.querySelector('#df-a60bc5b1-4a15-4e78-95fc-f8dd022fbc98 button.colab-df-convert');\n",
       "        buttonEl.style.display =\n",
       "          google.colab.kernel.accessAllowed ? 'block' : 'none';\n",
       "\n",
       "        async function convertToInteractive(key) {\n",
       "          const element = document.querySelector('#df-a60bc5b1-4a15-4e78-95fc-f8dd022fbc98');\n",
       "          const dataTable =\n",
       "            await google.colab.kernel.invokeFunction('convertToInteractive',\n",
       "                                                     [key], {});\n",
       "          if (!dataTable) return;\n",
       "\n",
       "          const docLinkHtml = 'Like what you see? Visit the ' +\n",
       "            '<a target=\"_blank\" href=https://colab.research.google.com/notebooks/data_table.ipynb>data table notebook</a>'\n",
       "            + ' to learn more about interactive tables.';\n",
       "          element.innerHTML = '';\n",
       "          dataTable['output_type'] = 'display_data';\n",
       "          await google.colab.output.renderOutput(dataTable, element);\n",
       "          const docLink = document.createElement('div');\n",
       "          docLink.innerHTML = docLinkHtml;\n",
       "          element.appendChild(docLink);\n",
       "        }\n",
       "      </script>\n",
       "    </div>\n",
       "  </div>\n",
       "  "
      ],
      "text/plain": [
       "              Whole weight  Shucked weight\n",
       "Length Rings                              \n",
       "0.075  1            0.0020         0.00100\n",
       "0.110  3            0.0080         0.00250\n",
       "0.130  3            0.0130         0.00450\n",
       "       4            0.0105         0.00500\n",
       "0.135  4            0.0290         0.01250\n",
       "...                    ...             ...\n",
       "0.775  12           2.7795         1.34850\n",
       "       17           2.0320         0.73500\n",
       "0.780  11           2.6025         1.34125\n",
       "0.800  23           2.5260         0.93300\n",
       "0.815  14           2.2550         0.89050\n",
       "\n",
       "[983 rows x 2 columns]"
      ]
     },
     "execution_count": 45,
     "metadata": {},
     "output_type": "execute_result"
    }
   ],
   "source": [
    "data_legendary = data.groupby(['Length', 'Rings']).mean()[['Whole weight', 'Shucked weight']]\n",
    "data_legendary"
   ]
  },
  {
   "cell_type": "code",
   "execution_count": 46,
   "metadata": {
    "colab": {
     "base_uri": "https://localhost:8080/",
     "height": 410
    },
    "id": "om7OdmWTrdW8",
    "outputId": "cbcdb68c-83c0-4916-d1fc-d3a4c914604c"
   },
   "outputs": [
    {
     "data": {
      "text/plain": [
       "<matplotlib.axes._subplots.AxesSubplot at 0x7f3a4a618810>"
      ]
     },
     "execution_count": 46,
     "metadata": {},
     "output_type": "execute_result"
    },
    {
     "data": {
      "image/png": "[encoded data removed]",
      "text/plain": [
       "<Figure size 576x360 with 2 Axes>"
      ]
     },
     "metadata": {
      "needs_background": "light"
     },
     "output_type": "display_data"
    }
   ],
   "source": [
    "plt.figure(figsize=(8,5))\n",
    "sns.heatmap(data.corr(),  annot=True)"
   ]
  },
  {
   "cell_type": "markdown",
   "metadata": {
    "id": "85C-2YHxrof3"
   },
   "source": [
    "# ***4. Perform descriptive statistics on the dataset***"
   ]
  },
  {
   "cell_type": "code",
   "execution_count": 47,
   "metadata": {
    "colab": {
     "base_uri": "https://localhost:8080/"
    },
    "id": "XnmRNpuCrhlM",
    "outputId": "c303a466-8819-4e31-fa5e-288ce2aad1c6"
   },
   "outputs": [
    {
     "name": "stdout",
     "output_type": "stream",
     "text": [
      "<class 'pandas.core.frame.DataFrame'>\n",
      "RangeIndex: 4177 entries, 0 to 4176\n",
      "Data columns (total 9 columns):\n",
      " #   Column          Non-Null Count  Dtype  \n",
      "---  ------          --------------  -----  \n",
      " 0   Sex             4177 non-null   object \n",
      " 1   Length          4177 non-null   float64\n",
      " 2   Diameter        4177 non-null   float64\n",
      " 3   Height          4177 non-null   float64\n",
      " 4   Whole weight    4177 non-null   float64\n",
      " 5   Shucked weight  4177 non-null   float64\n",
      " 6   Viscera weight  4177 non-null   float64\n",
      " 7   Shell weight    4177 non-null   float64\n",
      " 8   Rings           4177 non-null   int64  \n",
      "dtypes: float64(7), int64(1), object(1)\n",
      "memory usage: 293.8+ KB\n"
     ]
    }
   ],
   "source": [
    "data.info()"
   ]
  },
  {
   "cell_type": "code",
   "execution_count": 48,
   "metadata": {
    "colab": {
     "base_uri": "https://localhost:8080/",
     "height": 300
    },
    "id": "GKLRPXTvr10J",
    "outputId": "a81956bd-b846-4e82-9ef4-a9feb21c0366"
   },
   "outputs": [
    {
     "data": {
      "text/html": [
       "\n",
       "  <div id=\"df-e0720157-1887-4303-9f3a-2d4887758b0f\">\n",
       "    <div class=\"colab-df-container\">\n",
       "      <div>\n",
       "<style scoped>\n",
       "    .dataframe tbody tr th:only-of-type {\n",
       "        vertical-align: middle;\n",
       "    }\n",
       "\n",
       "    .dataframe tbody tr th {\n",
       "        vertical-align: top;\n",
       "    }\n",
       "\n",
       "    .dataframe thead th {\n",
       "        text-align: right;\n",
       "    }\n",
       "</style>\n",
       "<table border=\"1\" class=\"dataframe\">\n",
       "  <thead>\n",
       "    <tr style=\"text-align: right;\">\n",
       "      <th></th>\n",
       "      <th>Length</th>\n",
       "      <th>Diameter</th>\n",
       "      <th>Height</th>\n",
       "      <th>Whole weight</th>\n",
       "      <th>Shucked weight</th>\n",
       "      <th>Viscera weight</th>\n",
       "      <th>Shell weight</th>\n",
       "      <th>Rings</th>\n",
       "    </tr>\n",
       "  </thead>\n",
       "  <tbody>\n",
       "    <tr>\n",
       "      <th>count</th>\n",
       "      <td>4177.000000</td>\n",
       "      <td>4177.000000</td>\n",
       "      <td>4177.000000</td>\n",
       "      <td>4177.000000</td>\n",
       "      <td>4177.000000</td>\n",
       "      <td>4177.000000</td>\n",
       "      <td>4177.000000</td>\n",
       "      <td>4177.000000</td>\n",
       "    </tr>\n",
       "    <tr>\n",
       "      <th>mean</th>\n",
       "      <td>0.523992</td>\n",
       "      <td>0.407881</td>\n",
       "      <td>0.139516</td>\n",
       "      <td>0.828742</td>\n",
       "      <td>0.359367</td>\n",
       "      <td>0.180594</td>\n",
       "      <td>0.238831</td>\n",
       "      <td>9.933684</td>\n",
       "    </tr>\n",
       "    <tr>\n",
       "      <th>std</th>\n",
       "      <td>0.120093</td>\n",
       "      <td>0.099240</td>\n",
       "      <td>0.041827</td>\n",
       "      <td>0.490389</td>\n",
       "      <td>0.221963</td>\n",
       "      <td>0.109614</td>\n",
       "      <td>0.139203</td>\n",
       "      <td>3.224169</td>\n",
       "    </tr>\n",
       "    <tr>\n",
       "      <th>min</th>\n",
       "      <td>0.075000</td>\n",
       "      <td>0.055000</td>\n",
       "      <td>0.000000</td>\n",
       "      <td>0.002000</td>\n",
       "      <td>0.001000</td>\n",
       "      <td>0.000500</td>\n",
       "      <td>0.001500</td>\n",
       "      <td>1.000000</td>\n",
       "    </tr>\n",
       "    <tr>\n",
       "      <th>25%</th>\n",
       "      <td>0.450000</td>\n",
       "      <td>0.350000</td>\n",
       "      <td>0.115000</td>\n",
       "      <td>0.441500</td>\n",
       "      <td>0.186000</td>\n",
       "      <td>0.093500</td>\n",
       "      <td>0.130000</td>\n",
       "      <td>8.000000</td>\n",
       "    </tr>\n",
       "    <tr>\n",
       "      <th>50%</th>\n",
       "      <td>0.545000</td>\n",
       "      <td>0.425000</td>\n",
       "      <td>0.140000</td>\n",
       "      <td>0.799500</td>\n",
       "      <td>0.336000</td>\n",
       "      <td>0.171000</td>\n",
       "      <td>0.234000</td>\n",
       "      <td>9.000000</td>\n",
       "    </tr>\n",
       "    <tr>\n",
       "      <th>75%</th>\n",
       "      <td>0.615000</td>\n",
       "      <td>0.480000</td>\n",
       "      <td>0.165000</td>\n",
       "      <td>1.153000</td>\n",
       "      <td>0.502000</td>\n",
       "      <td>0.253000</td>\n",
       "      <td>0.329000</td>\n",
       "      <td>11.000000</td>\n",
       "    </tr>\n",
       "    <tr>\n",
       "      <th>max</th>\n",
       "      <td>0.815000</td>\n",
       "      <td>0.650000</td>\n",
       "      <td>1.130000</td>\n",
       "      <td>2.825500</td>\n",
       "      <td>1.488000</td>\n",
       "      <td>0.760000</td>\n",
       "      <td>1.005000</td>\n",
       "      <td>29.000000</td>\n",
       "    </tr>\n",
       "  </tbody>\n",
       "</table>\n",
       "</div>\n",
       "      <button class=\"colab-df-convert\" onclick=\"convertToInteractive('df-e0720157-1887-4303-9f3a-2d4887758b0f')\"\n",
       "              title=\"Convert this dataframe to an interactive table.\"\n",
       "              style=\"display:none;\">\n",
       "        \n",
       "  <svg xmlns=\"http://www.w3.org/2000/svg\" height=\"24px\"viewBox=\"0 0 24 24\"\n",
       "       width=\"24px\">\n",
       "    <path d=\"M0 0h24v24H0V0z\" fill=\"none\"/>\n",
       "    <path d=\"M18.56 5.44l.94 2.06.94-2.06 2.06-.94-2.06-.94-.94-2.06-.94 2.06-2.06.94zm-11 1L8.5 8.5l.94-2.06 2.06-.94-2.06-.94L8.5 2.5l-.94 2.06-2.06.94zm10 10l.94 2.06.94-2.06 2.06-.94-2.06-.94-.94-2.06-.94 2.06-2.06.94z\"/><path d=\"M17.41 7.96l-1.37-1.37c-.4-.4-.92-.59-1.43-.59-.52 0-1.04.2-1.43.59L10.3 9.45l-7.72 7.72c-.78.78-.78 2.05 0 2.83L4 21.41c.39.39.9.59 1.41.59.51 0 1.02-.2 1.41-.59l7.78-7.78 2.81-2.81c.8-.78.8-2.07 0-2.86zM5.41 20L4 18.59l7.72-7.72 1.47 1.35L5.41 20z\"/>\n",
       "  </svg>\n",
       "      </button>\n",
       "      \n",
       "  <style>\n",
       "    .colab-df-container {\n",
       "      display:flex;\n",
       "      flex-wrap:wrap;\n",
       "      gap: 12px;\n",
       "    }\n",
       "\n",
       "    .colab-df-convert {\n",
       "      background-color: #E8F0FE;\n",
       "      border: none;\n",
       "      border-radius: 50%;\n",
       "      cursor: pointer;\n",
       "      display: none;\n",
       "      fill: #1967D2;\n",
       "      height: 32px;\n",
       "      padding: 0 0 0 0;\n",
       "      width: 32px;\n",
       "    }\n",
       "\n",
       "    .colab-df-convert:hover {\n",
       "      background-color: #E2EBFA;\n",
       "      box-shadow: 0px 1px 2px rgba(60, 64, 67, 0.3), 0px 1px 3px 1px rgba(60, 64, 67, 0.15);\n",
       "      fill: #174EA6;\n",
       "    }\n",
       "\n",
       "    [theme=dark] .colab-df-convert {\n",
       "      background-color: #3B4455;\n",
       "      fill: #D2E3FC;\n",
       "    }\n",
       "\n",
       "    [theme=dark] .colab-df-convert:hover {\n",
       "      background-color: #434B5C;\n",
       "      box-shadow: 0px 1px 3px 1px rgba(0, 0, 0, 0.15);\n",
       "      filter: drop-shadow(0px 1px 2px rgba(0, 0, 0, 0.3));\n",
       "      fill: #FFFFFF;\n",
       "    }\n",
       "  </style>\n",
       "\n",
       "      <script>\n",
       "        const buttonEl =\n",
       "          document.querySelector('#df-e0720157-1887-4303-9f3a-2d4887758b0f button.colab-df-convert');\n",
       "        buttonEl.style.display =\n",
       "          google.colab.kernel.accessAllowed ? 'block' : 'none';\n",
       "\n",
       "        async function convertToInteractive(key) {\n",
       "          const element = document.querySelector('#df-e0720157-1887-4303-9f3a-2d4887758b0f');\n",
       "          const dataTable =\n",
       "            await google.colab.kernel.invokeFunction('convertToInteractive',\n",
       "                                                     [key], {});\n",
       "          if (!dataTable) return;\n",
       "\n",
       "          const docLinkHtml = 'Like what you see? Visit the ' +\n",
       "            '<a target=\"_blank\" href=https://colab.research.google.com/notebooks/data_table.ipynb>data table notebook</a>'\n",
       "            + ' to learn more about interactive tables.';\n",
       "          element.innerHTML = '';\n",
       "          dataTable['output_type'] = 'display_data';\n",
       "          await google.colab.output.renderOutput(dataTable, element);\n",
       "          const docLink = document.createElement('div');\n",
       "          docLink.innerHTML = docLinkHtml;\n",
       "          element.appendChild(docLink);\n",
       "        }\n",
       "      </script>\n",
       "    </div>\n",
       "  </div>\n",
       "  "
      ],
      "text/plain": [
       "            Length     Diameter       Height  Whole weight  Shucked weight  \\\n",
       "count  4177.000000  4177.000000  4177.000000   4177.000000     4177.000000   \n",
       "mean      0.523992     0.407881     0.139516      0.828742        0.359367   \n",
       "std       0.120093     0.099240     0.041827      0.490389        0.221963   \n",
       "min       0.075000     0.055000     0.000000      0.002000        0.001000   \n",
       "25%       0.450000     0.350000     0.115000      0.441500        0.186000   \n",
       "50%       0.545000     0.425000     0.140000      0.799500        0.336000   \n",
       "75%       0.615000     0.480000     0.165000      1.153000        0.502000   \n",
       "max       0.815000     0.650000     1.130000      2.825500        1.488000   \n",
       "\n",
       "       Viscera weight  Shell weight        Rings  \n",
       "count     4177.000000   4177.000000  4177.000000  \n",
       "mean         0.180594      0.238831     9.933684  \n",
       "std          0.109614      0.139203     3.224169  \n",
       "min          0.000500      0.001500     1.000000  \n",
       "25%          0.093500      0.130000     8.000000  \n",
       "50%          0.171000      0.234000     9.000000  \n",
       "75%          0.253000      0.329000    11.000000  \n",
       "max          0.760000      1.005000    29.000000  "
      ]
     },
     "execution_count": 48,
     "metadata": {},
     "output_type": "execute_result"
    }
   ],
   "source": [
    "data.describe()"
   ]
  },
  {
   "cell_type": "code",
   "execution_count": 50,
   "metadata": {
    "colab": {
     "base_uri": "https://localhost:8080/",
     "height": 81
    },
    "id": "1YXadjSzr4H2",
    "outputId": "70bcf7a6-26dd-44af-ea70-c9adcb458cb2"
   },
   "outputs": [
    {
     "data": {
      "text/html": [
       "\n",
       "  <div id=\"df-ba44930e-3d8b-4b73-8fa1-b29d23f090c4\">\n",
       "    <div class=\"colab-df-container\">\n",
       "      <div>\n",
       "<style scoped>\n",
       "    .dataframe tbody tr th:only-of-type {\n",
       "        vertical-align: middle;\n",
       "    }\n",
       "\n",
       "    .dataframe tbody tr th {\n",
       "        vertical-align: top;\n",
       "    }\n",
       "\n",
       "    .dataframe thead th {\n",
       "        text-align: right;\n",
       "    }\n",
       "</style>\n",
       "<table border=\"1\" class=\"dataframe\">\n",
       "  <thead>\n",
       "    <tr style=\"text-align: right;\">\n",
       "      <th>col_0</th>\n",
       "      <th>Rings</th>\n",
       "      <th>count</th>\n",
       "    </tr>\n",
       "  </thead>\n",
       "  <tbody>\n",
       "    <tr>\n",
       "      <th>8</th>\n",
       "      <td>9</td>\n",
       "      <td>689</td>\n",
       "    </tr>\n",
       "  </tbody>\n",
       "</table>\n",
       "</div>\n",
       "      <button class=\"colab-df-convert\" onclick=\"convertToInteractive('df-ba44930e-3d8b-4b73-8fa1-b29d23f090c4')\"\n",
       "              title=\"Convert this dataframe to an interactive table.\"\n",
       "              style=\"display:none;\">\n",
       "        \n",
       "  <svg xmlns=\"http://www.w3.org/2000/svg\" height=\"24px\"viewBox=\"0 0 24 24\"\n",
       "       width=\"24px\">\n",
       "    <path d=\"M0 0h24v24H0V0z\" fill=\"none\"/>\n",
       "    <path d=\"M18.56 5.44l.94 2.06.94-2.06 2.06-.94-2.06-.94-.94-2.06-.94 2.06-2.06.94zm-11 1L8.5 8.5l.94-2.06 2.06-.94-2.06-.94L8.5 2.5l-.94 2.06-2.06.94zm10 10l.94 2.06.94-2.06 2.06-.94-2.06-.94-.94-2.06-.94 2.06-2.06.94z\"/><path d=\"M17.41 7.96l-1.37-1.37c-.4-.4-.92-.59-1.43-.59-.52 0-1.04.2-1.43.59L10.3 9.45l-7.72 7.72c-.78.78-.78 2.05 0 2.83L4 21.41c.39.39.9.59 1.41.59.51 0 1.02-.2 1.41-.59l7.78-7.78 2.81-2.81c.8-.78.8-2.07 0-2.86zM5.41 20L4 18.59l7.72-7.72 1.47 1.35L5.41 20z\"/>\n",
       "  </svg>\n",
       "      </button>\n",
       "      \n",
       "  <style>\n",
       "    .colab-df-container {\n",
       "      display:flex;\n",
       "      flex-wrap:wrap;\n",
       "      gap: 12px;\n",
       "    }\n",
       "\n",
       "    .colab-df-convert {\n",
       "      background-color: #E8F0FE;\n",
       "      border: none;\n",
       "      border-radius: 50%;\n",
       "      cursor: pointer;\n",
       "      display: none;\n",
       "      fill: #1967D2;\n",
       "      height: 32px;\n",
       "      padding: 0 0 0 0;\n",
       "      width: 32px;\n",
       "    }\n",
       "\n",
       "    .colab-df-convert:hover {\n",
       "      background-color: #E2EBFA;\n",
       "      box-shadow: 0px 1px 2px rgba(60, 64, 67, 0.3), 0px 1px 3px 1px rgba(60, 64, 67, 0.15);\n",
       "      fill: #174EA6;\n",
       "    }\n",
       "\n",
       "    [theme=dark] .colab-df-convert {\n",
       "      background-color: #3B4455;\n",
       "      fill: #D2E3FC;\n",
       "    }\n",
       "\n",
       "    [theme=dark] .colab-df-convert:hover {\n",
       "      background-color: #434B5C;\n",
       "      box-shadow: 0px 1px 3px 1px rgba(0, 0, 0, 0.15);\n",
       "      filter: drop-shadow(0px 1px 2px rgba(0, 0, 0, 0.3));\n",
       "      fill: #FFFFFF;\n",
       "    }\n",
       "  </style>\n",
       "\n",
       "      <script>\n",
       "        const buttonEl =\n",
       "          document.querySelector('#df-ba44930e-3d8b-4b73-8fa1-b29d23f090c4 button.colab-df-convert');\n",
       "        buttonEl.style.display =\n",
       "          google.colab.kernel.accessAllowed ? 'block' : 'none';\n",
       "\n",
       "        async function convertToInteractive(key) {\n",
       "          const element = document.querySelector('#df-ba44930e-3d8b-4b73-8fa1-b29d23f090c4');\n",
       "          const dataTable =\n",
       "            await google.colab.kernel.invokeFunction('convertToInteractive',\n",
       "                                                     [key], {});\n",
       "          if (!dataTable) return;\n",
       "\n",
       "          const docLinkHtml = 'Like what you see? Visit the ' +\n",
       "            '<a target=\"_blank\" href=https://colab.research.google.com/notebooks/data_table.ipynb>data table notebook</a>'\n",
       "            + ' to learn more about interactive tables.';\n",
       "          element.innerHTML = '';\n",
       "          dataTable['output_type'] = 'display_data';\n",
       "          await google.colab.output.renderOutput(dataTable, element);\n",
       "          const docLink = document.createElement('div');\n",
       "          docLink.innerHTML = docLinkHtml;\n",
       "          element.appendChild(docLink);\n",
       "        }\n",
       "      </script>\n",
       "    </div>\n",
       "  </div>\n",
       "  "
      ],
      "text/plain": [
       "col_0  Rings  count\n",
       "8          9    689"
      ]
     },
     "execution_count": 50,
     "metadata": {},
     "output_type": "execute_result"
    }
   ],
   "source": [
    "mth_exp = pd.crosstab(index=data[\"Rings\"], columns=\"count\")\n",
    "mth_exp.reset_index(inplace=True)\n",
    "mth_exp[mth_exp['count'] == data.Rings.value_counts().max()]"
   ]
  },
  {
   "cell_type": "markdown",
   "metadata": {
    "id": "nQ8vIbnesc1M"
   },
   "source": [
    "# ***5. Check for Missing values and deal with them***"
   ]
  },
  {
   "cell_type": "code",
   "execution_count": 51,
   "metadata": {
    "colab": {
     "base_uri": "https://localhost:8080/"
    },
    "id": "02YPvhgrsiC4",
    "outputId": "d72b1610-e823-4eef-ddec-598f9ce0f665"
   },
   "outputs": [
    {
     "data": {
      "text/plain": [
       "Sex               0\n",
       "Length            0\n",
       "Diameter          0\n",
       "Height            0\n",
       "Whole weight      0\n",
       "Shucked weight    0\n",
       "Viscera weight    0\n",
       "Shell weight      0\n",
       "Rings             0\n",
       "dtype: int64"
      ]
     },
     "execution_count": 51,
     "metadata": {},
     "output_type": "execute_result"
    }
   ],
   "source": [
    "data.isna().sum()"
   ]
  },
  {
   "cell_type": "markdown",
   "metadata": {
    "id": "W5SdnPmYsoIJ"
   },
   "source": [
    "***There are no missing values in the given dataset.***"
   ]
  },
  {
   "cell_type": "markdown",
   "metadata": {
    "id": "RdtCZjN5s0gF"
   },
   "source": [
    "# ***6. Find the outliers and replace them outliers***"
   ]
  },
  {
   "cell_type": "code",
   "execution_count": 52,
   "metadata": {
    "colab": {
     "base_uri": "https://localhost:8080/",
     "height": 296
    },
    "id": "SQmyALL8s7AR",
    "outputId": "37da6be7-4606-4cca-fb1d-b26968c0a20a"
   },
   "outputs": [
    {
     "data": {
      "text/plain": [
       "<matplotlib.axes._subplots.AxesSubplot at 0x7f3a4a3a9ed0>"
      ]
     },
     "execution_count": 52,
     "metadata": {},
     "output_type": "execute_result"
    },
    {
     "data": {
      "image/png": "[encoded data removed]",
      "text/plain": [
       "<Figure size 432x288 with 1 Axes>"
      ]
     },
     "metadata": {
      "needs_background": "light"
     },
     "output_type": "display_data"
    }
   ],
   "source": [
    "sns.boxplot(data['Length'])"
   ]
  },
  {
   "cell_type": "code",
   "execution_count": 53,
   "metadata": {
    "colab": {
     "base_uri": "https://localhost:8080/",
     "height": 296
    },
    "id": "kBdIFU2otVVX",
    "outputId": "d52eab8c-28e4-4a8d-9169-cd5c2fde9862"
   },
   "outputs": [
    {
     "data": {
      "text/plain": [
       "<matplotlib.axes._subplots.AxesSubplot at 0x7f3a4a395690>"
      ]
     },
     "execution_count": 53,
     "metadata": {},
     "output_type": "execute_result"
    },
    {
     "data": {
      "image/png": "[encoded data removed]",
      "text/plain": [
       "<Figure size 432x288 with 1 Axes>"
      ]
     },
     "metadata": {
      "needs_background": "light"
     },
     "output_type": "display_data"
    }
   ],
   "source": [
    "sns.boxplot(data['Diameter'])"
   ]
  },
  {
   "cell_type": "code",
   "execution_count": 54,
   "metadata": {
    "colab": {
     "base_uri": "https://localhost:8080/",
     "height": 296
    },
    "id": "sRdZxKWktdDO",
    "outputId": "9c4159eb-c48d-4d5b-8ed5-72bcf920a7b7"
   },
   "outputs": [
    {
     "data": {
      "text/plain": [
       "<matplotlib.axes._subplots.AxesSubplot at 0x7f3a4a311e90>"
      ]
     },
     "execution_count": 54,
     "metadata": {},
     "output_type": "execute_result"
    },
    {
     "data": {
      "image/png": "[encoded data removed]",
      "text/plain": [
       "<Figure size 432x288 with 1 Axes>"
      ]
     },
     "metadata": {
      "needs_background": "light"
     },
     "output_type": "display_data"
    }
   ],
   "source": [
    "sns.boxplot(data['Height'])"
   ]
  },
  {
   "cell_type": "code",
   "execution_count": 55,
   "metadata": {
    "colab": {
     "base_uri": "https://localhost:8080/",
     "height": 296
    },
    "id": "Tc7ATyYDtjeK",
    "outputId": "6d1737d5-e9dd-4fb8-d7ce-39444892689b"
   },
   "outputs": [
    {
     "data": {
      "text/plain": [
       "<matplotlib.axes._subplots.AxesSubplot at 0x7f3a4a3dea90>"
      ]
     },
     "execution_count": 55,
     "metadata": {},
     "output_type": "execute_result"
    },
    {
     "data": {
      "image/png": "[encoded data removed]",
      "text/plain": [
       "<Figure size 432x288 with 1 Axes>"
      ]
     },
     "metadata": {
      "needs_background": "light"
     },
     "output_type": "display_data"
    }
   ],
   "source": [
    "sns.boxplot(data['Whole weight'])"
   ]
  },
  {
   "cell_type": "code",
   "execution_count": 56,
   "metadata": {
    "colab": {
     "base_uri": "https://localhost:8080/",
     "height": 296
    },
    "id": "L2NSp0ljtsIy",
    "outputId": "c39a86a9-6bad-43ac-8ae6-fd02acb75e29"
   },
   "outputs": [
    {
     "data": {
      "text/plain": [
       "<matplotlib.axes._subplots.AxesSubplot at 0x7f3a4a1e8590>"
      ]
     },
     "execution_count": 56,
     "metadata": {},
     "output_type": "execute_result"
    },
    {
     "data": {
      "image/png": "[encoded data removed]",
      "text/plain": [
       "<Figure size 432x288 with 1 Axes>"
      ]
     },
     "metadata": {
      "needs_background": "light"
     },
     "output_type": "display_data"
    }
   ],
   "source": [
    "sns.boxplot(data['Shucked weight'])"
   ]
  },
  {
   "cell_type": "code",
   "execution_count": 57,
   "metadata": {
    "colab": {
     "base_uri": "https://localhost:8080/",
     "height": 296
    },
    "id": "cvCmVUCvt14X",
    "outputId": "510cc3a6-d062-4d79-910c-9d847b20b023"
   },
   "outputs": [
    {
     "data": {
      "text/plain": [
       "<matplotlib.axes._subplots.AxesSubplot at 0x7f3a4a1df750>"
      ]
     },
     "execution_count": 57,
     "metadata": {},
     "output_type": "execute_result"
    },
    {
     "data": {
      "image/png": "[encoded data removed]",
      "text/plain": [
       "<Figure size 432x288 with 1 Axes>"
      ]
     },
     "metadata": {
      "needs_background": "light"
     },
     "output_type": "display_data"
    }
   ],
   "source": [
    "sns.boxplot(data['Viscera weight'])"
   ]
  },
  {
   "cell_type": "code",
   "execution_count": 59,
   "metadata": {
    "colab": {
     "base_uri": "https://localhost:8080/",
     "height": 296
    },
    "id": "yqM85pl0t-B7",
    "outputId": "e6a82d92-05f4-45f6-f01a-678edf529f65"
   },
   "outputs": [
    {
     "data": {
      "text/plain": [
       "<matplotlib.axes._subplots.AxesSubplot at 0x7f3a4a156d50>"
      ]
     },
     "execution_count": 59,
     "metadata": {},
     "output_type": "execute_result"
    },
    {
     "data": {
      "image/png": "[encoded data removed]",
      "text/plain": [
       "<Figure size 432x288 with 1 Axes>"
      ]
     },
     "metadata": {
      "needs_background": "light"
     },
     "output_type": "display_data"
    }
   ],
   "source": [
    "sns.boxplot(data['Shell weight'])"
   ]
  },
  {
   "cell_type": "code",
   "execution_count": 12,
   "metadata": {
    "colab": {
     "base_uri": "https://localhost:8080/",
     "height": 351
    },
    "id": "QEj2w_gJuDdu",
    "outputId": "4c765658-96e6-421f-bb46-de1d862937e3"
   },
   "outputs": [
    {
     "name": "stderr",
     "output_type": "stream",
     "text": [
      "/usr/local/lib/python3.7/dist-packages/seaborn/_decorators.py:43: FutureWarning: Pass the following variable as a keyword arg: x. From version 0.12, the only valid positional argument will be `data`, and passing other arguments without an explicit keyword will result in an error or misinterpretation.\n",
      "  FutureWarning\n"
     ]
    },
    {
     "data": {
      "text/plain": [
       "<matplotlib.axes._subplots.AxesSubplot at 0x7f064319bf50>"
      ]
     },
     "execution_count": 12,
     "metadata": {},
     "output_type": "execute_result"
    },
    {
     "data": {
      "image/png": "[encoded data removed]",
      "text/plain": [
       "<Figure size 432x288 with 1 Axes>"
      ]
     },
     "metadata": {
      "needs_background": "light"
     },
     "output_type": "display_data"
    }
   ],
   "source": [
    "sns.boxplot(data['Rings'])"
   ]
  },
  {
   "cell_type": "code",
   "execution_count": 76,
   "metadata": {
    "id": "8Z-sTuKF50cH"
   },
   "outputs": [],
   "source": [
    "cols = data[['Length','Diameter','Height','Whole weight','Shucked weight','Viscera weight','Shell weight','Rings']]"
   ]
  },
  {
   "cell_type": "code",
   "execution_count": 6,
   "metadata": {
    "colab": {
     "base_uri": "https://localhost:8080/"
    },
    "id": "kjvdeZwjiDIA",
    "outputId": "5d34122b-479c-42a5-c3b0-10a4a27a7d31"
   },
   "outputs": [
    {
     "name": "stdout",
     "output_type": "stream",
     "text": [
      "old shape:  (4177, 9)\n"
     ]
    }
   ],
   "source": [
    "print(\"old shape: \", data.shape)"
   ]
  },
  {
   "cell_type": "code",
   "execution_count": 5,
   "metadata": {
    "id": "vheXHBwEdU0u"
   },
   "outputs": [],
   "source": [
    "def find_outliers(col):\n",
    "  q1 = col.quantile(0.25)\n",
    "  q3 = col.quantile(0.75)\n",
    "  IQR = q3 - q1\n",
    "  ub = np.where(col >= (q3+1.5*IQR))\n",
    "  lb = np.where(col <= (q1-1.5*IQR))\n",
    "\n",
    "for col in data.columns:\n",
    "  if data[col].dtype in [\"int64\", \"float64\"]:\n",
    "    data.drop(find_outliers(data[col]))"
   ]
  },
  {
   "cell_type": "code",
   "execution_count": 16,
   "metadata": {
    "id": "HhptNcgqi6hb"
   },
   "outputs": [],
   "source": [
    "for col in data.columns:\n",
    "  if data[col].dtype in [\"int64\", \"float64\"]:\n",
    "    data.drop([col], axis=1)"
   ]
  },
  {
   "cell_type": "code",
   "execution_count": 10,
   "metadata": {
    "colab": {
     "base_uri": "https://localhost:8080/",
     "height": 206
    },
    "id": "H7tK4AUajcEa",
    "outputId": "a3c17bee-0e9e-4631-dc8a-1b25b34e3856"
   },
   "outputs": [
    {
     "data": {
      "text/html": [
       "\n",
       "  <div id=\"df-ac14dd83-4664-44b5-ad2b-e549c6e1f20f\">\n",
       "    <div class=\"colab-df-container\">\n",
       "      <div>\n",
       "<style scoped>\n",
       "    .dataframe tbody tr th:only-of-type {\n",
       "        vertical-align: middle;\n",
       "    }\n",
       "\n",
       "    .dataframe tbody tr th {\n",
       "        vertical-align: top;\n",
       "    }\n",
       "\n",
       "    .dataframe thead th {\n",
       "        text-align: right;\n",
       "    }\n",
       "</style>\n",
       "<table border=\"1\" class=\"dataframe\">\n",
       "  <thead>\n",
       "    <tr style=\"text-align: right;\">\n",
       "      <th></th>\n",
       "      <th>Sex</th>\n",
       "      <th>Length</th>\n",
       "      <th>Diameter</th>\n",
       "      <th>Height</th>\n",
       "      <th>Whole weight</th>\n",
       "      <th>Shucked weight</th>\n",
       "      <th>Viscera weight</th>\n",
       "      <th>Shell weight</th>\n",
       "      <th>Rings</th>\n",
       "    </tr>\n",
       "  </thead>\n",
       "  <tbody>\n",
       "    <tr>\n",
       "      <th>0</th>\n",
       "      <td>M</td>\n",
       "      <td>0.455</td>\n",
       "      <td>0.365</td>\n",
       "      <td>0.095</td>\n",
       "      <td>0.5140</td>\n",
       "      <td>0.2245</td>\n",
       "      <td>0.1010</td>\n",
       "      <td>0.150</td>\n",
       "      <td>15</td>\n",
       "    </tr>\n",
       "    <tr>\n",
       "      <th>1</th>\n",
       "      <td>M</td>\n",
       "      <td>0.350</td>\n",
       "      <td>0.265</td>\n",
       "      <td>0.090</td>\n",
       "      <td>0.2255</td>\n",
       "      <td>0.0995</td>\n",
       "      <td>0.0485</td>\n",
       "      <td>0.070</td>\n",
       "      <td>7</td>\n",
       "    </tr>\n",
       "    <tr>\n",
       "      <th>2</th>\n",
       "      <td>F</td>\n",
       "      <td>0.530</td>\n",
       "      <td>0.420</td>\n",
       "      <td>0.135</td>\n",
       "      <td>0.6770</td>\n",
       "      <td>0.2565</td>\n",
       "      <td>0.1415</td>\n",
       "      <td>0.210</td>\n",
       "      <td>9</td>\n",
       "    </tr>\n",
       "    <tr>\n",
       "      <th>3</th>\n",
       "      <td>M</td>\n",
       "      <td>0.440</td>\n",
       "      <td>0.365</td>\n",
       "      <td>0.125</td>\n",
       "      <td>0.5160</td>\n",
       "      <td>0.2155</td>\n",
       "      <td>0.1140</td>\n",
       "      <td>0.155</td>\n",
       "      <td>10</td>\n",
       "    </tr>\n",
       "    <tr>\n",
       "      <th>4</th>\n",
       "      <td>I</td>\n",
       "      <td>0.330</td>\n",
       "      <td>0.255</td>\n",
       "      <td>0.080</td>\n",
       "      <td>0.2050</td>\n",
       "      <td>0.0895</td>\n",
       "      <td>0.0395</td>\n",
       "      <td>0.055</td>\n",
       "      <td>7</td>\n",
       "    </tr>\n",
       "  </tbody>\n",
       "</table>\n",
       "</div>\n",
       "      <button class=\"colab-df-convert\" onclick=\"convertToInteractive('df-ac14dd83-4664-44b5-ad2b-e549c6e1f20f')\"\n",
       "              title=\"Convert this dataframe to an interactive table.\"\n",
       "              style=\"display:none;\">\n",
       "        \n",
       "  <svg xmlns=\"http://www.w3.org/2000/svg\" height=\"24px\"viewBox=\"0 0 24 24\"\n",
       "       width=\"24px\">\n",
       "    <path d=\"M0 0h24v24H0V0z\" fill=\"none\"/>\n",
       "    <path d=\"M18.56 5.44l.94 2.06.94-2.06 2.06-.94-2.06-.94-.94-2.06-.94 2.06-2.06.94zm-11 1L8.5 8.5l.94-2.06 2.06-.94-2.06-.94L8.5 2.5l-.94 2.06-2.06.94zm10 10l.94 2.06.94-2.06 2.06-.94-2.06-.94-.94-2.06-.94 2.06-2.06.94z\"/><path d=\"M17.41 7.96l-1.37-1.37c-.4-.4-.92-.59-1.43-.59-.52 0-1.04.2-1.43.59L10.3 9.45l-7.72 7.72c-.78.78-.78 2.05 0 2.83L4 21.41c.39.39.9.59 1.41.59.51 0 1.02-.2 1.41-.59l7.78-7.78 2.81-2.81c.8-.78.8-2.07 0-2.86zM5.41 20L4 18.59l7.72-7.72 1.47 1.35L5.41 20z\"/>\n",
       "  </svg>\n",
       "      </button>\n",
       "      \n",
       "  <style>\n",
       "    .colab-df-container {\n",
       "      display:flex;\n",
       "      flex-wrap:wrap;\n",
       "      gap: 12px;\n",
       "    }\n",
       "\n",
       "    .colab-df-convert {\n",
       "      background-color: #E8F0FE;\n",
       "      border: none;\n",
       "      border-radius: 50%;\n",
       "      cursor: pointer;\n",
       "      display: none;\n",
       "      fill: #1967D2;\n",
       "      height: 32px;\n",
       "      padding: 0 0 0 0;\n",
       "      width: 32px;\n",
       "    }\n",
       "\n",
       "    .colab-df-convert:hover {\n",
       "      background-color: #E2EBFA;\n",
       "      box-shadow: 0px 1px 2px rgba(60, 64, 67, 0.3), 0px 1px 3px 1px rgba(60, 64, 67, 0.15);\n",
       "      fill: #174EA6;\n",
       "    }\n",
       "\n",
       "    [theme=dark] .colab-df-convert {\n",
       "      background-color: #3B4455;\n",
       "      fill: #D2E3FC;\n",
       "    }\n",
       "\n",
       "    [theme=dark] .colab-df-convert:hover {\n",
       "      background-color: #434B5C;\n",
       "      box-shadow: 0px 1px 3px 1px rgba(0, 0, 0, 0.15);\n",
       "      filter: drop-shadow(0px 1px 2px rgba(0, 0, 0, 0.3));\n",
       "      fill: #FFFFFF;\n",
       "    }\n",
       "  </style>\n",
       "\n",
       "      <script>\n",
       "        const buttonEl =\n",
       "          document.querySelector('#df-ac14dd83-4664-44b5-ad2b-e549c6e1f20f button.colab-df-convert');\n",
       "        buttonEl.style.display =\n",
       "          google.colab.kernel.accessAllowed ? 'block' : 'none';\n",
       "\n",
       "        async function convertToInteractive(key) {\n",
       "          const element = document.querySelector('#df-ac14dd83-4664-44b5-ad2b-e549c6e1f20f');\n",
       "          const dataTable =\n",
       "            await google.colab.kernel.invokeFunction('convertToInteractive',\n",
       "                                                     [key], {});\n",
       "          if (!dataTable) return;\n",
       "\n",
       "          const docLinkHtml = 'Like what you see? Visit the ' +\n",
       "            '<a target=\"_blank\" href=https://colab.research.google.com/notebooks/data_table.ipynb>data table notebook</a>'\n",
       "            + ' to learn more about interactive tables.';\n",
       "          element.innerHTML = '';\n",
       "          dataTable['output_type'] = 'display_data';\n",
       "          await google.colab.output.renderOutput(dataTable, element);\n",
       "          const docLink = document.createElement('div');\n",
       "          docLink.innerHTML = docLinkHtml;\n",
       "          element.appendChild(docLink);\n",
       "        }\n",
       "      </script>\n",
       "    </div>\n",
       "  </div>\n",
       "  "
      ],
      "text/plain": [
       "  Sex  Length  Diameter  Height  Whole weight  Shucked weight  Viscera weight  \\\n",
       "0   M   0.455     0.365   0.095        0.5140          0.2245          0.1010   \n",
       "1   M   0.350     0.265   0.090        0.2255          0.0995          0.0485   \n",
       "2   F   0.530     0.420   0.135        0.6770          0.2565          0.1415   \n",
       "3   M   0.440     0.365   0.125        0.5160          0.2155          0.1140   \n",
       "4   I   0.330     0.255   0.080        0.2050          0.0895          0.0395   \n",
       "\n",
       "   Shell weight  Rings  \n",
       "0         0.150     15  \n",
       "1         0.070      7  \n",
       "2         0.210      9  \n",
       "3         0.155     10  \n",
       "4         0.055      7  "
      ]
     },
     "execution_count": 10,
     "metadata": {},
     "output_type": "execute_result"
    }
   ],
   "source": [
    "data.head()"
   ]
  },
  {
   "cell_type": "markdown",
   "metadata": {
    "id": "mDavHII6mU9i"
   },
   "source": [
    "# ***7. Check for Categorical columns and perform encoding.***"
   ]
  },
  {
   "cell_type": "code",
   "execution_count": 18,
   "metadata": {
    "id": "VV4KwrCqmbnf"
   },
   "outputs": [],
   "source": [
    "data['Sex'] = data['Sex'].astype('category')\n",
    "data['Sex'] = data['Sex'].cat.codes"
   ]
  },
  {
   "cell_type": "code",
   "execution_count": 19,
   "metadata": {
    "colab": {
     "base_uri": "https://localhost:8080/",
     "height": 206
    },
    "id": "YNvxmY1lo2qs",
    "outputId": "3d689614-f0d3-477a-e03d-d9b52881af5f"
   },
   "outputs": [
    {
     "data": {
      "text/html": [
       "\n",
       "  <div id=\"df-4980c8f9-8a24-46c2-b561-b15da011f7dc\">\n",
       "    <div class=\"colab-df-container\">\n",
       "      <div>\n",
       "<style scoped>\n",
       "    .dataframe tbody tr th:only-of-type {\n",
       "        vertical-align: middle;\n",
       "    }\n",
       "\n",
       "    .dataframe tbody tr th {\n",
       "        vertical-align: top;\n",
       "    }\n",
       "\n",
       "    .dataframe thead th {\n",
       "        text-align: right;\n",
       "    }\n",
       "</style>\n",
       "<table border=\"1\" class=\"dataframe\">\n",
       "  <thead>\n",
       "    <tr style=\"text-align: right;\">\n",
       "      <th></th>\n",
       "      <th>Sex</th>\n",
       "      <th>Length</th>\n",
       "      <th>Diameter</th>\n",
       "      <th>Height</th>\n",
       "      <th>Whole weight</th>\n",
       "      <th>Shucked weight</th>\n",
       "      <th>Viscera weight</th>\n",
       "      <th>Shell weight</th>\n",
       "      <th>Rings</th>\n",
       "    </tr>\n",
       "  </thead>\n",
       "  <tbody>\n",
       "    <tr>\n",
       "      <th>0</th>\n",
       "      <td>2</td>\n",
       "      <td>0.455</td>\n",
       "      <td>0.365</td>\n",
       "      <td>0.095</td>\n",
       "      <td>0.5140</td>\n",
       "      <td>0.2245</td>\n",
       "      <td>0.1010</td>\n",
       "      <td>0.150</td>\n",
       "      <td>15</td>\n",
       "    </tr>\n",
       "    <tr>\n",
       "      <th>1</th>\n",
       "      <td>2</td>\n",
       "      <td>0.350</td>\n",
       "      <td>0.265</td>\n",
       "      <td>0.090</td>\n",
       "      <td>0.2255</td>\n",
       "      <td>0.0995</td>\n",
       "      <td>0.0485</td>\n",
       "      <td>0.070</td>\n",
       "      <td>7</td>\n",
       "    </tr>\n",
       "    <tr>\n",
       "      <th>2</th>\n",
       "      <td>0</td>\n",
       "      <td>0.530</td>\n",
       "      <td>0.420</td>\n",
       "      <td>0.135</td>\n",
       "      <td>0.6770</td>\n",
       "      <td>0.2565</td>\n",
       "      <td>0.1415</td>\n",
       "      <td>0.210</td>\n",
       "      <td>9</td>\n",
       "    </tr>\n",
       "    <tr>\n",
       "      <th>3</th>\n",
       "      <td>2</td>\n",
       "      <td>0.440</td>\n",
       "      <td>0.365</td>\n",
       "      <td>0.125</td>\n",
       "      <td>0.5160</td>\n",
       "      <td>0.2155</td>\n",
       "      <td>0.1140</td>\n",
       "      <td>0.155</td>\n",
       "      <td>10</td>\n",
       "    </tr>\n",
       "    <tr>\n",
       "      <th>4</th>\n",
       "      <td>1</td>\n",
       "      <td>0.330</td>\n",
       "      <td>0.255</td>\n",
       "      <td>0.080</td>\n",
       "      <td>0.2050</td>\n",
       "      <td>0.0895</td>\n",
       "      <td>0.0395</td>\n",
       "      <td>0.055</td>\n",
       "      <td>7</td>\n",
       "    </tr>\n",
       "  </tbody>\n",
       "</table>\n",
       "</div>\n",
       "      <button class=\"colab-df-convert\" onclick=\"convertToInteractive('df-4980c8f9-8a24-46c2-b561-b15da011f7dc')\"\n",
       "              title=\"Convert this dataframe to an interactive table.\"\n",
       "              style=\"display:none;\">\n",
       "        \n",
       "  <svg xmlns=\"http://www.w3.org/2000/svg\" height=\"24px\"viewBox=\"0 0 24 24\"\n",
       "       width=\"24px\">\n",
       "    <path d=\"M0 0h24v24H0V0z\" fill=\"none\"/>\n",
       "    <path d=\"M18.56 5.44l.94 2.06.94-2.06 2.06-.94-2.06-.94-.94-2.06-.94 2.06-2.06.94zm-11 1L8.5 8.5l.94-2.06 2.06-.94-2.06-.94L8.5 2.5l-.94 2.06-2.06.94zm10 10l.94 2.06.94-2.06 2.06-.94-2.06-.94-.94-2.06-.94 2.06-2.06.94z\"/><path d=\"M17.41 7.96l-1.37-1.37c-.4-.4-.92-.59-1.43-.59-.52 0-1.04.2-1.43.59L10.3 9.45l-7.72 7.72c-.78.78-.78 2.05 0 2.83L4 21.41c.39.39.9.59 1.41.59.51 0 1.02-.2 1.41-.59l7.78-7.78 2.81-2.81c.8-.78.8-2.07 0-2.86zM5.41 20L4 18.59l7.72-7.72 1.47 1.35L5.41 20z\"/>\n",
       "  </svg>\n",
       "      </button>\n",
       "      \n",
       "  <style>\n",
       "    .colab-df-container {\n",
       "      display:flex;\n",
       "      flex-wrap:wrap;\n",
       "      gap: 12px;\n",
       "    }\n",
       "\n",
       "    .colab-df-convert {\n",
       "      background-color: #E8F0FE;\n",
       "      border: none;\n",
       "      border-radius: 50%;\n",
       "      cursor: pointer;\n",
       "      display: none;\n",
       "      fill: #1967D2;\n",
       "      height: 32px;\n",
       "      padding: 0 0 0 0;\n",
       "      width: 32px;\n",
       "    }\n",
       "\n",
       "    .colab-df-convert:hover {\n",
       "      background-color: #E2EBFA;\n",
       "      box-shadow: 0px 1px 2px rgba(60, 64, 67, 0.3), 0px 1px 3px 1px rgba(60, 64, 67, 0.15);\n",
       "      fill: #174EA6;\n",
       "    }\n",
       "\n",
       "    [theme=dark] .colab-df-convert {\n",
       "      background-color: #3B4455;\n",
       "      fill: #D2E3FC;\n",
       "    }\n",
       "\n",
       "    [theme=dark] .colab-df-convert:hover {\n",
       "      background-color: #434B5C;\n",
       "      box-shadow: 0px 1px 3px 1px rgba(0, 0, 0, 0.15);\n",
       "      filter: drop-shadow(0px 1px 2px rgba(0, 0, 0, 0.3));\n",
       "      fill: #FFFFFF;\n",
       "    }\n",
       "  </style>\n",
       "\n",
       "      <script>\n",
       "        const buttonEl =\n",
       "          document.querySelector('#df-4980c8f9-8a24-46c2-b561-b15da011f7dc button.colab-df-convert');\n",
       "        buttonEl.style.display =\n",
       "          google.colab.kernel.accessAllowed ? 'block' : 'none';\n",
       "\n",
       "        async function convertToInteractive(key) {\n",
       "          const element = document.querySelector('#df-4980c8f9-8a24-46c2-b561-b15da011f7dc');\n",
       "          const dataTable =\n",
       "            await google.colab.kernel.invokeFunction('convertToInteractive',\n",
       "                                                     [key], {});\n",
       "          if (!dataTable) return;\n",
       "\n",
       "          const docLinkHtml = 'Like what you see? Visit the ' +\n",
       "            '<a target=\"_blank\" href=https://colab.research.google.com/notebooks/data_table.ipynb>data table notebook</a>'\n",
       "            + ' to learn more about interactive tables.';\n",
       "          element.innerHTML = '';\n",
       "          dataTable['output_type'] = 'display_data';\n",
       "          await google.colab.output.renderOutput(dataTable, element);\n",
       "          const docLink = document.createElement('div');\n",
       "          docLink.innerHTML = docLinkHtml;\n",
       "          element.appendChild(docLink);\n",
       "        }\n",
       "      </script>\n",
       "    </div>\n",
       "  </div>\n",
       "  "
      ],
      "text/plain": [
       "   Sex  Length  Diameter  Height  Whole weight  Shucked weight  \\\n",
       "0    2   0.455     0.365   0.095        0.5140          0.2245   \n",
       "1    2   0.350     0.265   0.090        0.2255          0.0995   \n",
       "2    0   0.530     0.420   0.135        0.6770          0.2565   \n",
       "3    2   0.440     0.365   0.125        0.5160          0.2155   \n",
       "4    1   0.330     0.255   0.080        0.2050          0.0895   \n",
       "\n",
       "   Viscera weight  Shell weight  Rings  \n",
       "0          0.1010         0.150     15  \n",
       "1          0.0485         0.070      7  \n",
       "2          0.1415         0.210      9  \n",
       "3          0.1140         0.155     10  \n",
       "4          0.0395         0.055      7  "
      ]
     },
     "execution_count": 19,
     "metadata": {},
     "output_type": "execute_result"
    }
   ],
   "source": [
    "data.head()"
   ]
  },
  {
   "cell_type": "markdown",
   "metadata": {
    "id": "-imckuUApFuj"
   },
   "source": [
    "# ***8. Split the data into dependent and independent variables.***"
   ]
  },
  {
   "cell_type": "code",
   "execution_count": 20,
   "metadata": {
    "id": "Tqp-n5GNpNfL"
   },
   "outputs": [],
   "source": [
    "x = data.iloc[:, :-1].values\n",
    "Y = data.iloc[:, -1]"
   ]
  },
  {
   "cell_type": "code",
   "execution_count": 21,
   "metadata": {
    "colab": {
     "base_uri": "https://localhost:8080/"
    },
    "id": "roDUOfIlqYdg",
    "outputId": "2f6b4ad0-557e-4483-cde4-2f3f3cc0dab0"
   },
   "outputs": [
    {
     "name": "stdout",
     "output_type": "stream",
     "text": [
      "[[2.     0.455  0.365  ... 0.2245 0.101  0.15  ]\n",
      " [2.     0.35   0.265  ... 0.0995 0.0485 0.07  ]\n",
      " [0.     0.53   0.42   ... 0.2565 0.1415 0.21  ]\n",
      " ...\n",
      " [2.     0.6    0.475  ... 0.5255 0.2875 0.308 ]\n",
      " [0.     0.625  0.485  ... 0.531  0.261  0.296 ]\n",
      " [2.     0.71   0.555  ... 0.9455 0.3765 0.495 ]]\n"
     ]
    }
   ],
   "source": [
    "print(x)"
   ]
  },
  {
   "cell_type": "code",
   "execution_count": 22,
   "metadata": {
    "colab": {
     "base_uri": "https://localhost:8080/"
    },
    "id": "O8NV6Zc6qbGC",
    "outputId": "4beea78b-6e8d-4aba-ebf9-897b1ca9f2c7"
   },
   "outputs": [
    {
     "name": "stdout",
     "output_type": "stream",
     "text": [
      "0       15\n",
      "1        7\n",
      "2        9\n",
      "3       10\n",
      "4        7\n",
      "        ..\n",
      "4172    11\n",
      "4173    10\n",
      "4174     9\n",
      "4175    10\n",
      "4176    12\n",
      "Name: Rings, Length: 4177, dtype: int64\n"
     ]
    }
   ],
   "source": [
    "print(Y)"
   ]
  },
  {
   "cell_type": "markdown",
   "metadata": {
    "id": "d9r038s_qtGD"
   },
   "source": [
    "# ***9. Scale the independent variables.***"
   ]
  },
  {
   "cell_type": "code",
   "execution_count": 23,
   "metadata": {
    "id": "7Dx_b-uyq6KG"
   },
   "outputs": [],
   "source": [
    "from sklearn.preprocessing import scale"
   ]
  },
  {
   "cell_type": "code",
   "execution_count": 26,
   "metadata": {
    "colab": {
     "base_uri": "https://localhost:8080/"
    },
    "id": "V5rsL6bSrHKb",
    "outputId": "dae969c8-5891-446c-a1b7-8ed9394a30f3"
   },
   "outputs": [
    {
     "data": {
      "text/plain": [
       "array([ 1.57154357, -0.91001299, -0.28962385, ..., -0.28962385,\n",
       "        0.02057072,  0.64095986])"
      ]
     },
     "execution_count": 26,
     "metadata": {},
     "output_type": "execute_result"
    }
   ],
   "source": [
    "scaler = scale(data['Rings'])\n",
    "scaler"
   ]
  },
  {
   "cell_type": "markdown",
   "metadata": {
    "id": "U1jSVv2IrXkd"
   },
   "source": [
    "# ***10. Split the data into training and testing.***"
   ]
  },
  {
   "cell_type": "code",
   "execution_count": 28,
   "metadata": {
    "id": "VDKT0MtKrdac"
   },
   "outputs": [],
   "source": [
    "from sklearn.model_selection import train_test_split"
   ]
  },
  {
   "cell_type": "code",
   "execution_count": 29,
   "metadata": {
    "id": "gFJgHbjar0gA"
   },
   "outputs": [],
   "source": [
    "X = data.drop(['Rings'], axis=1)\n",
    "y = data['Rings']"
   ]
  },
  {
   "cell_type": "code",
   "execution_count": 53,
   "metadata": {
    "id": "ntfp-tfTrvMW"
   },
   "outputs": [],
   "source": [
    "X_train, X_test, y_train, y_test = train_test_split(X,y, test_size=0.20, random_state=0)"
   ]
  },
  {
   "cell_type": "markdown",
   "metadata": {
    "id": "5ztlolPMsiao"
   },
   "source": [
    "# ***11. Build the Model***"
   ]
  },
  {
   "cell_type": "code",
   "execution_count": 63,
   "metadata": {
    "id": "0EAtSQLssmcG"
   },
   "outputs": [],
   "source": [
    "from sklearn.linear_model import LogisticRegression\n",
    "from sklearn.linear_model import LinearRegression\n",
    "\n",
    "model = LinearRegression()"
   ]
  },
  {
   "cell_type": "markdown",
   "metadata": {
    "id": "bHpF_3gVtr7X"
   },
   "source": [
    "# ***12. Train the Model.***"
   ]
  },
  {
   "cell_type": "code",
   "execution_count": 65,
   "metadata": {
    "colab": {
     "base_uri": "https://localhost:8080/"
    },
    "id": "hDbixMA4uCzQ",
    "outputId": "c11729ca-4e58-47df-f38f-64cfa99d4509"
   },
   "outputs": [
    {
     "data": {
      "text/plain": [
       "LinearRegression()"
      ]
     },
     "execution_count": 65,
     "metadata": {},
     "output_type": "execute_result"
    }
   ],
   "source": [
    "model.fit(X_train, y_train)"
   ]
  },
  {
   "cell_type": "markdown",
   "metadata": {
    "id": "_yTAHUzvuUwb"
   },
   "source": [
    "# ***13. Test the Model***"
   ]
  },
  {
   "cell_type": "code",
   "execution_count": 66,
   "metadata": {
    "colab": {
     "base_uri": "https://localhost:8080/"
    },
    "id": "1hGxS_vRuJw7",
    "outputId": "97c1e657-82d7-4a74-c6fc-416aa6b6f0e2"
   },
   "outputs": [
    {
     "data": {
      "text/plain": [
       "array([13.0578998 ,  9.65069759, 10.38007246,  5.64401046, 10.70865673,\n",
       "       11.95000656,  7.83730768,  9.82182786,  8.42144478, 12.27630026,\n",
       "        8.69875967,  6.43514928,  7.98532548,  9.00409661,  5.80540646,\n",
       "        9.22631732,  7.75674819, 13.89379232, 10.99393621,  8.191136  ,\n",
       "        7.74226919,  7.16197224,  9.34707873,  7.33539462, 10.12590381,\n",
       "       11.42356751,  4.77911095, 13.11265461, 10.80021849, 11.37378523,\n",
       "        7.95417918,  4.67963874, 11.17116906, 12.98656894,  7.52021898,\n",
       "        8.32223903,  8.95069981, 10.21202783,  8.57809836, 11.54668603,\n",
       "       11.51067522,  9.17253126, 11.83277766, 11.74814667, 12.4455113 ,\n",
       "        9.39703875,  9.06201317, 11.69573378, 12.12000755,  8.22916099,\n",
       "       11.67756468,  7.45586538,  8.95521002, 13.57376462,  9.03521398,\n",
       "        7.70908622,  6.20614518,  7.31923028,  7.671198  ,  7.34961423,\n",
       "        9.68959501,  8.92770933, 10.34495216,  8.0660713 ,  8.34762788,\n",
       "       12.35724297, 12.45949475, 12.32404144,  9.09596764, 14.4344023 ,\n",
       "        9.68732693, 19.11344671, 10.69665454, 10.3693138 ,  9.794869  ,\n",
       "        9.43139234,  9.98754099,  9.7580262 , 11.23172344,  8.16553884,\n",
       "        9.32113344,  6.29715995,  7.46670761, 12.09228677, 10.08883097,\n",
       "        8.42705529,  9.94801474, 12.56743256,  5.08096455,  7.27368201,\n",
       "       10.37122832, 10.4539648 ,  7.9587845 ,  2.64793301, 11.78091046,\n",
       "        6.40071609, 10.62880583,  7.61282438, 14.15652772,  9.59778415,\n",
       "        9.93651404, 11.81984845,  9.85777353, 11.03325926,  5.7773092 ,\n",
       "       10.27265046,  7.74340168,  7.23998129,  7.82024351, 13.64865631,\n",
       "        9.17855178, 11.10342466, 10.95175731,  8.19392572, 14.24374373,\n",
       "       10.27096756, 11.77397038, 13.1180815 ,  5.19730763,  9.84974935,\n",
       "        7.46193808, 11.52517304,  7.13750071,  9.6155467 , 10.81339285,\n",
       "       13.07745338, 10.57811411, 10.84660575,  8.14515192, 10.6000068 ,\n",
       "       10.28900316,  7.96118326,  9.59362482, 11.28589127, 11.36096041,\n",
       "       10.97032332, 10.25688373,  9.3475307 ,  7.51400966, 13.95184588,\n",
       "       10.50147994, 11.22732278,  7.46383679,  8.31136665, 11.34275759,\n",
       "       10.10748916,  9.58739513,  7.70775566,  8.4685421 ,  6.88299037,\n",
       "        9.25478415, 17.36649603,  7.38282194, 10.98645589,  7.63705776,\n",
       "        6.97209477, 11.51719223,  7.34712807, 13.12904488,  7.91097354,\n",
       "       10.17746316,  7.27387472, 10.45385221, 10.65450938,  5.49062805,\n",
       "       12.96864251,  7.41562987,  6.72012825, 11.16787389,  9.94918504,\n",
       "        8.90194882,  5.40265792,  8.29365828, 10.4233215 , 12.67772892,\n",
       "       10.24807078,  5.95894173,  8.71639987,  8.07125281, 11.89145589,\n",
       "        9.74577251, 10.44815542,  8.44117389,  9.25262846, 12.38880824,\n",
       "       10.54858905,  8.74649528,  8.86028017,  6.97007586,  8.79210654,\n",
       "       10.61469442,  9.74585116,  9.69656929, 10.33494963, 10.30156279,\n",
       "        9.04842709,  8.18257908,  8.67404093,  5.22743157, 15.49657544,\n",
       "        9.34272532, 10.83558365, 14.76073866,  9.68436527,  9.30259314,\n",
       "       12.36578362,  6.41027408, 12.40787698, 10.1382739 , 12.05746003,\n",
       "        5.91885729, 10.49497912, 10.78920536,  9.97205949, 11.6075888 ,\n",
       "       10.76014124, 10.51739042, 11.12748037,  5.88096425, 12.63654052,\n",
       "       11.71840773, 11.94164617,  8.4774687 ,  9.56488819, 11.53136874,\n",
       "       14.08656669, 11.16188459,  9.54085065, 12.45269233,  8.82116307,\n",
       "        9.36172026,  8.52493771,  6.3048915 , 11.50942317,  7.06475286,\n",
       "       12.26172397,  8.39904101,  5.76306846,  8.44267224, 10.22757566,\n",
       "        8.88993409,  9.92589478, 11.59930305,  9.75476462, 10.61240934,\n",
       "       10.16637325, 11.44519202,  8.30368463, 11.04947473, 14.6234784 ,\n",
       "       12.23527364,  7.98838185, 12.62011888,  8.16099404, 11.34335137,\n",
       "       11.08932996,  7.66408623,  9.6520334 , 10.55385913, 15.38236965,\n",
       "       10.38962301,  9.26520118, 10.66003037,  7.19069846, 10.97402408,\n",
       "        8.71067569,  9.04594287,  7.30651926,  8.22590281,  7.30840746,\n",
       "       11.08257658,  8.87293741,  8.34353916,  8.48207433,  6.61218915,\n",
       "       10.80650917, 13.48077251,  8.80733859, 10.01711169,  9.57068561,\n",
       "        7.32574095, 11.47819159,  7.79304049,  9.64085947, 10.09869829,\n",
       "       11.89519106,  7.38926834, 10.8200652 , 10.41216707, 12.97628273,\n",
       "        8.10790092,  9.06515224,  6.31605776, 10.08975614,  7.49185343,\n",
       "        7.66865311,  7.05545115,  6.30734031, 10.38319634, 15.43695087,\n",
       "        8.82798512,  8.47280393, 12.63507324, 10.03317869,  8.8666458 ,\n",
       "        9.15858252,  9.70838285, 10.1564537 , 11.29489339,  9.08771297,\n",
       "        9.14125084, 10.79326368,  8.414986  , 10.88309357, 17.09202477,\n",
       "       11.6590572 ,  9.33086277,  6.95745153,  8.86664676, 10.44826813,\n",
       "       11.11535221, 10.01056164,  9.71944995,  9.91687068, 12.13524284,\n",
       "        9.58015705,  9.5233551 , 10.28279996, 15.46648667,  9.69707704,\n",
       "        8.85904193, 11.51211849,  5.25697969, 11.39836526, 10.60137813,\n",
       "       11.04582088,  6.96206075,  9.28815407, 11.30948668, 10.52260505,\n",
       "        9.87989725,  9.98044676, 10.47522493, 11.4623382 , 12.27859868,\n",
       "        7.27337373,  6.30065202, 12.40604944, 13.07174914,  7.72267699,\n",
       "        6.54511797,  8.99451272, 12.42148804, 10.16045122, 10.90060356,\n",
       "        9.82073963, 10.80540157,  8.48530983,  8.47969061, 10.19220312,\n",
       "        8.79982461, 10.03577534,  8.19852281,  9.0125786 ,  9.66595251,\n",
       "        6.04096334,  6.63181643,  9.10580533,  8.03805882, 10.22755309,\n",
       "       10.48442193,  7.68945599, 11.58803804,  7.96466503, 12.75516085,\n",
       "       13.20826432, 13.09914978,  8.42106864, 10.76570395,  5.09317661,\n",
       "        8.90228053, 10.37050782,  9.87546681, 12.72462026,  6.4803746 ,\n",
       "       11.1162565 , 15.68663084,  9.15550393,  7.99291785,  6.77668291,\n",
       "       15.29231331, 10.02599115, 11.26247749,  9.78990233, 17.95095416,\n",
       "        7.74718761, 10.99670307,  9.60452024, 11.14276059, 10.3454692 ,\n",
       "        8.93358489,  8.54039016,  6.86853398, 13.38851089,  8.67574351,\n",
       "       10.10343243,  6.4491462 , 11.61922135, 15.86199449,  9.87775281,\n",
       "        9.96061033,  7.76757912, 10.26568614, 11.1484908 , 13.90005903,\n",
       "       11.29943438, 13.56988597, 11.66809717, 14.71619941, 10.07336465,\n",
       "        9.06858194,  9.49202216, 10.78297389, 11.51487389,  6.29986881,\n",
       "        9.58657388, 10.52286249, 11.61849092, 11.42862075, 13.76632448,\n",
       "        9.83981063, 10.6073083 ,  8.83773718, 12.98430548,  9.14458124,\n",
       "        9.3441121 , 11.98740409,  9.84740147,  9.84416933, 10.64825461,\n",
       "        8.5424723 ,  7.11335562, 13.24909186,  8.58362514,  6.95078887,\n",
       "        7.5244922 , 13.35586488,  5.83022743, 10.55316468, 10.65174722,\n",
       "        4.81839953,  7.23245521,  9.69685166,  7.17175668, -3.03009781,\n",
       "        8.51805782, 11.48949422,  9.66809048,  8.96397156, 12.03760146,\n",
       "        7.50184588, 15.55241648,  8.38292714, 10.51512808,  9.54632058,\n",
       "       12.46848907,  7.04320275, 19.95100797, 10.21369756,  8.88577399,\n",
       "        7.87041021, 10.65433895,  8.11748644, 14.95867875,  8.97100288,\n",
       "        9.18671061,  8.26552301,  8.27023242,  7.70569528, 11.00878163,\n",
       "       10.32601771, 11.91956344,  8.875996  , 11.76458843, 13.64799664,\n",
       "       12.12818775, 10.06696258,  9.84752163,  8.33022143, 10.898715  ,\n",
       "        5.05160962,  9.258308  , 12.84968073, 10.8267942 ,  7.24488031,\n",
       "        7.8206788 ,  7.97411191,  6.60838017, 11.28413821,  9.57154249,\n",
       "        7.49057189, 12.67145693,  7.30286576, 12.06169638, 10.61447725,\n",
       "       10.50244571, 11.28582578, 14.2341514 ,  8.04518108,  6.14813366,\n",
       "        9.78304052,  8.94806361, 14.44585974, 14.38866492,  9.50847048,\n",
       "        8.56672497, 10.60141669,  9.92185661, 14.06262744, 10.43732586,\n",
       "       10.56419036, 10.0420861 , 10.80598553,  9.75987699,  7.5164226 ,\n",
       "       13.17183373,  8.99873314,  9.73034949,  8.8607597 ,  8.83977033,\n",
       "        8.2681225 ,  7.81964849,  8.51927366, 10.16361572,  5.4983683 ,\n",
       "        9.75812942, 12.26497719, 12.11191282,  7.76069257, 13.57650357,\n",
       "        8.10058036,  9.9611768 ,  7.65873896, 12.51981692,  7.14773765,\n",
       "       10.6431633 ,  8.17389738,  8.55780883, 10.63710617,  9.87413372,\n",
       "       11.06676163, 13.81154051,  8.29374645, 14.38084333, 11.04320665,\n",
       "        8.07017591,  8.43675531,  9.49243183, 10.22689785, 10.1597581 ,\n",
       "       11.86182369,  9.38077247, 11.82083321,  8.98523233, 10.99020082,\n",
       "        6.09969207,  8.41870914,  8.13396234, 10.42621802,  8.21125868,\n",
       "       10.96361834,  8.48552966,  8.5956512 ,  9.59084151,  9.12313993,\n",
       "        8.24683266, 11.14579546,  9.860366  , 11.31507147,  4.9857256 ,\n",
       "       13.24141499,  6.46220718,  5.96395045,  6.58636724,  8.55009351,\n",
       "        9.05620368, 20.80787988, 10.58820618,  9.12514466, 12.48172308,\n",
       "        6.16521223,  9.81476879, 10.24892332,  8.01228457, 12.2914378 ,\n",
       "       10.42756605,  4.66857616,  8.62380674,  6.78144598,  9.95650012,\n",
       "        8.94289328, 13.17005423, 10.25253495,  9.20038166, 12.02538299,\n",
       "        9.9888545 ,  9.89338932,  7.13134094,  9.56517479, 11.8237204 ,\n",
       "        7.63166443, 13.18050502, 10.02546791,  9.18801016, 10.9204016 ,\n",
       "       13.65904501,  9.0462177 ,  7.97604385, 14.13295914, 10.53321247,\n",
       "        9.87223968, 12.08617509,  7.53006405,  9.94520908, 11.19762913,\n",
       "       11.65164679,  8.90704745, 13.5712803 ,  9.11689046, 10.61453105,\n",
       "       10.11099074,  7.48502768,  8.27231922,  8.89600007,  8.37282243,\n",
       "       10.08928763,  5.57344232, 14.78034759,  9.58750318,  9.95653305,\n",
       "       10.08987872, 10.1348375 , 11.36248968,  9.66697724,  9.78981353,\n",
       "        9.74562785,  7.77830291,  9.79964107, 12.75313604, 11.17492921,\n",
       "        7.9333007 ,  8.6808103 ,  8.61092928,  9.61782074,  7.26916981,\n",
       "       12.83282155,  7.83993272,  8.51769004, 10.64234536, 13.4550091 ,\n",
       "       11.36703029,  8.03719183, 13.34429983, 11.32354304, 11.94200594,\n",
       "        8.77553097,  9.20495671,  6.17837689,  6.92205247, 11.34063304,\n",
       "        9.58168813, 11.68751273, 15.41604405, 12.06891896,  5.87670535,\n",
       "        7.82762497,  8.83607988,  6.40910868,  7.25747281, 15.74934858,\n",
       "       13.33340102,  9.51188283, 10.61243244, 10.01151798,  9.28454104,\n",
       "        7.81048682, 11.47334976, 11.18165778, 10.82881263, 16.90919391,\n",
       "        9.30431394, 11.45480472, 11.62690248, 13.94248762,  7.87872497,\n",
       "       10.25822277, 15.27003307, 12.92250942,  8.03184965,  8.18548549,\n",
       "        7.21423212, 10.86862754,  9.36343844, 13.17650271,  9.33253658,\n",
       "       11.56450345,  9.93202337,  8.5969091 , 13.18277872, 12.02980838,\n",
       "        6.5067893 ,  5.33601319,  6.18696052, 11.04694587,  7.5308131 ,\n",
       "        9.3360148 , 11.21882728,  8.85615676,  7.66555033,  8.6735054 ,\n",
       "       13.14865406,  5.39629462,  9.44109349,  7.17629249, 13.4068597 ,\n",
       "        6.1251202 ,  8.40992182,  8.20345949, 11.91429942, 10.99626793,\n",
       "        8.24960969, 11.36646854, 11.87334034, 12.80027876,  9.02517981,\n",
       "       10.49731965,  7.65166251,  7.97056669,  8.20896501,  6.43539454,\n",
       "       12.18576284,  8.65935624,  7.28137881,  7.08619371, 10.38347928,\n",
       "        7.58824339,  9.40741532,  8.50564188,  9.0766107 ,  9.16891232,\n",
       "       10.03488382,  9.80141312,  7.78750356, 11.0476473 ,  8.26489623,\n",
       "       11.87119195,  9.99773961,  7.52051299,  9.02271288, 14.21028122,\n",
       "        7.12178618,  6.91141124,  7.85548324,  6.31223701, 10.90172957,\n",
       "        9.48994746, 10.40765323,  6.72810468, 11.60314632,  8.0197413 ,\n",
       "        7.3318186 ,  9.23098273, 13.52770271, 10.2185936 ,  8.87297415,\n",
       "       10.5929033 ,  7.49604018, 13.14528727,  7.68594864, 10.14540584,\n",
       "       14.7178209 , 12.3644114 ,  7.91067019,  7.36914189,  8.70356992,\n",
       "        9.04938691,  9.70592901,  8.71925666,  9.73606146, 10.93918782,\n",
       "        9.86451804, 10.66068696, 13.87956094, 11.27633184, 13.05751097,\n",
       "        8.89835949, 11.58307306,  9.94914526,  4.80436981, 10.84364966,\n",
       "        9.94802262,  8.3637543 ,  8.63461677,  6.44075789,  7.01021957,\n",
       "        8.53059332,  9.3174385 , 11.06943945,  7.99945103,  8.67844371,\n",
       "        9.14937317,  7.56002112,  9.84316927, 12.25226661, 10.65457711,\n",
       "        9.56666116,  9.48945658, 12.05379025, 12.50659528,  9.4912614 ,\n",
       "        6.22251247, 10.91000762, 11.00253446,  6.96258425,  8.35802034,\n",
       "        8.74511893, 11.7429738 ,  9.93199036,  6.86208366,  7.11609053,\n",
       "        8.56497471, 10.47847736,  8.67578201,  8.55996032, 12.08753558,\n",
       "        5.78827832])"
      ]
     },
     "execution_count": 66,
     "metadata": {},
     "output_type": "execute_result"
    }
   ],
   "source": [
    "prediction = model.predict(X_test)\n",
    "prediction"
   ]
  },
  {
   "cell_type": "markdown",
   "metadata": {
    "id": "OQuG-crkur35"
   },
   "source": [
    "# ***14. Measure the performance using Metrics.***"
   ]
  },
  {
   "cell_type": "code",
   "execution_count": 70,
   "metadata": {
    "id": "imcCr-1j7lV8"
   },
   "outputs": [],
   "source": [
    "from sklearn.metrics import r2_score, mean_squared_error"
   ]
  },
  {
   "cell_type": "code",
   "execution_count": 59,
   "metadata": {
    "id": "tdE87Aljuxl1"
   },
   "outputs": [],
   "source": [
    "from sklearn.metrics import accuracy_score, confusion_matrix, classification_report"
   ]
  },
  {
   "cell_type": "code",
   "execution_count": 69,
   "metadata": {
    "colab": {
     "base_uri": "https://localhost:8080/"
    },
    "id": "HzZNiTwM7qsi",
    "outputId": "c45df4d3-f5d3-4aa8-dc06-3197a9730b28"
   },
   "outputs": [
    {
     "data": {
      "text/plain": [
       "0.5300147524184924"
      ]
     },
     "execution_count": 69,
     "metadata": {},
     "output_type": "execute_result"
    }
   ],
   "source": [
    "r2_score(y_test, prediction)"
   ]
  },
  {
   "cell_type": "code",
   "execution_count": 71,
   "metadata": {
    "colab": {
     "base_uri": "https://localhost:8080/"
    },
    "id": "EOlBj8W_8Tf6",
    "outputId": "186b2b73-ae3c-459b-9ea7-94ba564ef809"
   },
   "outputs": [
    {
     "data": {
      "text/plain": [
       "5.10418601019335"
      ]
     },
     "execution_count": 71,
     "metadata": {},
     "output_type": "execute_result"
    }
   ],
   "source": [
    "mean_squared_error(y_test, prediction)"
   ]
  },
  {
   "cell_type": "code",
   "execution_count": 61,
   "metadata": {
    "colab": {
     "base_uri": "https://localhost:8080/"
    },
    "id": "U7nkX73tvMZ4",
    "outputId": "d9322a3f-a685-4e5e-cced-981864ab8a79"
   },
   "outputs": [
    {
     "data": {
      "text/plain": [
       "0.26913875598086123"
      ]
     },
     "execution_count": 61,
     "metadata": {},
     "output_type": "execute_result"
    }
   ],
   "source": [
    "accuracy_score(y_test, prediction)"
   ]
  }
 ],
 "metadata": {
  "colab": {
   "collapsed_sections": [],
   "provenance": []
  },
  "kernelspec": {
   "display_name": "Python 3 (ipykernel)",
   "language": "python",
   "name": "python3"
  },
  "language_info": {
   "codemirror_mode": {
    "name": "ipython",
    "version": 3
   },
   "file_extension": ".py",
   "mimetype": "text/x-python",
   "name": "python",
   "nbconvert_exporter": "python",
   "pygments_lexer": "ipython3",
   "version": "3.9.12"
  }
 },
 "nbformat": 4,
 "nbformat_minor": 1
}
